{
  "nbformat": 4,
  "nbformat_minor": 0,
  "metadata": {
    "colab": {
      "provenance": [],
      "include_colab_link": true
    },
    "kernelspec": {
      "name": "python3",
      "display_name": "Python 3"
    },
    "language_info": {
      "name": "python"
    }
  },
  "cells": [
    {
      "cell_type": "markdown",
      "metadata": {
        "id": "view-in-github",
        "colab_type": "text"
      },
      "source": [
        "<a href=\"https://colab.research.google.com/github/davidivan13/Python-for-Data-Science/blob/main/NumPy_101_part_2_3.ipynb\" target=\"_parent\"><img src=\"https://colab.research.google.com/assets/colab-badge.svg\" alt=\"Open In Colab\"/></a>"
      ]
    },
    {
      "cell_type": "code",
      "source": [
        "import numpy as np"
      ],
      "metadata": {
        "id": "IXg8ZxlsATv0"
      },
      "execution_count": 1,
      "outputs": []
    },
    {
      "cell_type": "markdown",
      "source": [
        "# Slicing and Indexing"
      ],
      "metadata": {
        "id": "B2ex8B3mdDnn"
      }
    },
    {
      "cell_type": "markdown",
      "source": [
        "## Field Access dan Basic Indexing"
      ],
      "metadata": {
        "id": "7v5SZV3Pm3g3"
      }
    },
    {
      "cell_type": "code",
      "source": [
        "# contoh 1 index tunggal, field index\n",
        "a = np.arange(10)\n",
        "print(a)\n",
        "b = a[5]\n",
        "print(b)"
      ],
      "metadata": {
        "id": "JHx5rmcbegBR",
        "colab": {
          "base_uri": "https://localhost:8080/"
        },
        "outputId": "13a6b1e9-ed6e-403e-a91f-e08f24c19894"
      },
      "execution_count": 2,
      "outputs": [
        {
          "output_type": "stream",
          "name": "stdout",
          "text": [
            "[0 1 2 3 4 5 6 7 8 9]\n",
            "5\n"
          ]
        }
      ]
    },
    {
      "cell_type": "code",
      "source": [
        "# Contoh 2\n",
        "a = np.arange(10)\n",
        "print(a)\n",
        "s = slice(2,7,2)\n",
        "print(a[s])"
      ],
      "metadata": {
        "id": "8VnE02D-ePNF",
        "colab": {
          "base_uri": "https://localhost:8080/"
        },
        "outputId": "5ef1b3bb-c972-4992-a949-c7893060766a"
      },
      "execution_count": 3,
      "outputs": [
        {
          "output_type": "stream",
          "name": "stdout",
          "text": [
            "[0 1 2 3 4 5 6 7 8 9]\n",
            "[2 4 6]\n"
          ]
        }
      ]
    },
    {
      "cell_type": "code",
      "source": [
        "#contoh 3\n",
        "a = np.arange(10)\n",
        "b = a[2:7:2]\n",
        "print(b)"
      ],
      "metadata": {
        "id": "J5zx-1D8eRkC",
        "colab": {
          "base_uri": "https://localhost:8080/"
        },
        "outputId": "7557795a-9987-4840-a93c-9290b40d9b49"
      },
      "execution_count": 4,
      "outputs": [
        {
          "output_type": "stream",
          "name": "stdout",
          "text": [
            "[2 4 6]\n"
          ]
        }
      ]
    },
    {
      "cell_type": "code",
      "source": [
        "#contoh 4 slicing index hanya dengan menggunakan parameter start\n",
        "a = np.arange(10)\n",
        "print(a)\n",
        "print(a[2:])"
      ],
      "metadata": {
        "colab": {
          "base_uri": "https://localhost:8080/"
        },
        "id": "6G44_1acdC76",
        "outputId": "eb4aef3b-929a-4da5-dd11-a222cf77553b"
      },
      "execution_count": 5,
      "outputs": [
        {
          "output_type": "stream",
          "name": "stdout",
          "text": [
            "[0 1 2 3 4 5 6 7 8 9]\n",
            "[2 3 4 5 6 7 8 9]\n"
          ]
        }
      ]
    },
    {
      "cell_type": "code",
      "source": [
        "#contoh 5 slicing menggunakan start dan stop index\n",
        "a = np.arange(10)\n",
        "print(a)\n",
        "print(a[2:5])"
      ],
      "metadata": {
        "colab": {
          "base_uri": "https://localhost:8080/"
        },
        "id": "vCBF0-_LjQEn",
        "outputId": "c0eaac50-8c61-4216-8575-e05e31591479"
      },
      "execution_count": 6,
      "outputs": [
        {
          "output_type": "stream",
          "name": "stdout",
          "text": [
            "[0 1 2 3 4 5 6 7 8 9]\n",
            "[2 3 4]\n"
          ]
        }
      ]
    },
    {
      "cell_type": "code",
      "source": [
        "#contoh 6 slicing pada array dua dimensi\n",
        "a = np.array([[1,2,3],[3,4,5],[4,5,6]])\n",
        "print(a)\n",
        "\n",
        "# slice items starting from index\n",
        "print('slice array dari index a[1:]')\n",
        "print(a[1:])"
      ],
      "metadata": {
        "colab": {
          "base_uri": "https://localhost:8080/"
        },
        "id": "BSKHia7lkn5B",
        "outputId": "276fc719-7477-4152-fdf4-a59feaf8c297"
      },
      "execution_count": 7,
      "outputs": [
        {
          "output_type": "stream",
          "name": "stdout",
          "text": [
            "[[1 2 3]\n",
            " [3 4 5]\n",
            " [4 5 6]]\n",
            "slice array dari index a[1:]\n",
            "[[3 4 5]\n",
            " [4 5 6]]\n"
          ]
        }
      ]
    },
    {
      "cell_type": "code",
      "source": [
        "#contoh 7 menggunakan ellipsis (...)\n",
        "a = np.array([[1,2,3],\n",
        "              [3,4,5],\n",
        "              [4,5,6]])\n",
        "\n",
        "print('Array kita:')\n",
        "print(a)\n",
        "print('\\n')\n",
        "\n",
        "# ini mengembalikan item di kolom kedua dari array utama\n",
        "print('item dari kolom kedua:')\n",
        "print(a[...,1])\n",
        "print('\\n')\n",
        "\n",
        "# slice semua item dari baris kedua\n",
        "print('Item dari baris kedua:')\n",
        "print(a[1,...])\n",
        "print('\\n')\n",
        "\n",
        "# kita akan slice item dari kolom 1 dan seterusnya\n",
        "print('item dari kolom 1 dan seterusnya:')\n",
        "print(a[...,1:])\n"
      ],
      "metadata": {
        "colab": {
          "base_uri": "https://localhost:8080/"
        },
        "id": "qJu7MehAlWQu",
        "outputId": "b8d73374-9126-48c6-897e-f0f10104d325"
      },
      "execution_count": 8,
      "outputs": [
        {
          "output_type": "stream",
          "name": "stdout",
          "text": [
            "Array kita:\n",
            "[[1 2 3]\n",
            " [3 4 5]\n",
            " [4 5 6]]\n",
            "\n",
            "\n",
            "item dari kolom kedua:\n",
            "[2 4 5]\n",
            "\n",
            "\n",
            "Item dari baris kedua:\n",
            "[3 4 5]\n",
            "\n",
            "\n",
            "item dari kolom 1 dan seterusnya:\n",
            "[[2 3]\n",
            " [4 5]\n",
            " [5 6]]\n"
          ]
        }
      ]
    },
    {
      "cell_type": "markdown",
      "source": [
        "Study Case\n",
        "1. Buat array 2 dimensi dengan shape=(3,4)\n",
        "2. Index dengan mengambil item dari baris kedua dan seterusnya sampai bariss terakhir\n",
        "3. Index dengan mengambil item dari kolom 1 dan 2"
      ],
      "metadata": {
        "id": "VDkiOpTCpcHJ"
      }
    },
    {
      "cell_type": "code",
      "source": [
        "#isi di bagian sini\n",
        "a = np.array([[1,2,3,4],[4,5,6,7],[7,8,9,0]])\n",
        "print('Array:')\n",
        "print(a)\n",
        "print('\\n')\n",
        "\n",
        "print('Item dari baris ke-2 sampai bariss terakhir:')\n",
        "print(a[1:,:])\n",
        "print('\\n')\n",
        "\n",
        "print('item dari kolom 1 dan 2:')\n",
        "print(a[:,1:3])"
      ],
      "metadata": {
        "id": "CUz-haM5w_o8",
        "colab": {
          "base_uri": "https://localhost:8080/"
        },
        "outputId": "6f7ccb47-a882-4d85-8740-dca811c30e95"
      },
      "execution_count": 9,
      "outputs": [
        {
          "output_type": "stream",
          "name": "stdout",
          "text": [
            "Array:\n",
            "[[1 2 3 4]\n",
            " [4 5 6 7]\n",
            " [7 8 9 0]]\n",
            "\n",
            "\n",
            "Item dari baris ke-2 sampai bariss terakhir:\n",
            "[[4 5 6 7]\n",
            " [7 8 9 0]]\n",
            "\n",
            "\n",
            "item dari kolom 1 dan 2:\n",
            "[[2 3]\n",
            " [5 6]\n",
            " [8 9]]\n"
          ]
        }
      ]
    },
    {
      "cell_type": "markdown",
      "source": [
        "## Advance Indexing"
      ],
      "metadata": {
        "id": "Skj0e9Kzm8s_"
      }
    },
    {
      "cell_type": "markdown",
      "source": [
        "### Integer Indexing"
      ],
      "metadata": {
        "id": "McSqwpvQnBKv"
      }
    },
    {
      "cell_type": "code",
      "source": [
        "#contoh 1 mengakses element dari array dua dimensi dengan menentukan baris dan kolom yang disalin\n",
        "x = np.array([[1, 2],\n",
        "              [3, 4],\n",
        "              [5, 6]])\n",
        "y = x[[0,1,2], [0,1,0]]\n",
        "print(y)"
      ],
      "metadata": {
        "colab": {
          "base_uri": "https://localhost:8080/"
        },
        "id": "NU-GVZxjmG44",
        "outputId": "9368c913-88e9-4656-cc4e-9b3f6e69e1ea"
      },
      "execution_count": 10,
      "outputs": [
        {
          "output_type": "stream",
          "name": "stdout",
          "text": [
            "[1 4 5]\n"
          ]
        }
      ]
    },
    {
      "cell_type": "code",
      "source": [
        "#contoh 2 mengakses element dari array dua dimensi dengan menentukan baris dan kolom yang disalin\n",
        "x = np.array([[ 0,  1,  2],\n",
        "              [ 3,  4,  5],\n",
        "              [ 6,  7,  8],\n",
        "              [ 9, 10, 11]])\n",
        "\n",
        "print('array asli:')\n",
        "print(x)\n",
        "print('\\n')\n",
        "\n",
        "rows = np.array([[0,0],[3,3]]) #Baris pertama dan keempat\n",
        "cols = np.array([[0,2],[0,2]]) #Kolom pertama dan ketiga\n",
        "y = x[rows,cols]\n",
        "\n",
        "print('Hasil dari index integer:')\n",
        "print(y)"
      ],
      "metadata": {
        "colab": {
          "base_uri": "https://localhost:8080/"
        },
        "id": "U_BbafzQnbqm",
        "outputId": "68511cb2-79fd-4a6f-c693-8d0273bbab15"
      },
      "execution_count": 11,
      "outputs": [
        {
          "output_type": "stream",
          "name": "stdout",
          "text": [
            "array asli:\n",
            "[[ 0  1  2]\n",
            " [ 3  4  5]\n",
            " [ 6  7  8]\n",
            " [ 9 10 11]]\n",
            "\n",
            "\n",
            "Hasil dari index integer:\n",
            "[[ 0  2]\n",
            " [ 9 11]]\n"
          ]
        }
      ]
    },
    {
      "cell_type": "code",
      "source": [
        "#contoh 3\n",
        "x = np.array([[ 0,  1,  2],\n",
        "              [ 3,  4,  5],\n",
        "              [ 6,  7,  8],\n",
        "              [ 9, 10, 11]])\n",
        "\n",
        "print('Array asli:')\n",
        "print(x)\n",
        "print('\\n')\n",
        "\n",
        "# slicing\n",
        "z = x[1:4,1:3]\n",
        "\n",
        "print('setelah, hasil array menjadi:')\n",
        "print(z)\n",
        "print('\\n')\n",
        "\n",
        "# using advanced index for column\n",
        "y = x[1:4,[1,2]]\n",
        "\n",
        "print('slicing dengan advance index untuk column:')\n",
        "print(y)"
      ],
      "metadata": {
        "colab": {
          "base_uri": "https://localhost:8080/"
        },
        "id": "8ezG60TaoXtm",
        "outputId": "a157fe5a-76c1-4999-a1be-3628374e4f8e"
      },
      "execution_count": 12,
      "outputs": [
        {
          "output_type": "stream",
          "name": "stdout",
          "text": [
            "Array asli:\n",
            "[[ 0  1  2]\n",
            " [ 3  4  5]\n",
            " [ 6  7  8]\n",
            " [ 9 10 11]]\n",
            "\n",
            "\n",
            "setelah, hasil array menjadi:\n",
            "[[ 4  5]\n",
            " [ 7  8]\n",
            " [10 11]]\n",
            "\n",
            "\n",
            "slicing dengan advance index untuk column:\n",
            "[[ 4  5]\n",
            " [ 7  8]\n",
            " [10 11]]\n"
          ]
        }
      ]
    },
    {
      "cell_type": "markdown",
      "source": [
        "### Boolean Indexing"
      ],
      "metadata": {
        "id": "f_5u4CR1qe4M"
      }
    },
    {
      "cell_type": "code",
      "source": [
        "#contoh mengambil elemen dengan index boolean (kondisi)\n",
        "x = np.array([[ 0,  1,  2],\n",
        "              [ 3,  4,  5],\n",
        "              [ 6,  7,  8],\n",
        "              [ 9, 10, 11]])\n",
        "\n",
        "print('Array asli:')\n",
        "print(x)\n",
        "print('\\n')\n",
        "\n",
        "# Now we will print the items greater than 5\n",
        "print('Item yang lebih besar dari 5:')\n",
        "print(x[x > 5])"
      ],
      "metadata": {
        "colab": {
          "base_uri": "https://localhost:8080/"
        },
        "id": "t7rauQLVpL-H",
        "outputId": "fb65cc41-5786-45e6-e876-40ab40dd5dc1"
      },
      "execution_count": 13,
      "outputs": [
        {
          "output_type": "stream",
          "name": "stdout",
          "text": [
            "Array asli:\n",
            "[[ 0  1  2]\n",
            " [ 3  4  5]\n",
            " [ 6  7  8]\n",
            " [ 9 10 11]]\n",
            "\n",
            "\n",
            "Item yang lebih besar dari 5:\n",
            "[ 6  7  8  9 10 11]\n"
          ]
        }
      ]
    },
    {
      "cell_type": "code",
      "source": [
        "#contoh 2\n",
        "a = np.array([np.nan, 1,2,np.nan,3,4,5])\n",
        "print(a[np.isnan(a)])"
      ],
      "metadata": {
        "id": "7_qTyI8BrZIc",
        "colab": {
          "base_uri": "https://localhost:8080/"
        },
        "outputId": "5a229ddb-0ef6-4ff7-f6c8-dc24ba1daeb8"
      },
      "execution_count": 14,
      "outputs": [
        {
          "output_type": "stream",
          "name": "stdout",
          "text": [
            "[nan nan]\n"
          ]
        }
      ]
    },
    {
      "cell_type": "code",
      "source": [
        "#contoh 3\n",
        "a = np.array([1, 2+6j, 5, 3.5+5j])\n",
        "print(a[~np.iscomplex(a)])"
      ],
      "metadata": {
        "colab": {
          "base_uri": "https://localhost:8080/"
        },
        "id": "2hQtVpR5qvkv",
        "outputId": "bba73bcb-5894-43bc-95d2-8e3df23f43ba"
      },
      "execution_count": 15,
      "outputs": [
        {
          "output_type": "stream",
          "name": "stdout",
          "text": [
            "[1.+0.j 5.+0.j]\n"
          ]
        }
      ]
    },
    {
      "cell_type": "markdown",
      "source": [
        "Study Case\n",
        "1. Buat array 2 dimensi dengan shape=(3,4) yang\n",
        "  isinya campuran antara complex, nan dan integer\n",
        "2. Ambil item dengan menggunakan index boolean khusus integer, nan dan complex"
      ],
      "metadata": {
        "id": "ihYljdnW8HRe"
      }
    },
    {
      "cell_type": "code",
      "source": [
        "# isi disini\n",
        "import numpy as np\n",
        "\n",
        "x = np.array([\n",
        "    [ 7.5+1j,  1,      np.nan, 14],\n",
        "    [ 3,       4,  9.1+4j,     20],\n",
        "    [ np.nan,  7,       8,     44]\n",
        "])\n",
        "\n",
        "data_nan = np.isnan(x)\n",
        "data_complex = np.iscomplex(x)\n",
        "data_int = (\n",
        "    (x.imag == 0) &\n",
        "    (np.mod(x.real, 1) == 0) &\n",
        "    (~data_nan)\n",
        ")\n",
        "\n",
        "print(\"\\nint:\")\n",
        "print(x[data_int])\n",
        "\n",
        "print(\"\\ndata_nan:\")\n",
        "print(x[data_nan])\n",
        "\n",
        "print(\"\\ndata_complex:\")\n",
        "print(x[data_complex])"
      ],
      "metadata": {
        "id": "h73ZKNSIypoF",
        "colab": {
          "base_uri": "https://localhost:8080/"
        },
        "outputId": "3d96a546-3188-43e9-80d6-971b26218349"
      },
      "execution_count": 16,
      "outputs": [
        {
          "output_type": "stream",
          "name": "stdout",
          "text": [
            "\n",
            "int:\n",
            "[ 1.+0.j 14.+0.j  3.+0.j  4.+0.j 20.+0.j  7.+0.j  8.+0.j 44.+0.j]\n",
            "\n",
            "data_nan:\n",
            "[nan+0.j nan+0.j]\n",
            "\n",
            "data_complex:\n",
            "[7.5+1.j 9.1+4.j]\n"
          ]
        }
      ]
    },
    {
      "cell_type": "markdown",
      "source": [
        "# Array Manipulation"
      ],
      "metadata": {
        "id": "NTyBPE-_0OHG"
      }
    },
    {
      "cell_type": "markdown",
      "source": [
        "## Mengubah Shape"
      ],
      "metadata": {
        "id": "aR3xGiFx0UVE"
      }
    },
    {
      "cell_type": "markdown",
      "source": [
        "### reshape"
      ],
      "metadata": {
        "id": "xX4UkFvP0Xc8"
      }
    },
    {
      "cell_type": "code",
      "source": [
        "a = np.arange(8)\n",
        "print('Array asli:')\n",
        "print(a)\n",
        "print('\\n')\n",
        "\n",
        "b = a.reshape(4,2)\n",
        "print('Array yang telah di modifikasi:')\n",
        "print(b)\n"
      ],
      "metadata": {
        "colab": {
          "base_uri": "https://localhost:8080/"
        },
        "id": "RIs1-W1urTHf",
        "outputId": "8751f220-a18b-479c-e1b2-2161364eff29"
      },
      "execution_count": 17,
      "outputs": [
        {
          "output_type": "stream",
          "name": "stdout",
          "text": [
            "Array asli:\n",
            "[0 1 2 3 4 5 6 7]\n",
            "\n",
            "\n",
            "Array yang telah di modifikasi:\n",
            "[[0 1]\n",
            " [2 3]\n",
            " [4 5]\n",
            " [6 7]]\n"
          ]
        }
      ]
    },
    {
      "cell_type": "markdown",
      "source": [
        "### Flatten"
      ],
      "metadata": {
        "id": "NP9dgJd-4TDI"
      }
    },
    {
      "cell_type": "code",
      "source": [
        "a = np.arange(8).reshape(2,4) #take copy\n",
        "\n",
        "print('Array asli:')\n",
        "print(a)\n",
        "print('\\n')\n",
        "\n",
        "\n",
        "print('Array yang telah di flattened:')\n",
        "print(a.flatten())\n",
        "print('\\n')\n",
        "\n",
        "print('flattened array dalam F-style ordering:')\n",
        "print(a.flatten(order = 'F'))"
      ],
      "metadata": {
        "colab": {
          "base_uri": "https://localhost:8080/"
        },
        "id": "au62Cn0t0A6-",
        "outputId": "cf47917a-17c8-4f5b-d1dd-0e8dbb66d5d2"
      },
      "execution_count": 18,
      "outputs": [
        {
          "output_type": "stream",
          "name": "stdout",
          "text": [
            "Array asli:\n",
            "[[0 1 2 3]\n",
            " [4 5 6 7]]\n",
            "\n",
            "\n",
            "Array yang telah di flattened:\n",
            "[0 1 2 3 4 5 6 7]\n",
            "\n",
            "\n",
            "flattened array dalam F-style ordering:\n",
            "[0 4 1 5 2 6 3 7]\n"
          ]
        }
      ]
    },
    {
      "cell_type": "markdown",
      "source": [
        "### Ravel"
      ],
      "metadata": {
        "id": "_uJZ0MGH4_mH"
      }
    },
    {
      "cell_type": "code",
      "source": [
        "a = np.arange(8).reshape(2,4) # only view\n",
        "\n",
        "print('Array asli:')\n",
        "print(a)\n",
        "print('\\n')\n",
        "\n",
        "print('hasil dari fungsi ravel:')\n",
        "print(a.ravel())\n",
        "print('\\n')\n",
        "\n",
        "print('menggunakan ravel function dalam F-style ordering:')\n",
        "print(a.ravel(order = 'F'))"
      ],
      "metadata": {
        "colab": {
          "base_uri": "https://localhost:8080/"
        },
        "id": "Dqihq0a546B2",
        "outputId": "b8a2636b-c485-4fbb-c8a3-9dabb27bc110"
      },
      "execution_count": 19,
      "outputs": [
        {
          "output_type": "stream",
          "name": "stdout",
          "text": [
            "Array asli:\n",
            "[[0 1 2 3]\n",
            " [4 5 6 7]]\n",
            "\n",
            "\n",
            "hasil dari fungsi ravel:\n",
            "[0 1 2 3 4 5 6 7]\n",
            "\n",
            "\n",
            "menggunakan ravel function dalam F-style ordering:\n",
            "[0 4 1 5 2 6 3 7]\n"
          ]
        }
      ]
    },
    {
      "cell_type": "markdown",
      "source": [
        "## Operasi Transpos"
      ],
      "metadata": {
        "id": "5bwpKwth6X_u"
      }
    },
    {
      "cell_type": "code",
      "source": [
        "a = np.arange(12).reshape(3,4)\n",
        "\n",
        "print('Array asli:')\n",
        "print(a)\n",
        "print('\\n')\n",
        "\n",
        "print('Array yang telah di transpos:')\n",
        "print(np.transpose(a)) #parameter dengan list int, sesuai dengan dimensi. Secara default, dimensi dibalik\n",
        "print('\\n')\n",
        "\n",
        "print('Array yang telah di transpos dengan .T:')\n",
        "print(a.T)"
      ],
      "metadata": {
        "colab": {
          "base_uri": "https://localhost:8080/"
        },
        "id": "zwNLhw0E51Lg",
        "outputId": "b0efe88f-5dba-4207-9e05-2722701a63b3"
      },
      "execution_count": 20,
      "outputs": [
        {
          "output_type": "stream",
          "name": "stdout",
          "text": [
            "Array asli:\n",
            "[[ 0  1  2  3]\n",
            " [ 4  5  6  7]\n",
            " [ 8  9 10 11]]\n",
            "\n",
            "\n",
            "Array yang telah di transpos:\n",
            "[[ 0  4  8]\n",
            " [ 1  5  9]\n",
            " [ 2  6 10]\n",
            " [ 3  7 11]]\n",
            "\n",
            "\n",
            "Array yang telah di transpos dengan .T:\n",
            "[[ 0  4  8]\n",
            " [ 1  5  9]\n",
            " [ 2  6 10]\n",
            " [ 3  7 11]]\n"
          ]
        }
      ]
    },
    {
      "cell_type": "markdown",
      "source": [
        "## Penggabungan array"
      ],
      "metadata": {
        "id": "eawJ3Kpy7gul"
      }
    },
    {
      "cell_type": "markdown",
      "source": [
        "### concatenate"
      ],
      "metadata": {
        "id": "xEhJG6s17j9H"
      }
    },
    {
      "cell_type": "code",
      "source": [
        "a = np.array([[1,2],[3,4]])\n",
        "\n",
        "print('Array Pertama:')\n",
        "print(a)\n",
        "print('\\n')\n",
        "b = np.array([[5,6],[7,8]])\n",
        "\n",
        "print('Array Kedua:')\n",
        "print(b)\n",
        "print('\\n')\n",
        "# both the arrays are of same dimensions\n",
        "\n",
        "print('gabungan dua array di sumbu 0:')\n",
        "print(np.concatenate((a,b)) )\n",
        "print('\\n')\n",
        "\n",
        "print('gabungan dua array di sumbu 1:')\n",
        "print(np.concatenate((a,b),axis = 1))"
      ],
      "metadata": {
        "colab": {
          "base_uri": "https://localhost:8080/"
        },
        "id": "BwhgdvPo69mP",
        "outputId": "637a9cfd-d350-47bb-a780-d8f9a654b995"
      },
      "execution_count": 21,
      "outputs": [
        {
          "output_type": "stream",
          "name": "stdout",
          "text": [
            "Array Pertama:\n",
            "[[1 2]\n",
            " [3 4]]\n",
            "\n",
            "\n",
            "Array Kedua:\n",
            "[[5 6]\n",
            " [7 8]]\n",
            "\n",
            "\n",
            "gabungan dua array di sumbu 0:\n",
            "[[1 2]\n",
            " [3 4]\n",
            " [5 6]\n",
            " [7 8]]\n",
            "\n",
            "\n",
            "gabungan dua array di sumbu 1:\n",
            "[[1 2 5 6]\n",
            " [3 4 7 8]]\n"
          ]
        }
      ]
    },
    {
      "cell_type": "markdown",
      "source": [
        "### stack"
      ],
      "metadata": {
        "id": "PzCwK-kV9htT"
      }
    },
    {
      "cell_type": "code",
      "source": [
        "a = np.array([[1,2],[3,4]])\n",
        "\n",
        "print('Array Pertama:')\n",
        "print(a)\n",
        "print('\\n')\n",
        "b = np.array([[5,6],[7,8]])\n",
        "\n",
        "print('Array kedua:')\n",
        "print(b)\n",
        "print('\\n')\n",
        "\n",
        "print('Stack dua array pada sumbu 0:')\n",
        "print(np.stack((a,b),0) )\n",
        "print('\\n')\n",
        "\n",
        "print('Stack dua array pada sumbu 1:')\n",
        "print(np.stack((a,b),1))"
      ],
      "metadata": {
        "colab": {
          "base_uri": "https://localhost:8080/"
        },
        "id": "DbFFuvqD85j0",
        "outputId": "b24ed2dd-fa5e-4bbd-a4e6-721b74b67783"
      },
      "execution_count": 22,
      "outputs": [
        {
          "output_type": "stream",
          "name": "stdout",
          "text": [
            "Array Pertama:\n",
            "[[1 2]\n",
            " [3 4]]\n",
            "\n",
            "\n",
            "Array kedua:\n",
            "[[5 6]\n",
            " [7 8]]\n",
            "\n",
            "\n",
            "Stack dua array pada sumbu 0:\n",
            "[[[1 2]\n",
            "  [3 4]]\n",
            "\n",
            " [[5 6]\n",
            "  [7 8]]]\n",
            "\n",
            "\n",
            "Stack dua array pada sumbu 1:\n",
            "[[[1 2]\n",
            "  [5 6]]\n",
            "\n",
            " [[3 4]\n",
            "  [7 8]]]\n"
          ]
        }
      ]
    },
    {
      "cell_type": "markdown",
      "source": [
        "### hstack"
      ],
      "metadata": {
        "id": "pksgwVP9-KAc"
      }
    },
    {
      "cell_type": "code",
      "source": [
        "a = np.array([[1,2],[3,4]])\n",
        "\n",
        "print('Array Pertama:')\n",
        "print(a)\n",
        "print('\\n')\n",
        "b = np.array([[5,6],[7,8]])\n",
        "\n",
        "print('Array Kedua:')\n",
        "print(b)\n",
        "print('\\n')\n",
        "\n",
        "print('Horizontal stacking:')\n",
        "c = np.hstack((a,b))\n",
        "print(c)\n",
        "print('\\n')\n",
        "\n"
      ],
      "metadata": {
        "colab": {
          "base_uri": "https://localhost:8080/"
        },
        "id": "tJ77Ezss93pJ",
        "outputId": "e0fbbbf4-5d7f-4f2c-fda5-b42202665331"
      },
      "execution_count": 23,
      "outputs": [
        {
          "output_type": "stream",
          "name": "stdout",
          "text": [
            "Array Pertama:\n",
            "[[1 2]\n",
            " [3 4]]\n",
            "\n",
            "\n",
            "Array Kedua:\n",
            "[[5 6]\n",
            " [7 8]]\n",
            "\n",
            "\n",
            "Horizontal stacking:\n",
            "[[1 2 5 6]\n",
            " [3 4 7 8]]\n",
            "\n",
            "\n"
          ]
        }
      ]
    },
    {
      "cell_type": "markdown",
      "source": [
        "### vstack"
      ],
      "metadata": {
        "id": "36lsmjWT-ULe"
      }
    },
    {
      "cell_type": "code",
      "source": [
        "a = np.array([[1,2],[3,4]])\n",
        "\n",
        "print('Array pertama:')\n",
        "print(a)\n",
        "print('\\n')\n",
        "b = np.array([[5,6],[7,8]])\n",
        "\n",
        "print('Array kedua:')\n",
        "print(b)\n",
        "print('\\n')\n",
        "\n",
        "print('Vertical stacking:')\n",
        "c = np.vstack((a,b))\n",
        "print(c)\n"
      ],
      "metadata": {
        "colab": {
          "base_uri": "https://localhost:8080/"
        },
        "id": "27R6Bsll-QuR",
        "outputId": "c87d088c-c6bc-4d1e-8efb-2258e225c4c9"
      },
      "execution_count": 24,
      "outputs": [
        {
          "output_type": "stream",
          "name": "stdout",
          "text": [
            "Array pertama:\n",
            "[[1 2]\n",
            " [3 4]]\n",
            "\n",
            "\n",
            "Array kedua:\n",
            "[[5 6]\n",
            " [7 8]]\n",
            "\n",
            "\n",
            "Vertical stacking:\n",
            "[[1 2]\n",
            " [3 4]\n",
            " [5 6]\n",
            " [7 8]]\n"
          ]
        }
      ]
    },
    {
      "cell_type": "markdown",
      "source": [
        "## Splitting Array (Pemisahan Array) menjadi sub-array"
      ],
      "metadata": {
        "id": "jaTwfMuY-rj7"
      }
    },
    {
      "cell_type": "markdown",
      "source": [
        "### split"
      ],
      "metadata": {
        "id": "COLwBnhe_y2I"
      }
    },
    {
      "cell_type": "code",
      "source": [
        "a = np.arange(9)\n",
        "\n",
        "print('Array pertama:')\n",
        "print(a)\n",
        "print('\\n')\n",
        "\n",
        "print('split array menjadi 3 sub-array yang setara:')\n",
        "b = np.split(a,3)\n",
        "print(b)\n",
        "print('\\n')\n",
        "\n",
        "print('split berdasarkan index pada array 1 dimensi:')\n",
        "b = np.split(a,[4,5]) # numpy.split(ary, indices_or_sections, axis)\n",
        "# parameter indicec_or_section dapat berupa bilangan bulat,\n",
        "#yang menunjukkan jumlah subarray berukuran sama yang akan dibuat dari array input.\n",
        "print(b)\n"
      ],
      "metadata": {
        "id": "-6KzqYaT-gTW",
        "colab": {
          "base_uri": "https://localhost:8080/"
        },
        "outputId": "20ae460b-564b-4394-d26a-ffd5522eaf6d"
      },
      "execution_count": 25,
      "outputs": [
        {
          "output_type": "stream",
          "name": "stdout",
          "text": [
            "Array pertama:\n",
            "[0 1 2 3 4 5 6 7 8]\n",
            "\n",
            "\n",
            "split array menjadi 3 sub-array yang setara:\n",
            "[array([0, 1, 2]), array([3, 4, 5]), array([6, 7, 8])]\n",
            "\n",
            "\n",
            "split berdasarkan index pada array 1 dimensi:\n",
            "[array([0, 1, 2, 3]), array([4]), array([5, 6, 7, 8])]\n"
          ]
        }
      ]
    },
    {
      "cell_type": "markdown",
      "source": [
        "### hsplit"
      ],
      "metadata": {
        "id": "zec2TQN-ArVW"
      }
    },
    {
      "cell_type": "code",
      "source": [
        "a = np.arange(16).reshape(4,4)\n",
        "\n",
        "print('Array pertama:')\n",
        "print(a)\n",
        "print('\\n')\n",
        "\n",
        "print('Horizontal splitting:') # column wise\n",
        "b = np.hsplit(a,2)\n",
        "print(b)\n",
        "print('\\n')\n"
      ],
      "metadata": {
        "colab": {
          "base_uri": "https://localhost:8080/"
        },
        "id": "yK-o6o2gAT4D",
        "outputId": "d1ffbd63-71f9-41f3-974a-be9efa1a83e3"
      },
      "execution_count": 26,
      "outputs": [
        {
          "output_type": "stream",
          "name": "stdout",
          "text": [
            "Array pertama:\n",
            "[[ 0  1  2  3]\n",
            " [ 4  5  6  7]\n",
            " [ 8  9 10 11]\n",
            " [12 13 14 15]]\n",
            "\n",
            "\n",
            "Horizontal splitting:\n",
            "[array([[ 0,  1],\n",
            "       [ 4,  5],\n",
            "       [ 8,  9],\n",
            "       [12, 13]]), array([[ 2,  3],\n",
            "       [ 6,  7],\n",
            "       [10, 11],\n",
            "       [14, 15]])]\n",
            "\n",
            "\n"
          ]
        }
      ]
    },
    {
      "cell_type": "markdown",
      "source": [
        "### vsplit"
      ],
      "metadata": {
        "id": "VAOYcdyNBE6o"
      }
    },
    {
      "cell_type": "code",
      "source": [
        "a = np.arange(16).reshape(4,4)\n",
        "\n",
        "print('Array awal:')\n",
        "print(a)\n",
        "print('\\n')\n",
        "\n",
        "print('Vertical splitting:')\n",
        "b = np.vsplit(a,2)\n",
        "print(b)\n"
      ],
      "metadata": {
        "colab": {
          "base_uri": "https://localhost:8080/"
        },
        "id": "3GHr9s0JA1n6",
        "outputId": "7dddddd2-0a7d-4043-cc3b-aa530f127176"
      },
      "execution_count": 27,
      "outputs": [
        {
          "output_type": "stream",
          "name": "stdout",
          "text": [
            "Array awal:\n",
            "[[ 0  1  2  3]\n",
            " [ 4  5  6  7]\n",
            " [ 8  9 10 11]\n",
            " [12 13 14 15]]\n",
            "\n",
            "\n",
            "Vertical splitting:\n",
            "[array([[0, 1, 2, 3],\n",
            "       [4, 5, 6, 7]]), array([[ 8,  9, 10, 11],\n",
            "       [12, 13, 14, 15]])]\n"
          ]
        }
      ]
    },
    {
      "cell_type": "markdown",
      "source": [
        "## Mengubah Element Array (Add/Remove)"
      ],
      "metadata": {
        "id": "4fp4eQPcBV5O"
      }
    },
    {
      "cell_type": "code",
      "source": [
        "# Resize\n",
        "a = np.array([[1,2,3],\n",
        "              [4,5,6]])\n",
        "\n",
        "print('Array awal:')\n",
        "print(a)\n",
        "print('\\n')\n",
        "\n",
        "print('shape array pertama:')\n",
        "print(a.shape)\n",
        "print('\\n')\n",
        "b = np.resize(a, (3,2))\n",
        "\n",
        "print('Array kedua:')\n",
        "print(b)\n",
        "print('\\n')\n",
        "\n",
        "print('shape array kedua:')\n",
        "print(b.shape)\n",
        "print('\\n')\n",
        "# Observe that first row of a is repeated in b since size is bigger\n",
        "\n",
        "print('resize array kedua:')\n",
        "b = np.resize(a,(3,3))\n",
        "print(b)\n"
      ],
      "metadata": {
        "colab": {
          "base_uri": "https://localhost:8080/"
        },
        "id": "WIny3TvQBNe8",
        "outputId": "cbfa508e-ed88-49bc-c083-abbb7558cf21"
      },
      "execution_count": 28,
      "outputs": [
        {
          "output_type": "stream",
          "name": "stdout",
          "text": [
            "Array awal:\n",
            "[[1 2 3]\n",
            " [4 5 6]]\n",
            "\n",
            "\n",
            "shape array pertama:\n",
            "(2, 3)\n",
            "\n",
            "\n",
            "Array kedua:\n",
            "[[1 2]\n",
            " [3 4]\n",
            " [5 6]]\n",
            "\n",
            "\n",
            "shape array kedua:\n",
            "(3, 2)\n",
            "\n",
            "\n",
            "resize array kedua:\n",
            "[[1 2 3]\n",
            " [4 5 6]\n",
            " [1 2 3]]\n"
          ]
        }
      ]
    },
    {
      "cell_type": "code",
      "source": [
        "# Append\n",
        "print('Array Awal')\n",
        "print(a)\n",
        "print('\\n')\n",
        "\n",
        "print('Append elements to array:')\n",
        "print(np.append(a, [7,8,9]))\n",
        "print('\\n')\n",
        "\n",
        "print('Append elements along axis 0:')\n",
        "print(np.append(a, [[7,8,9]],axis = 0))\n",
        "print('\\n')\n",
        "\n",
        "print('Append elements along axis 1:')\n",
        "print(np.append(a, [[5,5,5],[7,8,9]],axis = 1))\n"
      ],
      "metadata": {
        "colab": {
          "base_uri": "https://localhost:8080/"
        },
        "id": "46lB-ry5Bxbu",
        "outputId": "2070d72c-a41b-4685-dac2-c52cde467757"
      },
      "execution_count": 29,
      "outputs": [
        {
          "output_type": "stream",
          "name": "stdout",
          "text": [
            "Array Awal\n",
            "[[1 2 3]\n",
            " [4 5 6]]\n",
            "\n",
            "\n",
            "Append elements to array:\n",
            "[1 2 3 4 5 6 7 8 9]\n",
            "\n",
            "\n",
            "Append elements along axis 0:\n",
            "[[1 2 3]\n",
            " [4 5 6]\n",
            " [7 8 9]]\n",
            "\n",
            "\n",
            "Append elements along axis 1:\n",
            "[[1 2 3 5 5 5]\n",
            " [4 5 6 7 8 9]]\n"
          ]
        }
      ]
    },
    {
      "cell_type": "code",
      "source": [
        "# Insert\n",
        "a = np.array([[1,2],\n",
        "              [3,4],\n",
        "              [5,6]])\n",
        "\n",
        "print('Array pertama:')\n",
        "print(a)\n",
        "print('\\n')\n",
        "\n",
        "print('tanpa parameter axis. sebelum insertion arraynya di flattened.')\n",
        "print(np.insert(a,3,[11,12]))\n",
        "print('\\n')\n",
        "print('Menggunakan parameter axis. value arraynya di broadcasr untuk menyamakan input.')\n",
        "\n",
        "print('Broadcast sepanjang axis 0:')\n",
        "print(np.insert(a,1,[11],axis = 0))\n",
        "print('\\n')\n",
        "\n",
        "print('Broadcast sepanjanhg axis 1:')\n",
        "print(np.insert(a,1,11,axis = 1))\n"
      ],
      "metadata": {
        "colab": {
          "base_uri": "https://localhost:8080/"
        },
        "id": "EcB5QMWRCO47",
        "outputId": "f2284570-5a2b-40c7-b33d-7157cb753976"
      },
      "execution_count": 30,
      "outputs": [
        {
          "output_type": "stream",
          "name": "stdout",
          "text": [
            "Array pertama:\n",
            "[[1 2]\n",
            " [3 4]\n",
            " [5 6]]\n",
            "\n",
            "\n",
            "tanpa parameter axis. sebelum insertion arraynya di flattened.\n",
            "[ 1  2  3 11 12  4  5  6]\n",
            "\n",
            "\n",
            "Menggunakan parameter axis. value arraynya di broadcasr untuk menyamakan input.\n",
            "Broadcast sepanjang axis 0:\n",
            "[[ 1  2]\n",
            " [11 11]\n",
            " [ 3  4]\n",
            " [ 5  6]]\n",
            "\n",
            "\n",
            "Broadcast sepanjanhg axis 1:\n",
            "[[ 1 11  2]\n",
            " [ 3 11  4]\n",
            " [ 5 11  6]]\n"
          ]
        }
      ]
    },
    {
      "cell_type": "code",
      "source": [
        "# delete\n",
        "a = np.arange(12).reshape(3,4)\n",
        "\n",
        "print('First array:')\n",
        "print(a)\n",
        "print('\\n')\n",
        "\n",
        "print('tanpa parameter axis maka di flattened sebelum didelete:')\n",
        "print(np.delete(a,5))\n",
        "print('\\n')\n",
        "\n",
        "print('kolom 2 deleted:')\n",
        "print(np.delete(a,1,axis = 1))\n",
        "print('\\n')\n"
      ],
      "metadata": {
        "colab": {
          "base_uri": "https://localhost:8080/"
        },
        "id": "u-6Teo7gEXLX",
        "outputId": "989c4de4-bd5a-4a78-a8dd-b895f68e2002"
      },
      "execution_count": 31,
      "outputs": [
        {
          "output_type": "stream",
          "name": "stdout",
          "text": [
            "First array:\n",
            "[[ 0  1  2  3]\n",
            " [ 4  5  6  7]\n",
            " [ 8  9 10 11]]\n",
            "\n",
            "\n",
            "tanpa parameter axis maka di flattened sebelum didelete:\n",
            "[ 0  1  2  3  4  6  7  8  9 10 11]\n",
            "\n",
            "\n",
            "kolom 2 deleted:\n",
            "[[ 0  2  3]\n",
            " [ 4  6  7]\n",
            " [ 8 10 11]]\n",
            "\n",
            "\n"
          ]
        }
      ]
    },
    {
      "cell_type": "code",
      "source": [
        "#unique element\n",
        "a = np.array([5,2,6,2,7,5,6,8,2,9])\n",
        "\n",
        "print('Array pertama:')\n",
        "print(a)\n",
        "print('\\n')\n",
        "\n",
        "print('value unik dari array pertama:')\n",
        "u = np.unique(a)\n",
        "print(u)\n",
        "print('\\n')\n",
        "\n",
        "print('index array:')\n",
        "u,indices = np.unique(a, return_index = True)\n",
        "print(indices)\n",
        "print('\\n')\n"
      ],
      "metadata": {
        "colab": {
          "base_uri": "https://localhost:8080/"
        },
        "id": "68rLWZpnE3N0",
        "outputId": "fec659c2-980a-4e1b-c4c2-69244d5369ef"
      },
      "execution_count": 32,
      "outputs": [
        {
          "output_type": "stream",
          "name": "stdout",
          "text": [
            "Array pertama:\n",
            "[5 2 6 2 7 5 6 8 2 9]\n",
            "\n",
            "\n",
            "value unik dari array pertama:\n",
            "[2 5 6 7 8 9]\n",
            "\n",
            "\n",
            "index array:\n",
            "[1 0 2 4 7 9]\n",
            "\n",
            "\n"
          ]
        }
      ]
    },
    {
      "cell_type": "markdown",
      "source": [
        "#Broadcasting array"
      ],
      "metadata": {
        "id": "Vkk7OIjzGHGk"
      }
    },
    {
      "cell_type": "code",
      "source": [
        "# Contoh 1\n",
        "a = np.array([1,2,3,4])\n",
        "b = np.array([10,20,30,40])\n",
        "c = a * b\n",
        "print(c)"
      ],
      "metadata": {
        "colab": {
          "base_uri": "https://localhost:8080/"
        },
        "id": "4mboSBe-GBkU",
        "outputId": "a5f6720f-45e1-4d44-f09b-10fcce9f4a20"
      },
      "execution_count": 33,
      "outputs": [
        {
          "output_type": "stream",
          "name": "stdout",
          "text": [
            "[ 10  40  90 160]\n"
          ]
        }
      ]
    },
    {
      "cell_type": "code",
      "source": [
        "#contoh 2\n",
        "a = np.array([[0.0,0.0,0.0],\n",
        "              [10.0,10.0,10.0],\n",
        "              [20.0,20.0,20.0],\n",
        "              [30.0,30.0,30.0]])\n",
        "b = np.array([1.0,2.0,3.0])\n",
        "\n",
        "print('Array pertama:')\n",
        "print(a)\n",
        "print('\\n')\n",
        "\n",
        "print('Array kedua:')\n",
        "print(b)\n",
        "print('\\n')\n",
        "\n",
        "print('Array pertama + Array kedua')\n",
        "print(a + b)\n"
      ],
      "metadata": {
        "colab": {
          "base_uri": "https://localhost:8080/"
        },
        "id": "J9xBl2v3G3MC",
        "outputId": "a9d1bf8f-f422-40d7-929d-74b9e715a350"
      },
      "execution_count": 34,
      "outputs": [
        {
          "output_type": "stream",
          "name": "stdout",
          "text": [
            "Array pertama:\n",
            "[[ 0.  0.  0.]\n",
            " [10. 10. 10.]\n",
            " [20. 20. 20.]\n",
            " [30. 30. 30.]]\n",
            "\n",
            "\n",
            "Array kedua:\n",
            "[1. 2. 3.]\n",
            "\n",
            "\n",
            "Array pertama + Array kedua\n",
            "[[ 1.  2.  3.]\n",
            " [11. 12. 13.]\n",
            " [21. 22. 23.]\n",
            " [31. 32. 33.]]\n"
          ]
        }
      ]
    },
    {
      "cell_type": "markdown",
      "source": [
        "Study Case !\n",
        "1. Buat dua array yang memiliki shape=(3,4) dan shape (1,4)\n",
        "2. Lakukan operasi perkalian dan pengurangan"
      ],
      "metadata": {
        "id": "tO5CLB5mMmjh"
      }
    },
    {
      "cell_type": "code",
      "source": [
        "#isi disini\n",
        "import numpy as np\n",
        "a = np.array([[11,11,11,11],\n",
        "              [12,12,12,12],\n",
        "              [13,13,13,13]])\n",
        "b = np.array([10,10,10,10])\n",
        "\n",
        "print('Array a:')\n",
        "print(a)\n",
        "print('\\n')\n",
        "\n",
        "print('Array b:')\n",
        "print(b)\n",
        "print('\\n')\n",
        "\n",
        "print('a X b:')\n",
        "print(a * b)\n",
        "print('\\n')\n",
        "\n",
        "print('a - b:')\n",
        "print(a - b)"
      ],
      "metadata": {
        "id": "ZvXZtlMR5EHg",
        "colab": {
          "base_uri": "https://localhost:8080/"
        },
        "outputId": "0479d904-ce34-48ee-af55-bd193ea2f2f6"
      },
      "execution_count": 35,
      "outputs": [
        {
          "output_type": "stream",
          "name": "stdout",
          "text": [
            "Array a:\n",
            "[[11 11 11 11]\n",
            " [12 12 12 12]\n",
            " [13 13 13 13]]\n",
            "\n",
            "\n",
            "Array b:\n",
            "[10 10 10 10]\n",
            "\n",
            "\n",
            "a X b:\n",
            "[[110 110 110 110]\n",
            " [120 120 120 120]\n",
            " [130 130 130 130]]\n",
            "\n",
            "\n",
            "a - b:\n",
            "[[1 1 1 1]\n",
            " [2 2 2 2]\n",
            " [3 3 3 3]]\n"
          ]
        }
      ]
    },
    {
      "cell_type": "markdown",
      "source": [
        "# Array Iteration"
      ],
      "metadata": {
        "id": "WQa76X_iLO-Y"
      }
    },
    {
      "cell_type": "code",
      "source": [
        "#contoh 1\n",
        "a = np.arange(0,60,5)\n",
        "a = a.reshape(3,4)\n",
        "\n",
        "print('Array asli:')\n",
        "print(a)\n",
        "print('\\n')\n",
        "\n",
        "print('Array yang telah di modifikasi:')\n",
        "for x in np.nditer(a):\n",
        "   print(x, end=' ')\n"
      ],
      "metadata": {
        "colab": {
          "base_uri": "https://localhost:8080/"
        },
        "id": "Qv6Kyg5oJdSm",
        "outputId": "e4bbd262-f890-4a1b-accd-898aa3cebefc"
      },
      "execution_count": 36,
      "outputs": [
        {
          "output_type": "stream",
          "name": "stdout",
          "text": [
            "Array asli:\n",
            "[[ 0  5 10 15]\n",
            " [20 25 30 35]\n",
            " [40 45 50 55]]\n",
            "\n",
            "\n",
            "Array yang telah di modifikasi:\n",
            "0 5 10 15 20 25 30 35 40 45 50 55 "
          ]
        }
      ]
    },
    {
      "cell_type": "code",
      "source": [
        "#Urutan iterasi dipilih agar sesuai dengan tata letak memori array, tanpa mempertimbangkan urutan tertentu.\n",
        "#Ini dapat dilihat dengan mengulangi transpos dari array di atas.\n",
        "#contoh 2\n",
        "a = np.arange(0,60,5)\n",
        "a = a.reshape(3,4)\n",
        "\n",
        "print('Array asli:')\n",
        "print(a)\n",
        "print('\\n')\n",
        "\n",
        "print('Array yang di transpose:')\n",
        "b = a.T\n",
        "print(b)\n",
        "print('\\n')\n",
        "\n",
        "print('Array yang telah di modifikasi:')\n",
        "for x in np.nditer(b):\n",
        "   print(x, end=' ')\n",
        "\n"
      ],
      "metadata": {
        "colab": {
          "base_uri": "https://localhost:8080/"
        },
        "id": "ngIhmKXmN-vZ",
        "outputId": "dfcd46ef-5cd1-4279-f6fa-27b3c57cbab4"
      },
      "execution_count": 37,
      "outputs": [
        {
          "output_type": "stream",
          "name": "stdout",
          "text": [
            "Array asli:\n",
            "[[ 0  5 10 15]\n",
            " [20 25 30 35]\n",
            " [40 45 50 55]]\n",
            "\n",
            "\n",
            "Array yang di transpose:\n",
            "[[ 0 20 40]\n",
            " [ 5 25 45]\n",
            " [10 30 50]\n",
            " [15 35 55]]\n",
            "\n",
            "\n",
            "Array yang telah di modifikasi:\n",
            "0 5 10 15 20 25 30 35 40 45 50 55 "
          ]
        }
      ]
    },
    {
      "cell_type": "markdown",
      "source": [
        "Iteration Order"
      ],
      "metadata": {
        "id": "ApFjszoFPN9z"
      }
    },
    {
      "cell_type": "code",
      "source": [
        "#contoh 3\n",
        "a = np.arange(0,60,5)\n",
        "a = a.reshape(3,4)\n",
        "print('Array asli:')\n",
        "print(a)\n",
        "print('\\n')\n",
        "\n",
        "print('Transpos array asli:')\n",
        "b = a.T\n",
        "print(b)\n",
        "print('\\n')\n",
        "\n",
        "print('urutkan dalam C-style order:')\n",
        "c = b.copy(order = 'C')\n",
        "print(c)\n",
        "for x in np.nditer(c):\n",
        "   print(x, end=' ')\n",
        "\n",
        "print('\\n')\n",
        "\n",
        "print('urutkan dalam F-style order:')\n",
        "c = b.copy(order = 'F')\n",
        "print(c)\n",
        "for x in np.nditer(c):\n",
        "   print(x, end=' ')\n"
      ],
      "metadata": {
        "colab": {
          "base_uri": "https://localhost:8080/"
        },
        "id": "EurhGifqPH85",
        "outputId": "89c2346a-3596-4db8-acff-3c009b72855b"
      },
      "execution_count": 38,
      "outputs": [
        {
          "output_type": "stream",
          "name": "stdout",
          "text": [
            "Array asli:\n",
            "[[ 0  5 10 15]\n",
            " [20 25 30 35]\n",
            " [40 45 50 55]]\n",
            "\n",
            "\n",
            "Transpos array asli:\n",
            "[[ 0 20 40]\n",
            " [ 5 25 45]\n",
            " [10 30 50]\n",
            " [15 35 55]]\n",
            "\n",
            "\n",
            "urutkan dalam C-style order:\n",
            "[[ 0 20 40]\n",
            " [ 5 25 45]\n",
            " [10 30 50]\n",
            " [15 35 55]]\n",
            "0 20 40 5 25 45 10 30 50 15 35 55 \n",
            "\n",
            "urutkan dalam F-style order:\n",
            "[[ 0 20 40]\n",
            " [ 5 25 45]\n",
            " [10 30 50]\n",
            " [15 35 55]]\n",
            "0 5 10 15 20 25 30 35 40 45 50 55 "
          ]
        }
      ]
    },
    {
      "cell_type": "code",
      "source": [
        "#contoh 4\n",
        "a = np.arange(0,60,5)\n",
        "a = a.reshape(3,4)\n",
        "\n",
        "print('Array asli:')\n",
        "print(a)\n",
        "print('\\n')\n",
        "\n",
        "print('Diurutkan dalam C-style order:')\n",
        "for x in np.nditer(a, order = 'C'):\n",
        "   print(x, end=' ')\n",
        "print('\\n')\n",
        "\n",
        "print('Diurutkan dalam in F-style order:')\n",
        "for x in np.nditer(a, order = 'F'):\n",
        "   print(x, end=' ')\n",
        "\n"
      ],
      "metadata": {
        "colab": {
          "base_uri": "https://localhost:8080/"
        },
        "id": "oBz4LT1-Pqqz",
        "outputId": "63861abf-664f-439f-ede8-0b7a00662d05"
      },
      "execution_count": 39,
      "outputs": [
        {
          "output_type": "stream",
          "name": "stdout",
          "text": [
            "Array asli:\n",
            "[[ 0  5 10 15]\n",
            " [20 25 30 35]\n",
            " [40 45 50 55]]\n",
            "\n",
            "\n",
            "Diurutkan dalam C-style order:\n",
            "0 5 10 15 20 25 30 35 40 45 50 55 \n",
            "\n",
            "Diurutkan dalam in F-style order:\n",
            "0 20 40 5 25 45 10 30 50 15 35 55 "
          ]
        }
      ]
    },
    {
      "cell_type": "markdown",
      "source": [
        "modifikasi nilai elemen array"
      ],
      "metadata": {
        "id": "9xFqqryZQZUX"
      }
    },
    {
      "cell_type": "code",
      "source": [
        "a = np.arange(0,60,5)\n",
        "a = a.reshape(3,4)\n",
        "print('Array asli:')\n",
        "print(a)\n",
        "print('\\n')\n",
        "\n",
        "for x in np.nditer(a, op_flags = ['readwrite']):\n",
        "   x[...] = 2*x\n",
        "print('Array yang telah dimodifikasi:')\n",
        "print(a)\n"
      ],
      "metadata": {
        "colab": {
          "base_uri": "https://localhost:8080/"
        },
        "id": "eEyoEslxQEOT",
        "outputId": "a69e3650-668d-4161-fb0f-0d0812f8b5b7"
      },
      "execution_count": 40,
      "outputs": [
        {
          "output_type": "stream",
          "name": "stdout",
          "text": [
            "Array asli:\n",
            "[[ 0  5 10 15]\n",
            " [20 25 30 35]\n",
            " [40 45 50 55]]\n",
            "\n",
            "\n",
            "Array yang telah dimodifikasi:\n",
            "[[  0  10  20  30]\n",
            " [ 40  50  60  70]\n",
            " [ 80  90 100 110]]\n"
          ]
        }
      ]
    },
    {
      "cell_type": "markdown",
      "source": [
        "eksternal loop"
      ],
      "metadata": {
        "id": "7sT43eMHQnNn"
      }
    },
    {
      "cell_type": "code",
      "source": [
        "a = np.arange(0,60,5)\n",
        "a = a.reshape(3,4)\n",
        "\n",
        "print('Array asli:')\n",
        "print(a)\n",
        "print('\\n')\n",
        "\n",
        "print('Array yang telah di modifikasi:')\n",
        "for x in np.nditer(a, flags = ['external_loop'], order = 'F'):\n",
        "   print(x, end=' ')\n"
      ],
      "metadata": {
        "colab": {
          "base_uri": "https://localhost:8080/"
        },
        "id": "CN5UHvZnQbxv",
        "outputId": "f26507b3-475d-4d5e-8985-4a9bac50ccaf"
      },
      "execution_count": 41,
      "outputs": [
        {
          "output_type": "stream",
          "name": "stdout",
          "text": [
            "Array asli:\n",
            "[[ 0  5 10 15]\n",
            " [20 25 30 35]\n",
            " [40 45 50 55]]\n",
            "\n",
            "\n",
            "Array yang telah di modifikasi:\n",
            "[ 0 20 40] [ 5 25 45] [10 30 50] [15 35 55] "
          ]
        }
      ]
    },
    {
      "cell_type": "markdown",
      "source": [
        "broadcasting iterasi array"
      ],
      "metadata": {
        "id": "tAHu4Rx2Q5YP"
      }
    },
    {
      "cell_type": "code",
      "source": [
        "a = np.arange(0,60,5)\n",
        "a = a.reshape(3,4)\n",
        "\n",
        "print('Array pertama:')\n",
        "print(a)\n",
        "print('\\n')\n",
        "\n",
        "print('Array kedua:')\n",
        "b = np.array([1, 2, 3, 4], dtype = int)\n",
        "print(b)\n",
        "print('\\n')\n",
        "\n",
        "print('Array yang telah di modifikasi:')\n",
        "for x,y in np.nditer([a,b]):\n",
        "   print(\"%d:%d\" % (x,y), end=' ')\n"
      ],
      "metadata": {
        "colab": {
          "base_uri": "https://localhost:8080/"
        },
        "id": "RnlURVVHQr5o",
        "outputId": "cd20d1f1-5691-4dc3-f238-6c191ce6098c"
      },
      "execution_count": 42,
      "outputs": [
        {
          "output_type": "stream",
          "name": "stdout",
          "text": [
            "Array pertama:\n",
            "[[ 0  5 10 15]\n",
            " [20 25 30 35]\n",
            " [40 45 50 55]]\n",
            "\n",
            "\n",
            "Array kedua:\n",
            "[1 2 3 4]\n",
            "\n",
            "\n",
            "Array yang telah di modifikasi:\n",
            "0:1 5:2 10:3 15:4 20:1 25:2 30:3 35:4 40:1 45:2 50:3 55:4 "
          ]
        }
      ]
    },
    {
      "cell_type": "markdown",
      "source": [
        "#Numpy for Mathematics"
      ],
      "metadata": {
        "id": "FAch-ctKR1PW"
      }
    },
    {
      "cell_type": "markdown",
      "source": [
        "Fungsi Trigonomeri\n",
        "\n",
        "\n",
        "NumPy memiliki fungsi trigonometri standar yang mengembalikan rasio trigonometri untuk sudut tertentu dalam radian."
      ],
      "metadata": {
        "id": "eVkvTXDxTeUI"
      }
    },
    {
      "cell_type": "code",
      "source": [
        "a = np.array([0,30,45,60,90])\n",
        "\n",
        "print('Nilai sin dari sudut yang berbeda-beda:')\n",
        "# konversi radian dengan mengalikannya dengan pi/180\n",
        "print(np.sin(a*np.pi/180))\n",
        "print('\\n')\n",
        "\n",
        "print('Nilai kosinus sudut dalam array:')\n",
        "print(np.cos(a*np.pi/180))\n",
        "print('\\n')\n",
        "\n",
        "print('Nilai tangent sudut dalam array:')\n",
        "print(np.tan(a*np.pi/180))\n"
      ],
      "metadata": {
        "colab": {
          "base_uri": "https://localhost:8080/"
        },
        "id": "T5gQ3Ic1TMyc",
        "outputId": "64570a89-e79d-4668-a7c0-22cadea27757"
      },
      "execution_count": 43,
      "outputs": [
        {
          "output_type": "stream",
          "name": "stdout",
          "text": [
            "Nilai sin dari sudut yang berbeda-beda:\n",
            "[0.         0.5        0.70710678 0.8660254  1.        ]\n",
            "\n",
            "\n",
            "Nilai kosinus sudut dalam array:\n",
            "[1.00000000e+00 8.66025404e-01 7.07106781e-01 5.00000000e-01\n",
            " 6.12323400e-17]\n",
            "\n",
            "\n",
            "Nilai tangent sudut dalam array:\n",
            "[0.00000000e+00 5.77350269e-01 1.00000000e+00 1.73205081e+00\n",
            " 1.63312394e+16]\n"
          ]
        }
      ]
    },
    {
      "cell_type": "code",
      "source": [
        "a = np.array([0,30,45,60,90])\n",
        "\n",
        "print('Array dengan nilai sinus:')\n",
        "sin = np.sin(a*np.pi/180)\n",
        "print(sin)\n",
        "print('\\n')\n",
        "\n",
        "print('Hitung inverse(kebalikan) sinus dari sudut. Nilai yang dikembalikan dalam radian.')\n",
        "inv = np.arcsin(sin)\n",
        "print(inv)\n",
        "print('\\n')\n",
        "\n",
        "print('Periksa hasil dengan mengonversi ke derajat:')\n",
        "print(np.degrees(inv))\n",
        "print('\\n')\n",
        "\n",
        "print('fungsi arccos dan arctan berperilaku serupa:')\n",
        "cos = np.cos(a*np.pi/180)\n",
        "print(cos)\n",
        "print('\\n')\n",
        "\n",
        "print('Inverse dari cos:')\n",
        "inv = np.arccos(cos)\n",
        "print(inv)\n",
        "print('\\n')\n",
        "\n",
        "print('dalam derajat:')\n",
        "print(np.degrees(inv))\n",
        "print('\\n')\n",
        "\n",
        "print('Fungsi Tan:')\n",
        "tan = np.tan(a*np.pi/180)\n",
        "print(tan)\n",
        "print('\\n')\n",
        "\n",
        "print('Inverse dari tan:')\n",
        "inv = np.arctan(tan)\n",
        "print(inv)\n",
        "print('\\n')\n",
        "\n",
        "print('dalam derajat:')\n",
        "print(np.degrees(inv))\n"
      ],
      "metadata": {
        "colab": {
          "base_uri": "https://localhost:8080/"
        },
        "id": "LtGsUzuyUJmq",
        "outputId": "e1fcd97c-7d10-42dc-ca27-e09c61ca5f64"
      },
      "execution_count": 44,
      "outputs": [
        {
          "output_type": "stream",
          "name": "stdout",
          "text": [
            "Array dengan nilai sinus:\n",
            "[0.         0.5        0.70710678 0.8660254  1.        ]\n",
            "\n",
            "\n",
            "Hitung inverse(kebalikan) sinus dari sudut. Nilai yang dikembalikan dalam radian.\n",
            "[0.         0.52359878 0.78539816 1.04719755 1.57079633]\n",
            "\n",
            "\n",
            "Periksa hasil dengan mengonversi ke derajat:\n",
            "[ 0. 30. 45. 60. 90.]\n",
            "\n",
            "\n",
            "fungsi arccos dan arctan berperilaku serupa:\n",
            "[1.00000000e+00 8.66025404e-01 7.07106781e-01 5.00000000e-01\n",
            " 6.12323400e-17]\n",
            "\n",
            "\n",
            "Inverse dari cos:\n",
            "[0.         0.52359878 0.78539816 1.04719755 1.57079633]\n",
            "\n",
            "\n",
            "dalam derajat:\n",
            "[ 0. 30. 45. 60. 90.]\n",
            "\n",
            "\n",
            "Fungsi Tan:\n",
            "[0.00000000e+00 5.77350269e-01 1.00000000e+00 1.73205081e+00\n",
            " 1.63312394e+16]\n",
            "\n",
            "\n",
            "Inverse dari tan:\n",
            "[0.         0.52359878 0.78539816 1.04719755 1.57079633]\n",
            "\n",
            "\n",
            "dalam derajat:\n",
            "[ 0. 30. 45. 60. 90.]\n"
          ]
        }
      ]
    },
    {
      "cell_type": "markdown",
      "source": [
        "Fungsi Pembulatan dengan numpy.round\n",
        "\n",
        "\n",
        "numpy.around(a,decimals)"
      ],
      "metadata": {
        "id": "W_W074z5V_pl"
      }
    },
    {
      "cell_type": "code",
      "source": [
        "a = np.array([1.0,5.55, 123, 0.567, 25.532])\n",
        "\n",
        "print('Array asli:')\n",
        "print(a)\n",
        "print('\\n')\n",
        "\n",
        "print('Setelah pembulatan:')\n",
        "print(np.around(a))\n",
        "print(np.around(a, decimals = 1))\n"
      ],
      "metadata": {
        "colab": {
          "base_uri": "https://localhost:8080/"
        },
        "id": "_KAP88rCV3Wn",
        "outputId": "cd9d7d37-b534-4d5d-d8ad-c5fb136941d2"
      },
      "execution_count": 45,
      "outputs": [
        {
          "output_type": "stream",
          "name": "stdout",
          "text": [
            "Array asli:\n",
            "[  1.      5.55  123.      0.567  25.532]\n",
            "\n",
            "\n",
            "Setelah pembulatan:\n",
            "[  1.   6. 123.   1.  26.]\n",
            "[  1.    5.6 123.    0.6  25.5]\n"
          ]
        }
      ]
    },
    {
      "cell_type": "markdown",
      "source": [
        "np.floor\n",
        "\n",
        "\n",
        "Fungsi ini mengembalikan bilangan bulat terbesar yang tidak lebih besar dari parameter input. Dasar skalar x adalah bilangan bulat terbesar i, sehingga i <= x. Perhatikan bahwa dalam Python, floor selalu dibulatkan dari 0."
      ],
      "metadata": {
        "id": "YbHH1m3eWYbP"
      }
    },
    {
      "cell_type": "code",
      "source": [
        "a = np.array([-1.7, 1.5, -0.2, 0.6, 10])\n",
        "\n",
        "print('Array asli:')\n",
        "print(a)\n",
        "print('\\n')\n",
        "\n",
        "print('flooring array:')\n",
        "print(np.floor(a))\n"
      ],
      "metadata": {
        "colab": {
          "base_uri": "https://localhost:8080/"
        },
        "id": "llaVxDbDWWKC",
        "outputId": "f3a0c9ca-3e5a-4923-d7b1-932e7fca196a"
      },
      "execution_count": 46,
      "outputs": [
        {
          "output_type": "stream",
          "name": "stdout",
          "text": [
            "Array asli:\n",
            "[-1.7  1.5 -0.2  0.6 10. ]\n",
            "\n",
            "\n",
            "flooring array:\n",
            "[-2.  1. -1.  0. 10.]\n"
          ]
        }
      ]
    },
    {
      "cell_type": "markdown",
      "source": [
        "np.ceil\n",
        "\n",
        "Fungsi ceil() mengembalikan plafon nilai input, yaitu ceil skalar x adalah bilangan bulat terkecil i, sehingga i >= x."
      ],
      "metadata": {
        "id": "u9jeTtOzXBxm"
      }
    },
    {
      "cell_type": "code",
      "source": [
        "a = np.array([-1.7, 1.5, -0.2, 0.6, 10])\n",
        "\n",
        "print('Array asli:')\n",
        "print(a)\n",
        "print('\\n')\n",
        "\n",
        "print('ceiling array:')\n",
        "print(np.ceil(a))\n"
      ],
      "metadata": {
        "colab": {
          "base_uri": "https://localhost:8080/"
        },
        "id": "NDKDF4FuXAzq",
        "outputId": "a7c07250-7cf0-408a-d0ac-4eb35234a31f"
      },
      "execution_count": 47,
      "outputs": [
        {
          "output_type": "stream",
          "name": "stdout",
          "text": [
            "Array asli:\n",
            "[-1.7  1.5 -0.2  0.6 10. ]\n",
            "\n",
            "\n",
            "ceiling array:\n",
            "[-1.  2. -0.  1. 10.]\n"
          ]
        }
      ]
    },
    {
      "cell_type": "markdown",
      "source": [
        "## Operasi Aritmatika"
      ],
      "metadata": {
        "id": "Q1dtZbDzYDF0"
      }
    },
    {
      "cell_type": "markdown",
      "source": [
        "Di dalam numpy ada fungsi untuk melakukan penjumlahan, pengurangan, perkalian dan pembagian"
      ],
      "metadata": {
        "id": "eSSVs7c1YNyP"
      }
    },
    {
      "cell_type": "code",
      "source": [
        "a = np.arange(9, dtype = np.float64).reshape(3,3)\n",
        "\n",
        "print('Array pertama:')\n",
        "print(a)\n",
        "print('\\n')\n",
        "\n",
        "print('Array kedua:')\n",
        "b = np.array([10,10,10])\n",
        "print(b)\n",
        "print('\\n')\n",
        "\n",
        "print('Penjumlahan 2 array:')\n",
        "print(np.add(a,b))\n",
        "print('\\n')\n",
        "\n",
        "print('Pengurangan 2 array:')\n",
        "print(np.subtract(a,b))\n",
        "print('\\n')\n",
        "\n",
        "print('Perkalian 2 array:')\n",
        "print(np.multiply(a,b))\n",
        "print('\\n')\n",
        "\n",
        "print('Pembagian 2 array:')\n",
        "print(np.divide(a,b))\n"
      ],
      "metadata": {
        "colab": {
          "base_uri": "https://localhost:8080/"
        },
        "id": "CVOvhsOVXXd5",
        "outputId": "4ea5be36-ea6f-4c6e-a2e9-9d3311a1bb22"
      },
      "execution_count": 48,
      "outputs": [
        {
          "output_type": "stream",
          "name": "stdout",
          "text": [
            "Array pertama:\n",
            "[[0. 1. 2.]\n",
            " [3. 4. 5.]\n",
            " [6. 7. 8.]]\n",
            "\n",
            "\n",
            "Array kedua:\n",
            "[10 10 10]\n",
            "\n",
            "\n",
            "Penjumlahan 2 array:\n",
            "[[10. 11. 12.]\n",
            " [13. 14. 15.]\n",
            " [16. 17. 18.]]\n",
            "\n",
            "\n",
            "Pengurangan 2 array:\n",
            "[[-10.  -9.  -8.]\n",
            " [ -7.  -6.  -5.]\n",
            " [ -4.  -3.  -2.]]\n",
            "\n",
            "\n",
            "Perkalian 2 array:\n",
            "[[ 0. 10. 20.]\n",
            " [30. 40. 50.]\n",
            " [60. 70. 80.]]\n",
            "\n",
            "\n",
            "Pembagian 2 array:\n",
            "[[0.  0.1 0.2]\n",
            " [0.3 0.4 0.5]\n",
            " [0.6 0.7 0.8]]\n"
          ]
        }
      ]
    },
    {
      "cell_type": "markdown",
      "source": [
        "Operasi perkalian pangkat dengan numpy.power"
      ],
      "metadata": {
        "id": "4-mdgaGTZkki"
      }
    },
    {
      "cell_type": "code",
      "source": [
        "a = np.array([10,100,1000])\n",
        "\n",
        "print('Array asli:')\n",
        "print(a)\n",
        "print('\\n')\n",
        "\n",
        "print('Menggunakan power function:')\n",
        "print(np.power(a,2))\n",
        "print('\\n')\n",
        "\n",
        "print('Array kedua:')\n",
        "b = np.array([1,2,3])\n",
        "print(b)\n",
        "print('\\n')\n",
        "\n",
        "print('Menggunakan power function lagi:')\n",
        "print(np.power(a,b))\n"
      ],
      "metadata": {
        "colab": {
          "base_uri": "https://localhost:8080/"
        },
        "id": "Fd4nt2wrYrO3",
        "outputId": "f518b1ff-644b-4808-ebef-7c2bd4ce1674"
      },
      "execution_count": 49,
      "outputs": [
        {
          "output_type": "stream",
          "name": "stdout",
          "text": [
            "Array asli:\n",
            "[  10  100 1000]\n",
            "\n",
            "\n",
            "Menggunakan power function:\n",
            "[    100   10000 1000000]\n",
            "\n",
            "\n",
            "Array kedua:\n",
            "[1 2 3]\n",
            "\n",
            "\n",
            "Menggunakan power function lagi:\n",
            "[        10      10000 1000000000]\n"
          ]
        }
      ]
    },
    {
      "cell_type": "markdown",
      "source": [
        "Mengambil nilai sisa hasil bagi dengan np.mod/np.remainder"
      ],
      "metadata": {
        "id": "NbthWu7jZ_Yh"
      }
    },
    {
      "cell_type": "code",
      "source": [
        "a = np.array([10,20,30])\n",
        "b = np.array([3,5,7])\n",
        "\n",
        "print('Array pertama:')\n",
        "print(a)\n",
        "print('\\n')\n",
        "\n",
        "print('Array kedua:')\n",
        "print(b)\n",
        "print('\\n')\n",
        "\n",
        "print('menggunakan mod() function:')\n",
        "print(np.mod(a,b))\n",
        "print('\\n')\n",
        "\n",
        "print('menggunakan remainder() function:')\n",
        "print(np.remainder(a,b))\n"
      ],
      "metadata": {
        "colab": {
          "base_uri": "https://localhost:8080/"
        },
        "id": "PAWx0WhjZ3zQ",
        "outputId": "79876abd-08e0-412d-e1a2-8d14a28066dc"
      },
      "execution_count": 50,
      "outputs": [
        {
          "output_type": "stream",
          "name": "stdout",
          "text": [
            "Array pertama:\n",
            "[10 20 30]\n",
            "\n",
            "\n",
            "Array kedua:\n",
            "[3 5 7]\n",
            "\n",
            "\n",
            "menggunakan mod() function:\n",
            "[1 0 2]\n",
            "\n",
            "\n",
            "menggunakan remainder() function:\n",
            "[1 0 2]\n"
          ]
        }
      ]
    },
    {
      "cell_type": "markdown",
      "source": [
        "## Fungsi Statistika"
      ],
      "metadata": {
        "id": "9C0HJbjybWDV"
      }
    },
    {
      "cell_type": "code",
      "source": [
        "# Mencari nilai minimum dan maximum dalam suatu array\n",
        "a = np.array([[3,7,5],[8,4,3],[2,4,9]])\n",
        "\n",
        "print('Array asli:')\n",
        "print(a)\n",
        "print('\\n')\n",
        "\n",
        "print('menggunakan amin() function:')\n",
        "print(np.amin(a,1))\n",
        "print('\\n')\n",
        "\n",
        "print('menggunakan amin() function lagi:')\n",
        "print(np.amin(a,0))\n",
        "print('\\n')\n",
        "\n",
        "print('menggunakan amax() function:')\n",
        "print(np.amax(a))\n",
        "print('\\n')\n",
        "\n",
        "print('menggunakan amax() function lagi:')\n",
        "print(np.amax(a, axis = 0))\n"
      ],
      "metadata": {
        "colab": {
          "base_uri": "https://localhost:8080/"
        },
        "id": "W2W0wf9Na5oa",
        "outputId": "99c8ef92-f0b9-4e42-b696-86a3597e3adb"
      },
      "execution_count": 51,
      "outputs": [
        {
          "output_type": "stream",
          "name": "stdout",
          "text": [
            "Array asli:\n",
            "[[3 7 5]\n",
            " [8 4 3]\n",
            " [2 4 9]]\n",
            "\n",
            "\n",
            "menggunakan amin() function:\n",
            "[3 3 2]\n",
            "\n",
            "\n",
            "menggunakan amin() function lagi:\n",
            "[2 4 3]\n",
            "\n",
            "\n",
            "menggunakan amax() function:\n",
            "9\n",
            "\n",
            "\n",
            "menggunakan amax() function lagi:\n",
            "[8 7 9]\n"
          ]
        }
      ]
    },
    {
      "cell_type": "markdown",
      "source": [
        "np.percentile\n",
        "\n",
        "Persentil (atau satu persentil) adalah ukuran yang digunakan dalam statistik yang menunjukkan nilai di bawah persentase pengamatan tertentu dalam kelompok pengamatan.\n",
        "\n",
        "\n",
        "numpy.percentile(a, q, axis)\n",
        "\n",
        "\n",
        "a : Input array\n",
        "\n",
        "q : Persentil yang akan dihitung harus antara 0-100\n",
        "\n",
        "axis : sumbu"
      ],
      "metadata": {
        "id": "nSCYdK4QekdL"
      }
    },
    {
      "cell_type": "markdown",
      "source": [
        "Persentil untuk nilai dalam kumpulan data tertentu dapat dihitung menggunakan rumus:\n",
        "\n",
        "n = (P/100) x N\n",
        "\n",
        "\n",
        "di mana N = jumlah nilai dalam kumpulan data, P = persentil, dan n = peringkat ordinal dari nilai yang diberikan (dengan nilai dalam kumpulan data diurutkan dari terkecil ke terbesar). Misalnya, ambil kelas yang terdiri dari 20 siswa yang memperoleh nilai berikut pada tes terbaru mereka: 75, 77, 78, 78, 80, 81, 81, 82, 83, 84, 84, 84, 85, 87, 87, 88, 88, 88, 89, 90. Skor ini dapat direpresentasikan sebagai kumpulan data dengan 20 nilai: {75, 77, 78, 78, 80, 81, 81, 82, 83, 84, 84, 84, 85, 87, 87, 88, 88, 88, 89, 90}.\n",
        "\n",
        "Kita dapat menemukan skor yang menandai persentil ke-20 dengan memasukkan nilai yang diketahui ke dalam rumus dan menyelesaikan n:\n",
        "\n",
        "n = (20/100) x 20\n",
        "\n",
        "n = 4\n",
        "\n",
        "Nilai keempat dalam kumpulan data adalah skor 78. Ini berarti bahwa 78 menandai persentil ke-20; dari siswa di kelas, 20 persen memperoleh skor 78 atau lebih rendah."
      ],
      "metadata": {
        "id": "zEvKVmTVjbMS"
      }
    },
    {
      "cell_type": "code",
      "source": [
        "a = np.array([[30,40,70],[80,20,10],[50,90,60]])\n",
        "\n",
        "print('Array asli:')\n",
        "print(a)\n",
        "print('\\n')\n",
        "\n",
        "print('menggunakan percentile() function:')\n",
        "print(np.percentile(a,50))\n",
        "print('\\n')\n",
        "\n",
        "print('Menggunakan percentile() function disumbu 1:')\n",
        "print(np.percentile(a,50, axis = 1))\n",
        "print('\\n')\n",
        "\n",
        "print('Menggunakan percentile() function disumbu 0:')\n",
        "print(np.percentile(a,50, axis = 0))\n",
        "\n",
        "\n"
      ],
      "metadata": {
        "colab": {
          "base_uri": "https://localhost:8080/"
        },
        "id": "2WE-N9CrdgaA",
        "outputId": "e62a4913-0aef-4bf3-c3d0-1f0baf6fb5e2"
      },
      "execution_count": 52,
      "outputs": [
        {
          "output_type": "stream",
          "name": "stdout",
          "text": [
            "Array asli:\n",
            "[[30 40 70]\n",
            " [80 20 10]\n",
            " [50 90 60]]\n",
            "\n",
            "\n",
            "menggunakan percentile() function:\n",
            "50.0\n",
            "\n",
            "\n",
            "Menggunakan percentile() function disumbu 1:\n",
            "[40. 20. 60.]\n",
            "\n",
            "\n",
            "Menggunakan percentile() function disumbu 0:\n",
            "[50. 40. 60.]\n"
          ]
        }
      ]
    },
    {
      "cell_type": "markdown",
      "source": [
        "Median didefinisikan sebagai nilai yang memisahkan bagian yang lebih tinggi dari sampel data dari bagian yang lebih rendah, dan bisa di hitung menggunakan numpy.median"
      ],
      "metadata": {
        "id": "TLt5e-Ullzy4"
      }
    },
    {
      "cell_type": "code",
      "source": [
        "a = np.array([[30,65,70],[80,95,10],[50,90,60]])\n",
        "\n",
        "print('Array asli:')\n",
        "print(a)\n",
        "print('\\n')\n",
        "\n",
        "print('menggunakan median() function:')\n",
        "print(np.median(a))\n",
        "print('\\n')\n",
        "\n",
        "print('menggunakan median() function sepanjang sumbu 0:')\n",
        "print(np.median(a, axis = 0))\n",
        "print('\\n')\n",
        "\n",
        "print('Menggunakan median() function sepanjang axis 1:')\n",
        "print(np.median(a, axis = 1))\n"
      ],
      "metadata": {
        "colab": {
          "base_uri": "https://localhost:8080/"
        },
        "id": "ELC7yuafkUsK",
        "outputId": "fd0b9b32-eb49-4848-fe5a-f1c27bbec569"
      },
      "execution_count": 53,
      "outputs": [
        {
          "output_type": "stream",
          "name": "stdout",
          "text": [
            "Array asli:\n",
            "[[30 65 70]\n",
            " [80 95 10]\n",
            " [50 90 60]]\n",
            "\n",
            "\n",
            "menggunakan median() function:\n",
            "65.0\n",
            "\n",
            "\n",
            "menggunakan median() function sepanjang sumbu 0:\n",
            "[50. 90. 60.]\n",
            "\n",
            "\n",
            "Menggunakan median() function sepanjang axis 1:\n",
            "[65. 80. 60.]\n"
          ]
        }
      ]
    },
    {
      "cell_type": "markdown",
      "source": [
        "Rata-rata aritmatika adalah jumlah elemen sepanjang sumbu dibagi dengan jumlah elemen. Fungsi numpy.mean() mengembalikan mean aritmatika elemen dalam array. Jika sumbu disebutkan secara eksplisit, maka akan dihitung berdasarkan nilai sumbunya\n",
        "\n",
        "\n"
      ],
      "metadata": {
        "id": "tRKNO-ROmZ-A"
      }
    },
    {
      "cell_type": "code",
      "source": [
        "a = np.array([[1,2,3],[3,4,5],[4,5,6]])\n",
        "\n",
        "print('Array asli:')\n",
        "print(a)\n",
        "print('\\n')\n",
        "\n",
        "print('Menggunakan mean() function:')\n",
        "print(np.mean(a))\n",
        "print('\\n')\n",
        "\n",
        "print('Menggunakan mean() function sepanjang sumbu 0:')\n",
        "print(np.mean(a, axis = 0))\n",
        "print('\\n')\n",
        "\n",
        "print('Menggunakan mean() function sepanjang sumbu 1:')\n",
        "print(np.mean(a, axis = 1))\n"
      ],
      "metadata": {
        "colab": {
          "base_uri": "https://localhost:8080/"
        },
        "id": "wDsr-GwwmC6l",
        "outputId": "8aeb97a0-e0b2-4698-d16e-8a2638bebd77"
      },
      "execution_count": 54,
      "outputs": [
        {
          "output_type": "stream",
          "name": "stdout",
          "text": [
            "Array asli:\n",
            "[[1 2 3]\n",
            " [3 4 5]\n",
            " [4 5 6]]\n",
            "\n",
            "\n",
            "Menggunakan mean() function:\n",
            "3.6666666666666665\n",
            "\n",
            "\n",
            "Menggunakan mean() function sepanjang sumbu 0:\n",
            "[2.66666667 3.66666667 4.66666667]\n",
            "\n",
            "\n",
            "Menggunakan mean() function sepanjang sumbu 1:\n",
            "[2. 4. 5.]\n"
          ]
        }
      ]
    },
    {
      "cell_type": "markdown",
      "source": [
        "Rata-rata tertimbang adalah rata-rata yang dihasilkan dari perkalian setiap komponen dengan faktor yang mencerminkan kepentingannya. Fungsi numpy.average() menghitung rata-rata tertimbang elemen dalam array sesuai dengan bobot masing-masing yang diberikan dalam array lain. Fungsi dapat memiliki parameter sumbu. Jika sumbu tidak ditentukan, array diratakan.\n",
        "\n",
        "Mempertimbangkan array [1,2,3,4] dan bobot yang sesuai [4,3,2,1], rata-rata tertimbang dihitung dengan menambahkan produk dari elemen yang sesuai dan membagi jumlah dengan jumlah bobot.\n",
        "\n",
        "Rata-rata tertimbang = (1*4+2*3+3*2+4*1)/(4+3+2+1)"
      ],
      "metadata": {
        "id": "KuEUNUFBn-Xs"
      }
    },
    {
      "cell_type": "code",
      "source": [
        "a = np.array([1,2,3,4])\n",
        "\n",
        "print('Array asli:')\n",
        "print(a)\n",
        "print('\\n')\n",
        "\n",
        "print('menggunakan average() function:')\n",
        "print(np.average(a))\n",
        "print('\\n')\n",
        "\n",
        "# this is same as mean when weight is not specified\n",
        "wts = np.array([4,3,2,1])\n",
        "\n",
        "print('menggunakan average() function lagi:')\n",
        "print(np.average(a,weights = wts))\n",
        "print('\\n')\n",
        "\n",
        "# Returns the sum of weights, if the returned parameter is set to True.\n",
        "print('Sum of weights')\n",
        "print(np.average([1,2,3, 4],weights = [4,3,2,1], returned = True))\n"
      ],
      "metadata": {
        "colab": {
          "base_uri": "https://localhost:8080/"
        },
        "id": "jfR64bB9mwbf",
        "outputId": "e9b818f8-0786-468b-cb36-96914af3fedd"
      },
      "execution_count": 55,
      "outputs": [
        {
          "output_type": "stream",
          "name": "stdout",
          "text": [
            "Array asli:\n",
            "[1 2 3 4]\n",
            "\n",
            "\n",
            "menggunakan average() function:\n",
            "2.5\n",
            "\n",
            "\n",
            "menggunakan average() function lagi:\n",
            "2.0\n",
            "\n",
            "\n",
            "Sum of weights\n",
            "(np.float64(2.0), np.float64(10.0))\n"
          ]
        }
      ]
    },
    {
      "cell_type": "markdown",
      "source": [
        "Standar deviasi  adalah ukuran seberapa tersebar data dalam kaitannya dengan mean. Standar deviasi rendah berarti data mengelompok di sekitar rata-rata, dan standar deviasi tinggi menunjukkan data lebih tersebar."
      ],
      "metadata": {
        "id": "GWkhoJnLqCyk"
      }
    },
    {
      "cell_type": "code",
      "source": [
        "np.std([1,2,3,4])"
      ],
      "metadata": {
        "colab": {
          "base_uri": "https://localhost:8080/"
        },
        "id": "XbeG__lXoJ_o",
        "outputId": "99457120-aa5c-4599-e025-04299015a9e7"
      },
      "execution_count": 56,
      "outputs": [
        {
          "output_type": "execute_result",
          "data": {
            "text/plain": [
              "np.float64(1.118033988749895)"
            ]
          },
          "metadata": {},
          "execution_count": 56
        }
      ]
    },
    {
      "cell_type": "markdown",
      "source": [
        "Varians adalah ukuran variabilitas. Ini dihitung dengan mengambil rata-rata deviasi kuadrat dari mean. Varians memberi tahu Anda tingkat penyebaran dalam kumpulan data Anda. Semakin menyebar data, semakin besar varians dalam kaitannya dengan mean"
      ],
      "metadata": {
        "id": "ZxsUTFfVrAsE"
      }
    },
    {
      "cell_type": "code",
      "source": [
        "print(np.var([1,2,3,4]))"
      ],
      "metadata": {
        "colab": {
          "base_uri": "https://localhost:8080/"
        },
        "id": "e0yPRf-_qPjO",
        "outputId": "3304a298-0c3a-4a89-9fb3-3e8c305cd6d9"
      },
      "execution_count": 57,
      "outputs": [
        {
          "output_type": "stream",
          "name": "stdout",
          "text": [
            "1.25\n"
          ]
        }
      ]
    },
    {
      "cell_type": "markdown",
      "source": [
        "Standar deviasi mengukur seberapa jauh angka-angka dalam kumpulan data. Varians, di sisi lain, memberikan nilai aktual seberapa banyak angka dalam kumpulan data bervariasi dari rata-rata"
      ],
      "metadata": {
        "id": "QvFgY3DutcaY"
      }
    },
    {
      "cell_type": "code",
      "source": [],
      "metadata": {
        "id": "FvRGkJqTtjLW"
      },
      "execution_count": 57,
      "outputs": []
    }
  ]
}