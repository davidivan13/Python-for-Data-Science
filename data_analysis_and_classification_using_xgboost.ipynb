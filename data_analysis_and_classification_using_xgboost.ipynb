{
  "cells": [
    {
      "cell_type": "markdown",
      "metadata": {
        "id": "view-in-github",
        "colab_type": "text"
      },
      "source": [
        "<a href=\"https://colab.research.google.com/github/davidivan13/Python-for-Data-Science/blob/main/data_analysis_and_classification_using_xgboost.ipynb\" target=\"_parent\"><img src=\"https://colab.research.google.com/assets/colab-badge.svg\" alt=\"Open In Colab\"/></a>"
      ]
    },
    {
      "metadata": {
        "_cell_guid": "fa3d2a9c-442b-44c2-bf4d-45bb544ec369",
        "_uuid": "bcba1675eebc008a35c21f6b64174161ff7d4c48",
        "id": "xw95mCTHWj-S"
      },
      "cell_type": "markdown",
      "source": [
        "# Sloan Digital Sky Survey Classification\n",
        "## Classification of Galaxies, Stars and Quasars based on the RD14 from the SDSS"
      ]
    },
    {
      "metadata": {
        "_cell_guid": "3179bd3c-9962-466d-89e4-ae7a9fce1893",
        "_uuid": "f1b22e6594af55d511f16280928408646ac56462",
        "id": "trDYkIPoWj-V"
      },
      "cell_type": "markdown",
      "source": [
        "### About the notebook"
      ]
    },
    {
      "metadata": {
        "_cell_guid": "d4bef474-9b3a-4bfd-80ee-b79f7fa144dc",
        "_uuid": "73e8f01266e59393a11b6e00300eb916ee50662f",
        "id": "7Eik880IWj-V"
      },
      "cell_type": "markdown",
      "source": [
        "In this notebook we will try to classify observations of space to be either stars, galaxies or quasars. We will try to have a complete cycle of the data science workflow including querying the database to get the dataset, data analysis and building machine learning models to predict for new data.\n",
        "\n",
        "We are using data from the Sloan Digital Sky Survey.\n",
        "\n"
      ]
    },
    {
      "metadata": {
        "_cell_guid": "8bab71c2-754a-48ab-90cc-035977be89b8",
        "_uuid": "56737fa09e0277f960d52b36c6589f08f799eeba",
        "id": "GoIanJl5Wj-V"
      },
      "cell_type": "markdown",
      "source": [
        "### About the SDSS"
      ]
    },
    {
      "metadata": {
        "_cell_guid": "3ae0f535-2034-41ce-8f96-ec53c9319738",
        "_uuid": "710358dc8a224cd40398183cbb2081fcf8f96a50",
        "id": "2Lq0om_8Wj-W"
      },
      "cell_type": "markdown",
      "source": [
        "The Sloan Digital Sky Survey adalah sebuah proyek yang menyediakan data publik dari observasi luar angkasa. Observasi telah dilakukan sejak tahun 1998 dan telah diakses oleh siapa pun yang berminat.\n",
        "\n",
        "Untuk tujuan ini, sebuah teleskop khusus dengan diameter 2.5 m dibangun di Observatorium Apache Point di New Mexico, Amerika Serikat. Teleskop menggunakan kamera dengan 30 CCD-Chips, masing-masing dengan 2048x2048 titik gambar. Chip-chip tersebut diatur dalam 5 baris dengan 6 chip di setiap baris. Setiap baris mengamati luar angkasa melalui filter optik yang berbeda (u, g, r, i, z) pada panjang gelombang sekitar 354, 476, 628, 769, 925 nm.\n",
        "\n",
        "Teleskop ini mencakup sekitar seperempat langit bumi - oleh karena itu fokus pada bagian utara langit.\n",
        "\n",
        "**For more information about this awesome project - please visit their website:**\n",
        "\n",
        "http://www.sdss.org/\n",
        "\n",
        "![alt text](http://www.fingerprintdigitalmedia.com/wp-content/uploads/2014/08/sdss1.jpg)"
      ]
    },
    {
      "metadata": {
        "_cell_guid": "b9d4b609-9f0f-4296-8462-98975b2ece09",
        "_uuid": "16d228ddb3b0d71d6e13093552c04a21146b75e5",
        "id": "FaoDvfeIWj-W"
      },
      "cell_type": "markdown",
      "source": [
        "### Importing Libraries"
      ]
    },
    {
      "metadata": {
        "_cell_guid": "13914766-c2fb-4801-8846-6c78e6d1cb03",
        "_uuid": "5bb212bdb34abc34f8bed1a0bc2d1a6287166221",
        "trusted": true,
        "id": "YJCGq_H1Wj-W"
      },
      "cell_type": "code",
      "source": [
        "import numpy as np\n",
        "import pandas as pd\n",
        "import matplotlib.pyplot as plt\n",
        "from matplotlib import style\n",
        "import seaborn as sns\n",
        "sns.set_style('whitegrid')\n",
        "import tensorflow as tf\n",
        "from sklearn.model_selection import train_test_split, cross_val_predict\n",
        "from sklearn.svm import SVC\n",
        "from sklearn.ensemble import RandomForestClassifier\n",
        "from sklearn.linear_model import SGDClassifier\n",
        "from sklearn.neighbors import KNeighborsClassifier\n",
        "from sklearn.naive_bayes import GaussianNB\n",
        "from sklearn.decomposition import PCA\n",
        "from xgboost import XGBClassifier\n",
        "from sklearn.preprocessing import LabelEncoder, MinMaxScaler\n",
        "from sklearn.metrics import confusion_matrix, precision_score, recall_score, f1_score\n",
        "import time\n",
        "import warnings\n",
        "warnings.filterwarnings(\"ignore\", category=DeprecationWarning)\n",
        "%matplotlib inline\n",
        "\n",
        "SMALL_SIZE = 10\n",
        "MEDIUM_SIZE = 12\n",
        "\n",
        "plt.rc('font', size=SMALL_SIZE)\n",
        "plt.rc('axes', titlesize=MEDIUM_SIZE)\n",
        "plt.rc('axes', labelsize=MEDIUM_SIZE)\n",
        "plt.rcParams['figure.dpi']=150"
      ],
      "execution_count": 1,
      "outputs": []
    },
    {
      "metadata": {
        "_cell_guid": "87680814-020a-4a48-966a-188ffb393eb8",
        "_uuid": "70ed9474476ba00cbe256cfd857e662518ba5d14",
        "id": "xXyP80egWj-W"
      },
      "cell_type": "markdown",
      "source": [
        "## Data Acquisition"
      ]
    },
    {
      "metadata": {
        "_cell_guid": "c9336c15-46c3-4a2b-8ce3-002f490aad7c",
        "_uuid": "32db81f80cb49de30a8a6c3ad04972d9de971c0a",
        "id": "4fVhI25RWj-W"
      },
      "cell_type": "markdown",
      "source": [
        "Public data from the SDSS can be accessed through multiple ways - I used the **CasJobs** website which offers a **SQL-based interface** which lets you query their database which contains the released data.\n",
        "\n",
        "For more information about how to get data from the SDSS see their Data Access Guide:\n",
        "\n",
        "http://www.sdss.org/dr14/data_access/\n",
        "\n",
        "I used the sample query given by the **CasJobs** to receive the data. Find the exact query below:"
      ]
    },
    {
      "metadata": {
        "_cell_guid": "47aefcd7-8ce4-41b8-848c-610ec48aa89c",
        "_uuid": "2ad8534b4a25b74d0c0e162949202b1e9de206a9",
        "id": "sW3IdEhbWj-X"
      },
      "cell_type": "markdown",
      "source": [
        "### Feature Description"
      ]
    },
    {
      "metadata": {
        "_cell_guid": "2b272b59-8c37-4e8e-a78a-ac5f50919d2e",
        "_uuid": "82c44461c45ae463a3d429f564f8bca17f8b0f4c",
        "id": "nCmURxOHWj-X"
      },
      "cell_type": "markdown",
      "source": [
        "#### View \"PhotoObj\"\n",
        "* objid = Object Identifier\n",
        "* ra = J2000 Right Ascension (r-band)\n",
        "* dec = J2000 Declination (r-band)\n",
        "\n",
        "Right ascension (abbreviated RA) is the angular distance measured eastward along the celestial equator from the Sun at the March equinox to the hour circle of the point above the earth in question. When paired with declination (abbreviated dec), these astronomical coordinates specify the direction of a point on the celestial sphere (traditionally called in English the skies or the sky) in the equatorial coordinate system.\n",
        "\n",
        "Source: https://en.wikipedia.org/wiki/Right_ascension\n",
        "\n",
        "* u = better of DeV/Exp magnitude fit\n",
        "* g = better of DeV/Exp magnitude fit\n",
        "* r = better of DeV/Exp magnitude fit\n",
        "* i = better of DeV/Exp magnitude fit\n",
        "* z = better of DeV/Exp magnitude fit\n",
        "\n",
        "The Thuan-Gunn astronomic magnitude system. u, g, r, i, z represent the response of the 5 bands of the telescope.\n",
        "\n",
        "Further education: https://www.astro.umd.edu/~ssm/ASTR620/mags.html\n",
        "\n",
        "* run = Run Number\n",
        "* rereun = Rerun Number\n",
        "* camcol = Camera column\n",
        "* field = Field number\n",
        "\n",
        "Run, rerun, camcol and field are features which describe a field within an image taken by the SDSS. A field is basically a part of the entire image corresponding to 2048 by 1489 pixels. A field can be identified by:\n",
        "- **run** number, which identifies the specific scan,\n",
        "- the camera column, or \"**camcol**,\" a number from 1 to 6, identifying the scanline within the run, and\n",
        "- the **field** number. The field number typically starts at 11 (after an initial rampup time), and can be as large as 800 for particularly long runs.\n",
        "- An additional number, **rerun**, specifies how the image was processed.\n",
        "\n",
        "#### View \"SpecObj\"\n",
        "\n",
        "* specobjid = Object Identifier\n",
        "* class = object class (galaxy, star or quasar object)\n",
        "\n",
        "The class identifies an object to be either a galaxy, star or quasar. This will be the response variable which we will be trying to predict.\n",
        "\n",
        "* redshift = Final Redshift\n",
        "* plate = plate number\n",
        "* mjd = MJD of observation\n",
        "* fiberid = fiber ID\n",
        "\n",
        "In physics, **redshift** happens when light or other electromagnetic radiation from an object is increased in wavelength, or shifted to the red end of the spectrum.\n",
        "\n",
        "Each spectroscopic exposure employs a large, thin, circular metal **plate** that positions optical fibers via holes drilled at the locations of the images in the telescope focal plane. These fibers then feed into the spectrographs. Each plate has a unique serial number, which is called plate in views such as SpecObj in the CAS.\n",
        "\n",
        "**Modified Julian Date**, used to indicate the date that a given piece of SDSS data (image or spectrum) was taken.\n",
        "\n",
        "The SDSS spectrograph uses optical fibers to direct the light at the focal plane from individual objects to the slithead. Each object is assigned a corresponding **fiberID**.\n",
        "\n",
        "**Further information on SDSS images and their attributes:**\n",
        "\n",
        "http://www.sdss3.org/dr9/imaging/imaging_basics.php\n",
        "\n",
        "http://www.sdss3.org/dr8/glossary.php"
      ]
    },
    {
      "metadata": {
        "_cell_guid": "ffb06ef6-73f7-4f42-ab42-5d5b5f773ba7",
        "_uuid": "04e88f8c9c12167a1c23e47b3e2046246510e983",
        "trusted": true,
        "id": "t7ngJ32ZWj-Y"
      },
      "cell_type": "code",
      "source": [
        "sdss_df = pd.read_csv('sdss_data_classification.csv', skiprows=0)"
      ],
      "execution_count": 2,
      "outputs": []
    },
    {
      "metadata": {
        "_cell_guid": "ca3f2be5-d15c-47ef-bc29-9a254ce2199d",
        "_uuid": "776947da30d7e7e2b88bd87dca65eaa8b04b158c",
        "id": "gAnLgw33Wj-Y"
      },
      "cell_type": "markdown",
      "source": [
        "## Data Exploration"
      ]
    },
    {
      "metadata": {
        "_cell_guid": "c5f29b18-e5f3-4b99-8abe-ce6f492f0584",
        "_uuid": "8fd7a1ae6fb17276694385e527fbfd98d548be4a",
        "id": "wrUqi1XPWj-Y"
      },
      "cell_type": "markdown",
      "source": [
        "### Basic stats about our dataset"
      ]
    },
    {
      "metadata": {
        "_cell_guid": "6246cf67-967f-4e01-99d0-191b0ea3a8d9",
        "_uuid": "5f49f9775c7d5cb9e46e725dbceb1269d7c23416",
        "id": "xp4KwZEhWj-Y"
      },
      "cell_type": "markdown",
      "source": [
        "Let's take a first look at our dataset to see what we're working with!"
      ]
    },
    {
      "metadata": {
        "scrolled": true,
        "_cell_guid": "26b460b4-d472-440b-b690-d8c12f267944",
        "_uuid": "149d00bab55383b7014daf916df81410717b643a",
        "trusted": true,
        "colab": {
          "base_uri": "https://localhost:8080/",
          "height": 226
        },
        "id": "zL5ZdXzPWj-Y",
        "outputId": "6b0e6d28-c03a-46ad-f008-4e33ded68b77"
      },
      "cell_type": "code",
      "source": [
        "sdss_df.head()"
      ],
      "execution_count": 3,
      "outputs": [
        {
          "output_type": "execute_result",
          "data": {
            "text/plain": [
              "          objid          ra       dec         u         g         r         i  \\\n",
              "0  1.237650e+18  183.531326  0.089693  19.47406  17.04240  15.94699  15.50342   \n",
              "1  1.237650e+18  183.598370  0.135285  18.66280  17.21449  16.67637  16.48922   \n",
              "2  1.237650e+18  183.680207  0.126185  19.38298  18.19169  17.47428  17.08732   \n",
              "3  1.237650e+18  183.870529  0.049911  17.76536  16.60272  16.16116  15.98233   \n",
              "4  1.237650e+18  183.883288  0.102557  17.55025  16.26342  16.43869  16.55492   \n",
              "\n",
              "          z  run  rerun  camcol  field     specobjid   class  redshift  plate  \\\n",
              "0  15.22531  752    301       4    267  3.722360e+18    STAR -0.000009   3306   \n",
              "1  16.39150  752    301       4    267  3.638140e+17    STAR -0.000055    323   \n",
              "2  16.80125  752    301       4    268  3.232740e+17  GALAXY  0.123111    287   \n",
              "3  15.90438  752    301       4    269  3.722370e+18    STAR -0.000111   3306   \n",
              "4  16.61326  752    301       4    269  3.722370e+18    STAR  0.000590   3306   \n",
              "\n",
              "     mjd  fiberid  \n",
              "0  54922      491  \n",
              "1  51615      541  \n",
              "2  52023      513  \n",
              "3  54922      510  \n",
              "4  54922      512  "
            ],
            "text/html": [
              "\n",
              "  <div id=\"df-d946ffad-005a-4fed-bc63-ee49a76b449a\" class=\"colab-df-container\">\n",
              "    <div>\n",
              "<style scoped>\n",
              "    .dataframe tbody tr th:only-of-type {\n",
              "        vertical-align: middle;\n",
              "    }\n",
              "\n",
              "    .dataframe tbody tr th {\n",
              "        vertical-align: top;\n",
              "    }\n",
              "\n",
              "    .dataframe thead th {\n",
              "        text-align: right;\n",
              "    }\n",
              "</style>\n",
              "<table border=\"1\" class=\"dataframe\">\n",
              "  <thead>\n",
              "    <tr style=\"text-align: right;\">\n",
              "      <th></th>\n",
              "      <th>objid</th>\n",
              "      <th>ra</th>\n",
              "      <th>dec</th>\n",
              "      <th>u</th>\n",
              "      <th>g</th>\n",
              "      <th>r</th>\n",
              "      <th>i</th>\n",
              "      <th>z</th>\n",
              "      <th>run</th>\n",
              "      <th>rerun</th>\n",
              "      <th>camcol</th>\n",
              "      <th>field</th>\n",
              "      <th>specobjid</th>\n",
              "      <th>class</th>\n",
              "      <th>redshift</th>\n",
              "      <th>plate</th>\n",
              "      <th>mjd</th>\n",
              "      <th>fiberid</th>\n",
              "    </tr>\n",
              "  </thead>\n",
              "  <tbody>\n",
              "    <tr>\n",
              "      <th>0</th>\n",
              "      <td>1.237650e+18</td>\n",
              "      <td>183.531326</td>\n",
              "      <td>0.089693</td>\n",
              "      <td>19.47406</td>\n",
              "      <td>17.04240</td>\n",
              "      <td>15.94699</td>\n",
              "      <td>15.50342</td>\n",
              "      <td>15.22531</td>\n",
              "      <td>752</td>\n",
              "      <td>301</td>\n",
              "      <td>4</td>\n",
              "      <td>267</td>\n",
              "      <td>3.722360e+18</td>\n",
              "      <td>STAR</td>\n",
              "      <td>-0.000009</td>\n",
              "      <td>3306</td>\n",
              "      <td>54922</td>\n",
              "      <td>491</td>\n",
              "    </tr>\n",
              "    <tr>\n",
              "      <th>1</th>\n",
              "      <td>1.237650e+18</td>\n",
              "      <td>183.598370</td>\n",
              "      <td>0.135285</td>\n",
              "      <td>18.66280</td>\n",
              "      <td>17.21449</td>\n",
              "      <td>16.67637</td>\n",
              "      <td>16.48922</td>\n",
              "      <td>16.39150</td>\n",
              "      <td>752</td>\n",
              "      <td>301</td>\n",
              "      <td>4</td>\n",
              "      <td>267</td>\n",
              "      <td>3.638140e+17</td>\n",
              "      <td>STAR</td>\n",
              "      <td>-0.000055</td>\n",
              "      <td>323</td>\n",
              "      <td>51615</td>\n",
              "      <td>541</td>\n",
              "    </tr>\n",
              "    <tr>\n",
              "      <th>2</th>\n",
              "      <td>1.237650e+18</td>\n",
              "      <td>183.680207</td>\n",
              "      <td>0.126185</td>\n",
              "      <td>19.38298</td>\n",
              "      <td>18.19169</td>\n",
              "      <td>17.47428</td>\n",
              "      <td>17.08732</td>\n",
              "      <td>16.80125</td>\n",
              "      <td>752</td>\n",
              "      <td>301</td>\n",
              "      <td>4</td>\n",
              "      <td>268</td>\n",
              "      <td>3.232740e+17</td>\n",
              "      <td>GALAXY</td>\n",
              "      <td>0.123111</td>\n",
              "      <td>287</td>\n",
              "      <td>52023</td>\n",
              "      <td>513</td>\n",
              "    </tr>\n",
              "    <tr>\n",
              "      <th>3</th>\n",
              "      <td>1.237650e+18</td>\n",
              "      <td>183.870529</td>\n",
              "      <td>0.049911</td>\n",
              "      <td>17.76536</td>\n",
              "      <td>16.60272</td>\n",
              "      <td>16.16116</td>\n",
              "      <td>15.98233</td>\n",
              "      <td>15.90438</td>\n",
              "      <td>752</td>\n",
              "      <td>301</td>\n",
              "      <td>4</td>\n",
              "      <td>269</td>\n",
              "      <td>3.722370e+18</td>\n",
              "      <td>STAR</td>\n",
              "      <td>-0.000111</td>\n",
              "      <td>3306</td>\n",
              "      <td>54922</td>\n",
              "      <td>510</td>\n",
              "    </tr>\n",
              "    <tr>\n",
              "      <th>4</th>\n",
              "      <td>1.237650e+18</td>\n",
              "      <td>183.883288</td>\n",
              "      <td>0.102557</td>\n",
              "      <td>17.55025</td>\n",
              "      <td>16.26342</td>\n",
              "      <td>16.43869</td>\n",
              "      <td>16.55492</td>\n",
              "      <td>16.61326</td>\n",
              "      <td>752</td>\n",
              "      <td>301</td>\n",
              "      <td>4</td>\n",
              "      <td>269</td>\n",
              "      <td>3.722370e+18</td>\n",
              "      <td>STAR</td>\n",
              "      <td>0.000590</td>\n",
              "      <td>3306</td>\n",
              "      <td>54922</td>\n",
              "      <td>512</td>\n",
              "    </tr>\n",
              "  </tbody>\n",
              "</table>\n",
              "</div>\n",
              "    <div class=\"colab-df-buttons\">\n",
              "\n",
              "  <div class=\"colab-df-container\">\n",
              "    <button class=\"colab-df-convert\" onclick=\"convertToInteractive('df-d946ffad-005a-4fed-bc63-ee49a76b449a')\"\n",
              "            title=\"Convert this dataframe to an interactive table.\"\n",
              "            style=\"display:none;\">\n",
              "\n",
              "  <svg xmlns=\"http://www.w3.org/2000/svg\" height=\"24px\" viewBox=\"0 -960 960 960\">\n",
              "    <path d=\"M120-120v-720h720v720H120Zm60-500h600v-160H180v160Zm220 220h160v-160H400v160Zm0 220h160v-160H400v160ZM180-400h160v-160H180v160Zm440 0h160v-160H620v160ZM180-180h160v-160H180v160Zm440 0h160v-160H620v160Z\"/>\n",
              "  </svg>\n",
              "    </button>\n",
              "\n",
              "  <style>\n",
              "    .colab-df-container {\n",
              "      display:flex;\n",
              "      gap: 12px;\n",
              "    }\n",
              "\n",
              "    .colab-df-convert {\n",
              "      background-color: #E8F0FE;\n",
              "      border: none;\n",
              "      border-radius: 50%;\n",
              "      cursor: pointer;\n",
              "      display: none;\n",
              "      fill: #1967D2;\n",
              "      height: 32px;\n",
              "      padding: 0 0 0 0;\n",
              "      width: 32px;\n",
              "    }\n",
              "\n",
              "    .colab-df-convert:hover {\n",
              "      background-color: #E2EBFA;\n",
              "      box-shadow: 0px 1px 2px rgba(60, 64, 67, 0.3), 0px 1px 3px 1px rgba(60, 64, 67, 0.15);\n",
              "      fill: #174EA6;\n",
              "    }\n",
              "\n",
              "    .colab-df-buttons div {\n",
              "      margin-bottom: 4px;\n",
              "    }\n",
              "\n",
              "    [theme=dark] .colab-df-convert {\n",
              "      background-color: #3B4455;\n",
              "      fill: #D2E3FC;\n",
              "    }\n",
              "\n",
              "    [theme=dark] .colab-df-convert:hover {\n",
              "      background-color: #434B5C;\n",
              "      box-shadow: 0px 1px 3px 1px rgba(0, 0, 0, 0.15);\n",
              "      filter: drop-shadow(0px 1px 2px rgba(0, 0, 0, 0.3));\n",
              "      fill: #FFFFFF;\n",
              "    }\n",
              "  </style>\n",
              "\n",
              "    <script>\n",
              "      const buttonEl =\n",
              "        document.querySelector('#df-d946ffad-005a-4fed-bc63-ee49a76b449a button.colab-df-convert');\n",
              "      buttonEl.style.display =\n",
              "        google.colab.kernel.accessAllowed ? 'block' : 'none';\n",
              "\n",
              "      async function convertToInteractive(key) {\n",
              "        const element = document.querySelector('#df-d946ffad-005a-4fed-bc63-ee49a76b449a');\n",
              "        const dataTable =\n",
              "          await google.colab.kernel.invokeFunction('convertToInteractive',\n",
              "                                                    [key], {});\n",
              "        if (!dataTable) return;\n",
              "\n",
              "        const docLinkHtml = 'Like what you see? Visit the ' +\n",
              "          '<a target=\"_blank\" href=https://colab.research.google.com/notebooks/data_table.ipynb>data table notebook</a>'\n",
              "          + ' to learn more about interactive tables.';\n",
              "        element.innerHTML = '';\n",
              "        dataTable['output_type'] = 'display_data';\n",
              "        await google.colab.output.renderOutput(dataTable, element);\n",
              "        const docLink = document.createElement('div');\n",
              "        docLink.innerHTML = docLinkHtml;\n",
              "        element.appendChild(docLink);\n",
              "      }\n",
              "    </script>\n",
              "  </div>\n",
              "\n",
              "\n",
              "    <div id=\"df-4f508a6f-0a7c-4b1c-9aba-7e1868a5a1e9\">\n",
              "      <button class=\"colab-df-quickchart\" onclick=\"quickchart('df-4f508a6f-0a7c-4b1c-9aba-7e1868a5a1e9')\"\n",
              "                title=\"Suggest charts\"\n",
              "                style=\"display:none;\">\n",
              "\n",
              "<svg xmlns=\"http://www.w3.org/2000/svg\" height=\"24px\"viewBox=\"0 0 24 24\"\n",
              "     width=\"24px\">\n",
              "    <g>\n",
              "        <path d=\"M19 3H5c-1.1 0-2 .9-2 2v14c0 1.1.9 2 2 2h14c1.1 0 2-.9 2-2V5c0-1.1-.9-2-2-2zM9 17H7v-7h2v7zm4 0h-2V7h2v10zm4 0h-2v-4h2v4z\"/>\n",
              "    </g>\n",
              "</svg>\n",
              "      </button>\n",
              "\n",
              "<style>\n",
              "  .colab-df-quickchart {\n",
              "      --bg-color: #E8F0FE;\n",
              "      --fill-color: #1967D2;\n",
              "      --hover-bg-color: #E2EBFA;\n",
              "      --hover-fill-color: #174EA6;\n",
              "      --disabled-fill-color: #AAA;\n",
              "      --disabled-bg-color: #DDD;\n",
              "  }\n",
              "\n",
              "  [theme=dark] .colab-df-quickchart {\n",
              "      --bg-color: #3B4455;\n",
              "      --fill-color: #D2E3FC;\n",
              "      --hover-bg-color: #434B5C;\n",
              "      --hover-fill-color: #FFFFFF;\n",
              "      --disabled-bg-color: #3B4455;\n",
              "      --disabled-fill-color: #666;\n",
              "  }\n",
              "\n",
              "  .colab-df-quickchart {\n",
              "    background-color: var(--bg-color);\n",
              "    border: none;\n",
              "    border-radius: 50%;\n",
              "    cursor: pointer;\n",
              "    display: none;\n",
              "    fill: var(--fill-color);\n",
              "    height: 32px;\n",
              "    padding: 0;\n",
              "    width: 32px;\n",
              "  }\n",
              "\n",
              "  .colab-df-quickchart:hover {\n",
              "    background-color: var(--hover-bg-color);\n",
              "    box-shadow: 0 1px 2px rgba(60, 64, 67, 0.3), 0 1px 3px 1px rgba(60, 64, 67, 0.15);\n",
              "    fill: var(--button-hover-fill-color);\n",
              "  }\n",
              "\n",
              "  .colab-df-quickchart-complete:disabled,\n",
              "  .colab-df-quickchart-complete:disabled:hover {\n",
              "    background-color: var(--disabled-bg-color);\n",
              "    fill: var(--disabled-fill-color);\n",
              "    box-shadow: none;\n",
              "  }\n",
              "\n",
              "  .colab-df-spinner {\n",
              "    border: 2px solid var(--fill-color);\n",
              "    border-color: transparent;\n",
              "    border-bottom-color: var(--fill-color);\n",
              "    animation:\n",
              "      spin 1s steps(1) infinite;\n",
              "  }\n",
              "\n",
              "  @keyframes spin {\n",
              "    0% {\n",
              "      border-color: transparent;\n",
              "      border-bottom-color: var(--fill-color);\n",
              "      border-left-color: var(--fill-color);\n",
              "    }\n",
              "    20% {\n",
              "      border-color: transparent;\n",
              "      border-left-color: var(--fill-color);\n",
              "      border-top-color: var(--fill-color);\n",
              "    }\n",
              "    30% {\n",
              "      border-color: transparent;\n",
              "      border-left-color: var(--fill-color);\n",
              "      border-top-color: var(--fill-color);\n",
              "      border-right-color: var(--fill-color);\n",
              "    }\n",
              "    40% {\n",
              "      border-color: transparent;\n",
              "      border-right-color: var(--fill-color);\n",
              "      border-top-color: var(--fill-color);\n",
              "    }\n",
              "    60% {\n",
              "      border-color: transparent;\n",
              "      border-right-color: var(--fill-color);\n",
              "    }\n",
              "    80% {\n",
              "      border-color: transparent;\n",
              "      border-right-color: var(--fill-color);\n",
              "      border-bottom-color: var(--fill-color);\n",
              "    }\n",
              "    90% {\n",
              "      border-color: transparent;\n",
              "      border-bottom-color: var(--fill-color);\n",
              "    }\n",
              "  }\n",
              "</style>\n",
              "\n",
              "      <script>\n",
              "        async function quickchart(key) {\n",
              "          const quickchartButtonEl =\n",
              "            document.querySelector('#' + key + ' button');\n",
              "          quickchartButtonEl.disabled = true;  // To prevent multiple clicks.\n",
              "          quickchartButtonEl.classList.add('colab-df-spinner');\n",
              "          try {\n",
              "            const charts = await google.colab.kernel.invokeFunction(\n",
              "                'suggestCharts', [key], {});\n",
              "          } catch (error) {\n",
              "            console.error('Error during call to suggestCharts:', error);\n",
              "          }\n",
              "          quickchartButtonEl.classList.remove('colab-df-spinner');\n",
              "          quickchartButtonEl.classList.add('colab-df-quickchart-complete');\n",
              "        }\n",
              "        (() => {\n",
              "          let quickchartButtonEl =\n",
              "            document.querySelector('#df-4f508a6f-0a7c-4b1c-9aba-7e1868a5a1e9 button');\n",
              "          quickchartButtonEl.style.display =\n",
              "            google.colab.kernel.accessAllowed ? 'block' : 'none';\n",
              "        })();\n",
              "      </script>\n",
              "    </div>\n",
              "\n",
              "    </div>\n",
              "  </div>\n"
            ],
            "application/vnd.google.colaboratory.intrinsic+json": {
              "type": "dataframe",
              "variable_name": "sdss_df",
              "summary": "{\n  \"name\": \"sdss_df\",\n  \"rows\": 10000,\n  \"fields\": [\n    {\n      \"column\": \"objid\",\n      \"properties\": {\n        \"dtype\": \"number\",\n        \"std\": 157703.88539140928,\n        \"min\": 1.23765e+18,\n        \"max\": 1.23765e+18,\n        \"num_unique_values\": 1,\n        \"samples\": [\n          1.23765e+18\n        ],\n        \"semantic_type\": \"\",\n        \"description\": \"\"\n      }\n    },\n    {\n      \"column\": \"ra\",\n      \"properties\": {\n        \"dtype\": \"number\",\n        \"std\": 47.78343941253625,\n        \"min\": 8.235100497,\n        \"max\": 260.8843818,\n        \"num_unique_values\": 10000,\n        \"samples\": [\n          134.6492674\n        ],\n        \"semantic_type\": \"\",\n        \"description\": \"\"\n      }\n    },\n    {\n      \"column\": \"dec\",\n      \"properties\": {\n        \"dtype\": \"number\",\n        \"std\": 25.21220657928434,\n        \"min\": -5.382632499,\n        \"max\": 68.54226541,\n        \"num_unique_values\": 10000,\n        \"samples\": [\n          54.38634445\n        ],\n        \"semantic_type\": \"\",\n        \"description\": \"\"\n      }\n    },\n    {\n      \"column\": \"u\",\n      \"properties\": {\n        \"dtype\": \"number\",\n        \"std\": 0.8286560094113746,\n        \"min\": 12.98897,\n        \"max\": 19.5999,\n        \"num_unique_values\": 9730,\n        \"samples\": [\n          16.99432\n        ],\n        \"semantic_type\": \"\",\n        \"description\": \"\"\n      }\n    },\n    {\n      \"column\": \"g\",\n      \"properties\": {\n        \"dtype\": \"number\",\n        \"std\": 0.9454571752688135,\n        \"min\": 12.79955,\n        \"max\": 19.91897,\n        \"num_unique_values\": 9817,\n        \"samples\": [\n          17.88955\n        ],\n        \"semantic_type\": \"\",\n        \"description\": \"\"\n      }\n    },\n    {\n      \"column\": \"r\",\n      \"properties\": {\n        \"dtype\": \"number\",\n        \"std\": 1.0677643494029374,\n        \"min\": 12.4316,\n        \"max\": 24.80204,\n        \"num_unique_values\": 9852,\n        \"samples\": [\n          17.62294\n        ],\n        \"semantic_type\": \"\",\n        \"description\": \"\"\n      }\n    },\n    {\n      \"column\": \"i\",\n      \"properties\": {\n        \"dtype\": \"number\",\n        \"std\": 1.1418048192775534,\n        \"min\": 11.94721,\n        \"max\": 28.17963,\n        \"num_unique_values\": 9890,\n        \"samples\": [\n          17.2252\n        ],\n        \"semantic_type\": \"\",\n        \"description\": \"\"\n      }\n    },\n    {\n      \"column\": \"z\",\n      \"properties\": {\n        \"dtype\": \"number\",\n        \"std\": 1.2031880475759795,\n        \"min\": 11.61041,\n        \"max\": 22.83306,\n        \"num_unique_values\": 9896,\n        \"samples\": [\n          17.83397\n        ],\n        \"semantic_type\": \"\",\n        \"description\": \"\"\n      }\n    },\n    {\n      \"column\": \"run\",\n      \"properties\": {\n        \"dtype\": \"number\",\n        \"std\": 273,\n        \"min\": 308,\n        \"max\": 1412,\n        \"num_unique_values\": 23,\n        \"samples\": [\n          1345\n        ],\n        \"semantic_type\": \"\",\n        \"description\": \"\"\n      }\n    },\n    {\n      \"column\": \"rerun\",\n      \"properties\": {\n        \"dtype\": \"number\",\n        \"std\": 0,\n        \"min\": 301,\n        \"max\": 301,\n        \"num_unique_values\": 1,\n        \"samples\": [\n          301\n        ],\n        \"semantic_type\": \"\",\n        \"description\": \"\"\n      }\n    },\n    {\n      \"column\": \"camcol\",\n      \"properties\": {\n        \"dtype\": \"number\",\n        \"std\": 1,\n        \"min\": 1,\n        \"max\": 6,\n        \"num_unique_values\": 6,\n        \"samples\": [\n          4\n        ],\n        \"semantic_type\": \"\",\n        \"description\": \"\"\n      }\n    },\n    {\n      \"column\": \"field\",\n      \"properties\": {\n        \"dtype\": \"number\",\n        \"std\": 162,\n        \"min\": 11,\n        \"max\": 768,\n        \"num_unique_values\": 703,\n        \"samples\": [\n          621\n        ],\n        \"semantic_type\": \"\",\n        \"description\": \"\"\n      }\n    },\n    {\n      \"column\": \"specobjid\",\n      \"properties\": {\n        \"dtype\": \"number\",\n        \"std\": 2.0139984928669066e+18,\n        \"min\": 2.99578e+17,\n        \"max\": 9.46883e+18,\n        \"num_unique_values\": 6349,\n        \"samples\": [\n          3.11946e+17\n        ],\n        \"semantic_type\": \"\",\n        \"description\": \"\"\n      }\n    },\n    {\n      \"column\": \"class\",\n      \"properties\": {\n        \"dtype\": \"category\",\n        \"num_unique_values\": 3,\n        \"samples\": [\n          \"STAR\"\n        ],\n        \"semantic_type\": \"\",\n        \"description\": \"\"\n      }\n    },\n    {\n      \"column\": \"redshift\",\n      \"properties\": {\n        \"dtype\": \"number\",\n        \"std\": 0.38877403581146536,\n        \"min\": -0.004136078,\n        \"max\": 5.353854,\n        \"num_unique_values\": 9637,\n        \"samples\": [\n          0.000189883\n        ],\n        \"semantic_type\": \"\",\n        \"description\": \"\"\n      }\n    },\n    {\n      \"column\": \"plate\",\n      \"properties\": {\n        \"dtype\": \"number\",\n        \"std\": 1788,\n        \"min\": 266,\n        \"max\": 8410,\n        \"num_unique_values\": 487,\n        \"samples\": [\n          3848\n        ],\n        \"semantic_type\": \"\",\n        \"description\": \"\"\n      }\n    },\n    {\n      \"column\": \"mjd\",\n      \"properties\": {\n        \"dtype\": \"number\",\n        \"std\": 1511,\n        \"min\": 51578,\n        \"max\": 57481,\n        \"num_unique_values\": 355,\n        \"samples\": [\n          54862\n        ],\n        \"semantic_type\": \"\",\n        \"description\": \"\"\n      }\n    },\n    {\n      \"column\": \"fiberid\",\n      \"properties\": {\n        \"dtype\": \"number\",\n        \"std\": 206,\n        \"min\": 1,\n        \"max\": 1000,\n        \"num_unique_values\": 892,\n        \"samples\": [\n          658\n        ],\n        \"semantic_type\": \"\",\n        \"description\": \"\"\n      }\n    }\n  ]\n}"
            }
          },
          "metadata": {},
          "execution_count": 3
        }
      ]
    },
    {
      "metadata": {
        "_cell_guid": "aec349a7-7dcd-4e93-b9d1-5a8f032ca6c7",
        "_uuid": "43d8f5997c96f67ff4445ba00cd60c1d3f36d744",
        "id": "fGYN2ATPWj-Z"
      },
      "cell_type": "markdown",
      "source": [
        "We can tell that we have all the features as described in the above query.\n",
        "\n",
        "We notice that there are no categorical features at all - besides the class column. As some machine learning models can't handle categorical feature columns at all, we will encode this column to be a numerical column later on."
      ]
    },
    {
      "metadata": {
        "_cell_guid": "811c152a-331b-4b69-a7d3-ab52934ef15c",
        "_uuid": "7b054433b30b6ea6b1f9024ef323270d86874e76",
        "id": "HHrDeRaCWj-Z"
      },
      "cell_type": "markdown",
      "source": [
        "Let's find out about the types of columns we have:"
      ]
    },
    {
      "metadata": {
        "scrolled": false,
        "_cell_guid": "bd29718c-d53e-4b52-a9ee-b8a9a252d864",
        "_uuid": "926e1713524a5fcac0353e1d7c03d1f74042f348",
        "trusted": true,
        "colab": {
          "base_uri": "https://localhost:8080/"
        },
        "id": "MGPnas7OWj-Z",
        "outputId": "ab0ad68d-a180-4726-a77e-9e23f843a7a9"
      },
      "cell_type": "code",
      "source": [
        "sdss_df.info()"
      ],
      "execution_count": 4,
      "outputs": [
        {
          "output_type": "stream",
          "name": "stdout",
          "text": [
            "<class 'pandas.core.frame.DataFrame'>\n",
            "RangeIndex: 10000 entries, 0 to 9999\n",
            "Data columns (total 18 columns):\n",
            " #   Column     Non-Null Count  Dtype  \n",
            "---  ------     --------------  -----  \n",
            " 0   objid      10000 non-null  float64\n",
            " 1   ra         10000 non-null  float64\n",
            " 2   dec        10000 non-null  float64\n",
            " 3   u          10000 non-null  float64\n",
            " 4   g          10000 non-null  float64\n",
            " 5   r          10000 non-null  float64\n",
            " 6   i          10000 non-null  float64\n",
            " 7   z          10000 non-null  float64\n",
            " 8   run        10000 non-null  int64  \n",
            " 9   rerun      10000 non-null  int64  \n",
            " 10  camcol     10000 non-null  int64  \n",
            " 11  field      10000 non-null  int64  \n",
            " 12  specobjid  10000 non-null  float64\n",
            " 13  class      10000 non-null  object \n",
            " 14  redshift   10000 non-null  float64\n",
            " 15  plate      10000 non-null  int64  \n",
            " 16  mjd        10000 non-null  int64  \n",
            " 17  fiberid    10000 non-null  int64  \n",
            "dtypes: float64(10), int64(7), object(1)\n",
            "memory usage: 1.4+ MB\n"
          ]
        }
      ]
    },
    {
      "metadata": {
        "_cell_guid": "75a847f1-0dfc-4228-9cbc-49d6034463e5",
        "_uuid": "9b01bc847e158cfa00d411ea687cb573a0037aef",
        "id": "su5R2x0XWj-Z"
      },
      "cell_type": "markdown",
      "source": [
        "The dataset has 10000 examples, 17 feature columns and 1 target column. 8 of the 17 features are 64 bit integers, 1 feature is an unsigned 64 bit integer, 8 are 64 bit floats and the target column is of the type object."
      ]
    },
    {
      "metadata": {
        "scrolled": true,
        "_cell_guid": "6723c745-8446-46f0-a866-8c22668607d3",
        "_uuid": "77495f8526975b41e2ba43063b82d807e8ba1109",
        "trusted": true,
        "colab": {
          "base_uri": "https://localhost:8080/",
          "height": 320
        },
        "id": "s4oh_I6GWj-Z",
        "outputId": "3f519c4d-f033-4e3e-b465-2027fe5d983a"
      },
      "cell_type": "code",
      "source": [
        "sdss_df.describe()"
      ],
      "execution_count": 5,
      "outputs": [
        {
          "output_type": "execute_result",
          "data": {
            "text/plain": [
              "              objid            ra           dec             u             g  \\\n",
              "count  1.000000e+04  10000.000000  10000.000000  10000.000000  10000.000000   \n",
              "mean   1.237650e+18    175.529987     14.836148     18.619355     17.371931   \n",
              "std    1.577039e+05     47.783439     25.212207      0.828656      0.945457   \n",
              "min    1.237650e+18      8.235100     -5.382632     12.988970     12.799550   \n",
              "25%    1.237650e+18    157.370946     -0.539035     18.178035     16.815100   \n",
              "50%    1.237650e+18    180.394514      0.404166     18.853095     17.495135   \n",
              "75%    1.237650e+18    201.547279     35.649397     19.259232     18.010145   \n",
              "max    1.237650e+18    260.884382     68.542265     19.599900     19.918970   \n",
              "\n",
              "                  r             i             z           run    rerun  \\\n",
              "count  10000.000000  10000.000000  10000.000000  10000.000000  10000.0   \n",
              "mean      16.840963     16.583579     16.422833    981.034800    301.0   \n",
              "std        1.067764      1.141805      1.203188    273.305024      0.0   \n",
              "min       12.431600     11.947210     11.610410    308.000000    301.0   \n",
              "25%       16.173333     15.853705     15.618285    752.000000    301.0   \n",
              "50%       16.858770     16.554985     16.389945    756.000000    301.0   \n",
              "75%       17.512675     17.258550     17.141447   1331.000000    301.0   \n",
              "max       24.802040     28.179630     22.833060   1412.000000    301.0   \n",
              "\n",
              "             camcol         field     specobjid      redshift         plate  \\\n",
              "count  10000.000000  10000.000000  1.000000e+04  10000.000000  10000.000000   \n",
              "mean       3.648700    302.380100  1.645022e+18      0.143726   1460.986400   \n",
              "std        1.666183    162.577763  2.013998e+18      0.388774   1788.778371   \n",
              "min        1.000000     11.000000  2.995780e+17     -0.004136    266.000000   \n",
              "25%        2.000000    184.000000  3.389248e+17      0.000081    301.000000   \n",
              "50%        4.000000    299.000000  4.966580e+17      0.042591    441.000000   \n",
              "75%        5.000000    414.000000  2.881300e+18      0.092579   2559.000000   \n",
              "max        6.000000    768.000000  9.468830e+18      5.353854   8410.000000   \n",
              "\n",
              "                mjd       fiberid  \n",
              "count  10000.000000  10000.000000  \n",
              "mean   52943.533300    353.069400  \n",
              "std     1511.150651    206.298149  \n",
              "min    51578.000000      1.000000  \n",
              "25%    51900.000000    186.750000  \n",
              "50%    51997.000000    351.000000  \n",
              "75%    54468.000000    510.000000  \n",
              "max    57481.000000   1000.000000  "
            ],
            "text/html": [
              "\n",
              "  <div id=\"df-187a7e6b-4349-4bf8-9583-912d137c7c58\" class=\"colab-df-container\">\n",
              "    <div>\n",
              "<style scoped>\n",
              "    .dataframe tbody tr th:only-of-type {\n",
              "        vertical-align: middle;\n",
              "    }\n",
              "\n",
              "    .dataframe tbody tr th {\n",
              "        vertical-align: top;\n",
              "    }\n",
              "\n",
              "    .dataframe thead th {\n",
              "        text-align: right;\n",
              "    }\n",
              "</style>\n",
              "<table border=\"1\" class=\"dataframe\">\n",
              "  <thead>\n",
              "    <tr style=\"text-align: right;\">\n",
              "      <th></th>\n",
              "      <th>objid</th>\n",
              "      <th>ra</th>\n",
              "      <th>dec</th>\n",
              "      <th>u</th>\n",
              "      <th>g</th>\n",
              "      <th>r</th>\n",
              "      <th>i</th>\n",
              "      <th>z</th>\n",
              "      <th>run</th>\n",
              "      <th>rerun</th>\n",
              "      <th>camcol</th>\n",
              "      <th>field</th>\n",
              "      <th>specobjid</th>\n",
              "      <th>redshift</th>\n",
              "      <th>plate</th>\n",
              "      <th>mjd</th>\n",
              "      <th>fiberid</th>\n",
              "    </tr>\n",
              "  </thead>\n",
              "  <tbody>\n",
              "    <tr>\n",
              "      <th>count</th>\n",
              "      <td>1.000000e+04</td>\n",
              "      <td>10000.000000</td>\n",
              "      <td>10000.000000</td>\n",
              "      <td>10000.000000</td>\n",
              "      <td>10000.000000</td>\n",
              "      <td>10000.000000</td>\n",
              "      <td>10000.000000</td>\n",
              "      <td>10000.000000</td>\n",
              "      <td>10000.000000</td>\n",
              "      <td>10000.0</td>\n",
              "      <td>10000.000000</td>\n",
              "      <td>10000.000000</td>\n",
              "      <td>1.000000e+04</td>\n",
              "      <td>10000.000000</td>\n",
              "      <td>10000.000000</td>\n",
              "      <td>10000.000000</td>\n",
              "      <td>10000.000000</td>\n",
              "    </tr>\n",
              "    <tr>\n",
              "      <th>mean</th>\n",
              "      <td>1.237650e+18</td>\n",
              "      <td>175.529987</td>\n",
              "      <td>14.836148</td>\n",
              "      <td>18.619355</td>\n",
              "      <td>17.371931</td>\n",
              "      <td>16.840963</td>\n",
              "      <td>16.583579</td>\n",
              "      <td>16.422833</td>\n",
              "      <td>981.034800</td>\n",
              "      <td>301.0</td>\n",
              "      <td>3.648700</td>\n",
              "      <td>302.380100</td>\n",
              "      <td>1.645022e+18</td>\n",
              "      <td>0.143726</td>\n",
              "      <td>1460.986400</td>\n",
              "      <td>52943.533300</td>\n",
              "      <td>353.069400</td>\n",
              "    </tr>\n",
              "    <tr>\n",
              "      <th>std</th>\n",
              "      <td>1.577039e+05</td>\n",
              "      <td>47.783439</td>\n",
              "      <td>25.212207</td>\n",
              "      <td>0.828656</td>\n",
              "      <td>0.945457</td>\n",
              "      <td>1.067764</td>\n",
              "      <td>1.141805</td>\n",
              "      <td>1.203188</td>\n",
              "      <td>273.305024</td>\n",
              "      <td>0.0</td>\n",
              "      <td>1.666183</td>\n",
              "      <td>162.577763</td>\n",
              "      <td>2.013998e+18</td>\n",
              "      <td>0.388774</td>\n",
              "      <td>1788.778371</td>\n",
              "      <td>1511.150651</td>\n",
              "      <td>206.298149</td>\n",
              "    </tr>\n",
              "    <tr>\n",
              "      <th>min</th>\n",
              "      <td>1.237650e+18</td>\n",
              "      <td>8.235100</td>\n",
              "      <td>-5.382632</td>\n",
              "      <td>12.988970</td>\n",
              "      <td>12.799550</td>\n",
              "      <td>12.431600</td>\n",
              "      <td>11.947210</td>\n",
              "      <td>11.610410</td>\n",
              "      <td>308.000000</td>\n",
              "      <td>301.0</td>\n",
              "      <td>1.000000</td>\n",
              "      <td>11.000000</td>\n",
              "      <td>2.995780e+17</td>\n",
              "      <td>-0.004136</td>\n",
              "      <td>266.000000</td>\n",
              "      <td>51578.000000</td>\n",
              "      <td>1.000000</td>\n",
              "    </tr>\n",
              "    <tr>\n",
              "      <th>25%</th>\n",
              "      <td>1.237650e+18</td>\n",
              "      <td>157.370946</td>\n",
              "      <td>-0.539035</td>\n",
              "      <td>18.178035</td>\n",
              "      <td>16.815100</td>\n",
              "      <td>16.173333</td>\n",
              "      <td>15.853705</td>\n",
              "      <td>15.618285</td>\n",
              "      <td>752.000000</td>\n",
              "      <td>301.0</td>\n",
              "      <td>2.000000</td>\n",
              "      <td>184.000000</td>\n",
              "      <td>3.389248e+17</td>\n",
              "      <td>0.000081</td>\n",
              "      <td>301.000000</td>\n",
              "      <td>51900.000000</td>\n",
              "      <td>186.750000</td>\n",
              "    </tr>\n",
              "    <tr>\n",
              "      <th>50%</th>\n",
              "      <td>1.237650e+18</td>\n",
              "      <td>180.394514</td>\n",
              "      <td>0.404166</td>\n",
              "      <td>18.853095</td>\n",
              "      <td>17.495135</td>\n",
              "      <td>16.858770</td>\n",
              "      <td>16.554985</td>\n",
              "      <td>16.389945</td>\n",
              "      <td>756.000000</td>\n",
              "      <td>301.0</td>\n",
              "      <td>4.000000</td>\n",
              "      <td>299.000000</td>\n",
              "      <td>4.966580e+17</td>\n",
              "      <td>0.042591</td>\n",
              "      <td>441.000000</td>\n",
              "      <td>51997.000000</td>\n",
              "      <td>351.000000</td>\n",
              "    </tr>\n",
              "    <tr>\n",
              "      <th>75%</th>\n",
              "      <td>1.237650e+18</td>\n",
              "      <td>201.547279</td>\n",
              "      <td>35.649397</td>\n",
              "      <td>19.259232</td>\n",
              "      <td>18.010145</td>\n",
              "      <td>17.512675</td>\n",
              "      <td>17.258550</td>\n",
              "      <td>17.141447</td>\n",
              "      <td>1331.000000</td>\n",
              "      <td>301.0</td>\n",
              "      <td>5.000000</td>\n",
              "      <td>414.000000</td>\n",
              "      <td>2.881300e+18</td>\n",
              "      <td>0.092579</td>\n",
              "      <td>2559.000000</td>\n",
              "      <td>54468.000000</td>\n",
              "      <td>510.000000</td>\n",
              "    </tr>\n",
              "    <tr>\n",
              "      <th>max</th>\n",
              "      <td>1.237650e+18</td>\n",
              "      <td>260.884382</td>\n",
              "      <td>68.542265</td>\n",
              "      <td>19.599900</td>\n",
              "      <td>19.918970</td>\n",
              "      <td>24.802040</td>\n",
              "      <td>28.179630</td>\n",
              "      <td>22.833060</td>\n",
              "      <td>1412.000000</td>\n",
              "      <td>301.0</td>\n",
              "      <td>6.000000</td>\n",
              "      <td>768.000000</td>\n",
              "      <td>9.468830e+18</td>\n",
              "      <td>5.353854</td>\n",
              "      <td>8410.000000</td>\n",
              "      <td>57481.000000</td>\n",
              "      <td>1000.000000</td>\n",
              "    </tr>\n",
              "  </tbody>\n",
              "</table>\n",
              "</div>\n",
              "    <div class=\"colab-df-buttons\">\n",
              "\n",
              "  <div class=\"colab-df-container\">\n",
              "    <button class=\"colab-df-convert\" onclick=\"convertToInteractive('df-187a7e6b-4349-4bf8-9583-912d137c7c58')\"\n",
              "            title=\"Convert this dataframe to an interactive table.\"\n",
              "            style=\"display:none;\">\n",
              "\n",
              "  <svg xmlns=\"http://www.w3.org/2000/svg\" height=\"24px\" viewBox=\"0 -960 960 960\">\n",
              "    <path d=\"M120-120v-720h720v720H120Zm60-500h600v-160H180v160Zm220 220h160v-160H400v160Zm0 220h160v-160H400v160ZM180-400h160v-160H180v160Zm440 0h160v-160H620v160ZM180-180h160v-160H180v160Zm440 0h160v-160H620v160Z\"/>\n",
              "  </svg>\n",
              "    </button>\n",
              "\n",
              "  <style>\n",
              "    .colab-df-container {\n",
              "      display:flex;\n",
              "      gap: 12px;\n",
              "    }\n",
              "\n",
              "    .colab-df-convert {\n",
              "      background-color: #E8F0FE;\n",
              "      border: none;\n",
              "      border-radius: 50%;\n",
              "      cursor: pointer;\n",
              "      display: none;\n",
              "      fill: #1967D2;\n",
              "      height: 32px;\n",
              "      padding: 0 0 0 0;\n",
              "      width: 32px;\n",
              "    }\n",
              "\n",
              "    .colab-df-convert:hover {\n",
              "      background-color: #E2EBFA;\n",
              "      box-shadow: 0px 1px 2px rgba(60, 64, 67, 0.3), 0px 1px 3px 1px rgba(60, 64, 67, 0.15);\n",
              "      fill: #174EA6;\n",
              "    }\n",
              "\n",
              "    .colab-df-buttons div {\n",
              "      margin-bottom: 4px;\n",
              "    }\n",
              "\n",
              "    [theme=dark] .colab-df-convert {\n",
              "      background-color: #3B4455;\n",
              "      fill: #D2E3FC;\n",
              "    }\n",
              "\n",
              "    [theme=dark] .colab-df-convert:hover {\n",
              "      background-color: #434B5C;\n",
              "      box-shadow: 0px 1px 3px 1px rgba(0, 0, 0, 0.15);\n",
              "      filter: drop-shadow(0px 1px 2px rgba(0, 0, 0, 0.3));\n",
              "      fill: #FFFFFF;\n",
              "    }\n",
              "  </style>\n",
              "\n",
              "    <script>\n",
              "      const buttonEl =\n",
              "        document.querySelector('#df-187a7e6b-4349-4bf8-9583-912d137c7c58 button.colab-df-convert');\n",
              "      buttonEl.style.display =\n",
              "        google.colab.kernel.accessAllowed ? 'block' : 'none';\n",
              "\n",
              "      async function convertToInteractive(key) {\n",
              "        const element = document.querySelector('#df-187a7e6b-4349-4bf8-9583-912d137c7c58');\n",
              "        const dataTable =\n",
              "          await google.colab.kernel.invokeFunction('convertToInteractive',\n",
              "                                                    [key], {});\n",
              "        if (!dataTable) return;\n",
              "\n",
              "        const docLinkHtml = 'Like what you see? Visit the ' +\n",
              "          '<a target=\"_blank\" href=https://colab.research.google.com/notebooks/data_table.ipynb>data table notebook</a>'\n",
              "          + ' to learn more about interactive tables.';\n",
              "        element.innerHTML = '';\n",
              "        dataTable['output_type'] = 'display_data';\n",
              "        await google.colab.output.renderOutput(dataTable, element);\n",
              "        const docLink = document.createElement('div');\n",
              "        docLink.innerHTML = docLinkHtml;\n",
              "        element.appendChild(docLink);\n",
              "      }\n",
              "    </script>\n",
              "  </div>\n",
              "\n",
              "\n",
              "    <div id=\"df-d5bfd264-7e78-4de7-8747-7528dfa8b867\">\n",
              "      <button class=\"colab-df-quickchart\" onclick=\"quickchart('df-d5bfd264-7e78-4de7-8747-7528dfa8b867')\"\n",
              "                title=\"Suggest charts\"\n",
              "                style=\"display:none;\">\n",
              "\n",
              "<svg xmlns=\"http://www.w3.org/2000/svg\" height=\"24px\"viewBox=\"0 0 24 24\"\n",
              "     width=\"24px\">\n",
              "    <g>\n",
              "        <path d=\"M19 3H5c-1.1 0-2 .9-2 2v14c0 1.1.9 2 2 2h14c1.1 0 2-.9 2-2V5c0-1.1-.9-2-2-2zM9 17H7v-7h2v7zm4 0h-2V7h2v10zm4 0h-2v-4h2v4z\"/>\n",
              "    </g>\n",
              "</svg>\n",
              "      </button>\n",
              "\n",
              "<style>\n",
              "  .colab-df-quickchart {\n",
              "      --bg-color: #E8F0FE;\n",
              "      --fill-color: #1967D2;\n",
              "      --hover-bg-color: #E2EBFA;\n",
              "      --hover-fill-color: #174EA6;\n",
              "      --disabled-fill-color: #AAA;\n",
              "      --disabled-bg-color: #DDD;\n",
              "  }\n",
              "\n",
              "  [theme=dark] .colab-df-quickchart {\n",
              "      --bg-color: #3B4455;\n",
              "      --fill-color: #D2E3FC;\n",
              "      --hover-bg-color: #434B5C;\n",
              "      --hover-fill-color: #FFFFFF;\n",
              "      --disabled-bg-color: #3B4455;\n",
              "      --disabled-fill-color: #666;\n",
              "  }\n",
              "\n",
              "  .colab-df-quickchart {\n",
              "    background-color: var(--bg-color);\n",
              "    border: none;\n",
              "    border-radius: 50%;\n",
              "    cursor: pointer;\n",
              "    display: none;\n",
              "    fill: var(--fill-color);\n",
              "    height: 32px;\n",
              "    padding: 0;\n",
              "    width: 32px;\n",
              "  }\n",
              "\n",
              "  .colab-df-quickchart:hover {\n",
              "    background-color: var(--hover-bg-color);\n",
              "    box-shadow: 0 1px 2px rgba(60, 64, 67, 0.3), 0 1px 3px 1px rgba(60, 64, 67, 0.15);\n",
              "    fill: var(--button-hover-fill-color);\n",
              "  }\n",
              "\n",
              "  .colab-df-quickchart-complete:disabled,\n",
              "  .colab-df-quickchart-complete:disabled:hover {\n",
              "    background-color: var(--disabled-bg-color);\n",
              "    fill: var(--disabled-fill-color);\n",
              "    box-shadow: none;\n",
              "  }\n",
              "\n",
              "  .colab-df-spinner {\n",
              "    border: 2px solid var(--fill-color);\n",
              "    border-color: transparent;\n",
              "    border-bottom-color: var(--fill-color);\n",
              "    animation:\n",
              "      spin 1s steps(1) infinite;\n",
              "  }\n",
              "\n",
              "  @keyframes spin {\n",
              "    0% {\n",
              "      border-color: transparent;\n",
              "      border-bottom-color: var(--fill-color);\n",
              "      border-left-color: var(--fill-color);\n",
              "    }\n",
              "    20% {\n",
              "      border-color: transparent;\n",
              "      border-left-color: var(--fill-color);\n",
              "      border-top-color: var(--fill-color);\n",
              "    }\n",
              "    30% {\n",
              "      border-color: transparent;\n",
              "      border-left-color: var(--fill-color);\n",
              "      border-top-color: var(--fill-color);\n",
              "      border-right-color: var(--fill-color);\n",
              "    }\n",
              "    40% {\n",
              "      border-color: transparent;\n",
              "      border-right-color: var(--fill-color);\n",
              "      border-top-color: var(--fill-color);\n",
              "    }\n",
              "    60% {\n",
              "      border-color: transparent;\n",
              "      border-right-color: var(--fill-color);\n",
              "    }\n",
              "    80% {\n",
              "      border-color: transparent;\n",
              "      border-right-color: var(--fill-color);\n",
              "      border-bottom-color: var(--fill-color);\n",
              "    }\n",
              "    90% {\n",
              "      border-color: transparent;\n",
              "      border-bottom-color: var(--fill-color);\n",
              "    }\n",
              "  }\n",
              "</style>\n",
              "\n",
              "      <script>\n",
              "        async function quickchart(key) {\n",
              "          const quickchartButtonEl =\n",
              "            document.querySelector('#' + key + ' button');\n",
              "          quickchartButtonEl.disabled = true;  // To prevent multiple clicks.\n",
              "          quickchartButtonEl.classList.add('colab-df-spinner');\n",
              "          try {\n",
              "            const charts = await google.colab.kernel.invokeFunction(\n",
              "                'suggestCharts', [key], {});\n",
              "          } catch (error) {\n",
              "            console.error('Error during call to suggestCharts:', error);\n",
              "          }\n",
              "          quickchartButtonEl.classList.remove('colab-df-spinner');\n",
              "          quickchartButtonEl.classList.add('colab-df-quickchart-complete');\n",
              "        }\n",
              "        (() => {\n",
              "          let quickchartButtonEl =\n",
              "            document.querySelector('#df-d5bfd264-7e78-4de7-8747-7528dfa8b867 button');\n",
              "          quickchartButtonEl.style.display =\n",
              "            google.colab.kernel.accessAllowed ? 'block' : 'none';\n",
              "        })();\n",
              "      </script>\n",
              "    </div>\n",
              "\n",
              "    </div>\n",
              "  </div>\n"
            ],
            "application/vnd.google.colaboratory.intrinsic+json": {
              "type": "dataframe",
              "summary": "{\n  \"name\": \"sdss_df\",\n  \"rows\": 8,\n  \"fields\": [\n    {\n      \"column\": \"objid\",\n      \"properties\": {\n        \"dtype\": \"number\",\n        \"std\": 5.729206232417103e+17,\n        \"min\": 10000.0,\n        \"max\": 1.23765e+18,\n        \"num_unique_values\": 3,\n        \"samples\": [\n          10000.0,\n          1.23765e+18,\n          157703.88539140928\n        ],\n        \"semantic_type\": \"\",\n        \"description\": \"\"\n      }\n    },\n    {\n      \"column\": \"ra\",\n      \"properties\": {\n        \"dtype\": \"number\",\n        \"std\": 3484.388142825381,\n        \"min\": 8.235100497,\n        \"max\": 10000.0,\n        \"num_unique_values\": 8,\n        \"samples\": [\n          175.5299865838047,\n          180.39451394999998,\n          10000.0\n        ],\n        \"semantic_type\": \"\",\n        \"description\": \"\"\n      }\n    },\n    {\n      \"column\": \"dec\",\n      \"properties\": {\n        \"dtype\": \"number\",\n        \"std\": 3528.610457701967,\n        \"min\": -5.382632499,\n        \"max\": 10000.0,\n        \"num_unique_values\": 8,\n        \"samples\": [\n          14.8361479841938,\n          0.40416602999999995,\n          10000.0\n        ],\n        \"semantic_type\": \"\",\n        \"description\": \"\"\n      }\n    },\n    {\n      \"column\": \"u\",\n      \"properties\": {\n        \"dtype\": \"number\",\n        \"std\": 3530.068232364262,\n        \"min\": 0.8286560094113746,\n        \"max\": 10000.0,\n        \"num_unique_values\": 8,\n        \"samples\": [\n          18.619355357999996,\n          18.853095,\n          10000.0\n        ],\n        \"semantic_type\": \"\",\n        \"description\": \"\"\n      }\n    },\n    {\n      \"column\": \"g\",\n      \"properties\": {\n        \"dtype\": \"number\",\n        \"std\": 3530.318691147182,\n        \"min\": 0.9454571752688135,\n        \"max\": 10000.0,\n        \"num_unique_values\": 8,\n        \"samples\": [\n          17.371931487,\n          17.495134999999998,\n          10000.0\n        ],\n        \"semantic_type\": \"\",\n        \"description\": \"\"\n      }\n    },\n    {\n      \"column\": \"r\",\n      \"properties\": {\n        \"dtype\": \"number\",\n        \"std\": 3530.2021967208884,\n        \"min\": 1.0677643494029374,\n        \"max\": 10000.0,\n        \"num_unique_values\": 8,\n        \"samples\": [\n          16.840963317,\n          16.85877,\n          10000.0\n        ],\n        \"semantic_type\": \"\",\n        \"description\": \"\"\n      }\n    },\n    {\n      \"column\": \"i\",\n      \"properties\": {\n        \"dtype\": \"number\",\n        \"std\": 3530.1111414447496,\n        \"min\": 1.1418048192775534,\n        \"max\": 10000.0,\n        \"num_unique_values\": 8,\n        \"samples\": [\n          16.583579249000003,\n          16.554985000000002,\n          10000.0\n        ],\n        \"semantic_type\": \"\",\n        \"description\": \"\"\n      }\n    },\n    {\n      \"column\": \"z\",\n      \"properties\": {\n        \"dtype\": \"number\",\n        \"std\": 3530.4270302395526,\n        \"min\": 1.2031880475759795,\n        \"max\": 10000.0,\n        \"num_unique_values\": 8,\n        \"samples\": [\n          16.42283316,\n          16.389944999999997,\n          10000.0\n        ],\n        \"semantic_type\": \"\",\n        \"description\": \"\"\n      }\n    },\n    {\n      \"column\": \"run\",\n      \"properties\": {\n        \"dtype\": \"number\",\n        \"std\": 3268.3901534511706,\n        \"min\": 273.3050240163418,\n        \"max\": 10000.0,\n        \"num_unique_values\": 8,\n        \"samples\": [\n          981.0348,\n          756.0,\n          10000.0\n        ],\n        \"semantic_type\": \"\",\n        \"description\": \"\"\n      }\n    },\n    {\n      \"column\": \"rerun\",\n      \"properties\": {\n        \"dtype\": \"number\",\n        \"std\": 3445.927233706481,\n        \"min\": 0.0,\n        \"max\": 10000.0,\n        \"num_unique_values\": 3,\n        \"samples\": [\n          10000.0,\n          301.0,\n          0.0\n        ],\n        \"semantic_type\": \"\",\n        \"description\": \"\"\n      }\n    },\n    {\n      \"column\": \"camcol\",\n      \"properties\": {\n        \"dtype\": \"number\",\n        \"std\": 3534.356739485042,\n        \"min\": 1.0,\n        \"max\": 10000.0,\n        \"num_unique_values\": 8,\n        \"samples\": [\n          3.6487,\n          4.0,\n          10000.0\n        ],\n        \"semantic_type\": \"\",\n        \"description\": \"\"\n      }\n    },\n    {\n      \"column\": \"field\",\n      \"properties\": {\n        \"dtype\": \"number\",\n        \"std\": 3434.636724924114,\n        \"min\": 11.0,\n        \"max\": 10000.0,\n        \"num_unique_values\": 8,\n        \"samples\": [\n          302.3801,\n          299.0,\n          10000.0\n        ],\n        \"semantic_type\": \"\",\n        \"description\": \"\"\n      }\n    },\n    {\n      \"column\": \"specobjid\",\n      \"properties\": {\n        \"dtype\": \"number\",\n        \"std\": 3.1266887809703736e+18,\n        \"min\": 10000.0,\n        \"max\": 9.46883e+18,\n        \"num_unique_values\": 8,\n        \"samples\": [\n          1.6450215698e+18,\n          4.96658e+17,\n          10000.0\n        ],\n        \"semantic_type\": \"\",\n        \"description\": \"\"\n      }\n    },\n    {\n      \"column\": \"redshift\",\n      \"properties\": {\n        \"dtype\": \"number\",\n        \"std\": 3535.230456223175,\n        \"min\": -0.004136078,\n        \"max\": 10000.0,\n        \"num_unique_values\": 8,\n        \"samples\": [\n          0.14372571182796998,\n          0.042590705,\n          10000.0\n        ],\n        \"semantic_type\": \"\",\n        \"description\": \"\"\n      }\n    },\n    {\n      \"column\": \"plate\",\n      \"properties\": {\n        \"dtype\": \"number\",\n        \"std\": 3843.6946645592875,\n        \"min\": 266.0,\n        \"max\": 10000.0,\n        \"num_unique_values\": 8,\n        \"samples\": [\n          1460.9864,\n          441.0,\n          10000.0\n        ],\n        \"semantic_type\": \"\",\n        \"description\": \"\"\n      }\n    },\n    {\n      \"column\": \"mjd\",\n      \"properties\": {\n        \"dtype\": \"number\",\n        \"std\": 22251.116071451008,\n        \"min\": 1511.1506506367791,\n        \"max\": 57481.0,\n        \"num_unique_values\": 8,\n        \"samples\": [\n          52943.5333,\n          51997.0,\n          10000.0\n        ],\n        \"semantic_type\": \"\",\n        \"description\": \"\"\n      }\n    },\n    {\n      \"column\": \"fiberid\",\n      \"properties\": {\n        \"dtype\": \"number\",\n        \"std\": 3416.657012243322,\n        \"min\": 1.0,\n        \"max\": 10000.0,\n        \"num_unique_values\": 8,\n        \"samples\": [\n          353.0694,\n          351.0,\n          10000.0\n        ],\n        \"semantic_type\": \"\",\n        \"description\": \"\"\n      }\n    }\n  ]\n}"
            }
          },
          "metadata": {},
          "execution_count": 5
        }
      ]
    },
    {
      "metadata": {
        "_cell_guid": "8c6d5703-4e91-4c13-9a88-235c9848f6e8",
        "_uuid": "6da0473e16af044373072b21e28d3425f6541cca",
        "id": "XD9m44OyWj-Z"
      },
      "cell_type": "markdown",
      "source": [
        "From the above table we can tell that are no missing values at all. This means: **no imputing!**\n",
        "\n",
        "We also notice that most of the features stay within a reasonable scale when comparing values within **only one** column. We can recognize this from the min, max and quartil rows."
      ]
    },
    {
      "metadata": {
        "scrolled": true,
        "_cell_guid": "980baf01-358b-4f40-b1cd-886a8463befe",
        "_uuid": "75724e4e2a11a567b6155503ce0671ae3f5e2e7d",
        "trusted": true,
        "colab": {
          "base_uri": "https://localhost:8080/",
          "height": 210
        },
        "id": "nmlrXx7MWj-Z",
        "outputId": "9ee0cbde-451a-470f-e20f-f22ee97bd959"
      },
      "cell_type": "code",
      "source": [
        "sdss_df['class'].value_counts()"
      ],
      "execution_count": 6,
      "outputs": [
        {
          "output_type": "execute_result",
          "data": {
            "text/plain": [
              "class\n",
              "GALAXY    4998\n",
              "STAR      4152\n",
              "QSO        850\n",
              "Name: count, dtype: int64"
            ],
            "text/html": [
              "<div>\n",
              "<style scoped>\n",
              "    .dataframe tbody tr th:only-of-type {\n",
              "        vertical-align: middle;\n",
              "    }\n",
              "\n",
              "    .dataframe tbody tr th {\n",
              "        vertical-align: top;\n",
              "    }\n",
              "\n",
              "    .dataframe thead th {\n",
              "        text-align: right;\n",
              "    }\n",
              "</style>\n",
              "<table border=\"1\" class=\"dataframe\">\n",
              "  <thead>\n",
              "    <tr style=\"text-align: right;\">\n",
              "      <th></th>\n",
              "      <th>count</th>\n",
              "    </tr>\n",
              "    <tr>\n",
              "      <th>class</th>\n",
              "      <th></th>\n",
              "    </tr>\n",
              "  </thead>\n",
              "  <tbody>\n",
              "    <tr>\n",
              "      <th>GALAXY</th>\n",
              "      <td>4998</td>\n",
              "    </tr>\n",
              "    <tr>\n",
              "      <th>STAR</th>\n",
              "      <td>4152</td>\n",
              "    </tr>\n",
              "    <tr>\n",
              "      <th>QSO</th>\n",
              "      <td>850</td>\n",
              "    </tr>\n",
              "  </tbody>\n",
              "</table>\n",
              "</div><br><label><b>dtype:</b> int64</label>"
            ]
          },
          "metadata": {},
          "execution_count": 6
        }
      ]
    },
    {
      "metadata": {
        "_cell_guid": "47229348-1a06-4346-949b-1b2b135a20e9",
        "_uuid": "d03d6a82a73b4889fc9bfee64e0773acd9b09302",
        "id": "P0XrApzpWj-Z"
      },
      "cell_type": "markdown",
      "source": [
        "The most objects (50%) are galaxies, a little less (40%) are stars and only around (10%) of the rows are classified as QSOs."
      ]
    },
    {
      "metadata": {
        "_cell_guid": "f890c211-edfb-45d5-be7d-545eb358220b",
        "_uuid": "529e41f022c84c223fc508224b63b527677a61fc",
        "id": "Y_DTWLL9Wj-a"
      },
      "cell_type": "markdown",
      "source": [
        "### First Data Filtering"
      ]
    },
    {
      "metadata": {
        "_cell_guid": "31099fbb-fc0a-4956-bb26-dde90eecbb82",
        "_uuid": "cb352ba3c067c076162c8ce399d8bcd4fe24f9c6",
        "trusted": true,
        "colab": {
          "base_uri": "https://localhost:8080/"
        },
        "id": "HBVZq-zEWj-a",
        "outputId": "12018517-d727-4ca2-9525-4e298e8fc2af"
      },
      "cell_type": "code",
      "source": [
        "sdss_df.columns.values"
      ],
      "execution_count": 7,
      "outputs": [
        {
          "output_type": "execute_result",
          "data": {
            "text/plain": [
              "array(['objid', 'ra', 'dec', 'u', 'g', 'r', 'i', 'z', 'run', 'rerun',\n",
              "       'camcol', 'field', 'specobjid', 'class', 'redshift', 'plate',\n",
              "       'mjd', 'fiberid'], dtype=object)"
            ]
          },
          "metadata": {},
          "execution_count": 7
        }
      ]
    },
    {
      "metadata": {
        "_cell_guid": "25d1cf21-621e-462b-8d8f-faae4daca4d8",
        "_uuid": "4eed688c6d406af4e335c9237431813b461fb636",
        "id": "7xlratkSWj-a"
      },
      "cell_type": "markdown",
      "source": [
        "There is no need to know everything about stars, galaxy or quasars - yet we can already tell which features are **unlikely** to be related to the target variable 'class'.\n",
        "\n",
        "**objid** and **specobjid** are just identifiers for accessing the rows back when they were stored in the original databank. Therefore we will not need them for classification as they are not related to the outcome.\n",
        "\n",
        "Even more: The features 'run', 'rerun', 'camcol' and 'field' are values which describe parts of the camera at the moment when making the observation, e.g. 'run' represents the corresponding scan which captured the oject.\n",
        "\n",
        "Source: http://www.sdss3.org/dr9/imaging/imaging_basics.php\n",
        "\n",
        "We will drop these columns as any correlation to the outcome would be coincidentally."
      ]
    },
    {
      "metadata": {
        "scrolled": false,
        "_cell_guid": "d1246406-e5f7-4cb7-8365-50c8e44e19d9",
        "_uuid": "4d9519ab0d8b9f843219ce89531c3fc13dafc5be",
        "trusted": true,
        "colab": {
          "base_uri": "https://localhost:8080/",
          "height": 81
        },
        "id": "l5IYUKY1Wj-a",
        "outputId": "15e53dc5-9790-444b-8b75-cb1d62947e3b"
      },
      "cell_type": "code",
      "source": [
        "sdss_df.drop(['objid', 'run', 'rerun', 'camcol', 'field', 'specobjid'], axis=1, inplace=True)\n",
        "sdss_df.head(1)"
      ],
      "execution_count": 8,
      "outputs": [
        {
          "output_type": "execute_result",
          "data": {
            "text/plain": [
              "           ra       dec         u        g         r         i         z  \\\n",
              "0  183.531326  0.089693  19.47406  17.0424  15.94699  15.50342  15.22531   \n",
              "\n",
              "  class  redshift  plate    mjd  fiberid  \n",
              "0  STAR -0.000009   3306  54922      491  "
            ],
            "text/html": [
              "\n",
              "  <div id=\"df-7e0d31e8-fc6e-40d0-9567-61fe665b6dd9\" class=\"colab-df-container\">\n",
              "    <div>\n",
              "<style scoped>\n",
              "    .dataframe tbody tr th:only-of-type {\n",
              "        vertical-align: middle;\n",
              "    }\n",
              "\n",
              "    .dataframe tbody tr th {\n",
              "        vertical-align: top;\n",
              "    }\n",
              "\n",
              "    .dataframe thead th {\n",
              "        text-align: right;\n",
              "    }\n",
              "</style>\n",
              "<table border=\"1\" class=\"dataframe\">\n",
              "  <thead>\n",
              "    <tr style=\"text-align: right;\">\n",
              "      <th></th>\n",
              "      <th>ra</th>\n",
              "      <th>dec</th>\n",
              "      <th>u</th>\n",
              "      <th>g</th>\n",
              "      <th>r</th>\n",
              "      <th>i</th>\n",
              "      <th>z</th>\n",
              "      <th>class</th>\n",
              "      <th>redshift</th>\n",
              "      <th>plate</th>\n",
              "      <th>mjd</th>\n",
              "      <th>fiberid</th>\n",
              "    </tr>\n",
              "  </thead>\n",
              "  <tbody>\n",
              "    <tr>\n",
              "      <th>0</th>\n",
              "      <td>183.531326</td>\n",
              "      <td>0.089693</td>\n",
              "      <td>19.47406</td>\n",
              "      <td>17.0424</td>\n",
              "      <td>15.94699</td>\n",
              "      <td>15.50342</td>\n",
              "      <td>15.22531</td>\n",
              "      <td>STAR</td>\n",
              "      <td>-0.000009</td>\n",
              "      <td>3306</td>\n",
              "      <td>54922</td>\n",
              "      <td>491</td>\n",
              "    </tr>\n",
              "  </tbody>\n",
              "</table>\n",
              "</div>\n",
              "    <div class=\"colab-df-buttons\">\n",
              "\n",
              "  <div class=\"colab-df-container\">\n",
              "    <button class=\"colab-df-convert\" onclick=\"convertToInteractive('df-7e0d31e8-fc6e-40d0-9567-61fe665b6dd9')\"\n",
              "            title=\"Convert this dataframe to an interactive table.\"\n",
              "            style=\"display:none;\">\n",
              "\n",
              "  <svg xmlns=\"http://www.w3.org/2000/svg\" height=\"24px\" viewBox=\"0 -960 960 960\">\n",
              "    <path d=\"M120-120v-720h720v720H120Zm60-500h600v-160H180v160Zm220 220h160v-160H400v160Zm0 220h160v-160H400v160ZM180-400h160v-160H180v160Zm440 0h160v-160H620v160ZM180-180h160v-160H180v160Zm440 0h160v-160H620v160Z\"/>\n",
              "  </svg>\n",
              "    </button>\n",
              "\n",
              "  <style>\n",
              "    .colab-df-container {\n",
              "      display:flex;\n",
              "      gap: 12px;\n",
              "    }\n",
              "\n",
              "    .colab-df-convert {\n",
              "      background-color: #E8F0FE;\n",
              "      border: none;\n",
              "      border-radius: 50%;\n",
              "      cursor: pointer;\n",
              "      display: none;\n",
              "      fill: #1967D2;\n",
              "      height: 32px;\n",
              "      padding: 0 0 0 0;\n",
              "      width: 32px;\n",
              "    }\n",
              "\n",
              "    .colab-df-convert:hover {\n",
              "      background-color: #E2EBFA;\n",
              "      box-shadow: 0px 1px 2px rgba(60, 64, 67, 0.3), 0px 1px 3px 1px rgba(60, 64, 67, 0.15);\n",
              "      fill: #174EA6;\n",
              "    }\n",
              "\n",
              "    .colab-df-buttons div {\n",
              "      margin-bottom: 4px;\n",
              "    }\n",
              "\n",
              "    [theme=dark] .colab-df-convert {\n",
              "      background-color: #3B4455;\n",
              "      fill: #D2E3FC;\n",
              "    }\n",
              "\n",
              "    [theme=dark] .colab-df-convert:hover {\n",
              "      background-color: #434B5C;\n",
              "      box-shadow: 0px 1px 3px 1px rgba(0, 0, 0, 0.15);\n",
              "      filter: drop-shadow(0px 1px 2px rgba(0, 0, 0, 0.3));\n",
              "      fill: #FFFFFF;\n",
              "    }\n",
              "  </style>\n",
              "\n",
              "    <script>\n",
              "      const buttonEl =\n",
              "        document.querySelector('#df-7e0d31e8-fc6e-40d0-9567-61fe665b6dd9 button.colab-df-convert');\n",
              "      buttonEl.style.display =\n",
              "        google.colab.kernel.accessAllowed ? 'block' : 'none';\n",
              "\n",
              "      async function convertToInteractive(key) {\n",
              "        const element = document.querySelector('#df-7e0d31e8-fc6e-40d0-9567-61fe665b6dd9');\n",
              "        const dataTable =\n",
              "          await google.colab.kernel.invokeFunction('convertToInteractive',\n",
              "                                                    [key], {});\n",
              "        if (!dataTable) return;\n",
              "\n",
              "        const docLinkHtml = 'Like what you see? Visit the ' +\n",
              "          '<a target=\"_blank\" href=https://colab.research.google.com/notebooks/data_table.ipynb>data table notebook</a>'\n",
              "          + ' to learn more about interactive tables.';\n",
              "        element.innerHTML = '';\n",
              "        dataTable['output_type'] = 'display_data';\n",
              "        await google.colab.output.renderOutput(dataTable, element);\n",
              "        const docLink = document.createElement('div');\n",
              "        docLink.innerHTML = docLinkHtml;\n",
              "        element.appendChild(docLink);\n",
              "      }\n",
              "    </script>\n",
              "  </div>\n",
              "\n",
              "\n",
              "    </div>\n",
              "  </div>\n"
            ],
            "application/vnd.google.colaboratory.intrinsic+json": {
              "type": "dataframe",
              "variable_name": "sdss_df",
              "summary": "{\n  \"name\": \"sdss_df\",\n  \"rows\": 10000,\n  \"fields\": [\n    {\n      \"column\": \"ra\",\n      \"properties\": {\n        \"dtype\": \"number\",\n        \"std\": 47.78343941253625,\n        \"min\": 8.235100497,\n        \"max\": 260.8843818,\n        \"num_unique_values\": 10000,\n        \"samples\": [\n          134.6492674,\n          157.0952241,\n          159.6062762\n        ],\n        \"semantic_type\": \"\",\n        \"description\": \"\"\n      }\n    },\n    {\n      \"column\": \"dec\",\n      \"properties\": {\n        \"dtype\": \"number\",\n        \"std\": 25.21220657928434,\n        \"min\": -5.382632499,\n        \"max\": 68.54226541,\n        \"num_unique_values\": 10000,\n        \"samples\": [\n          54.38634445,\n          62.59739268,\n          -0.017859983\n        ],\n        \"semantic_type\": \"\",\n        \"description\": \"\"\n      }\n    },\n    {\n      \"column\": \"u\",\n      \"properties\": {\n        \"dtype\": \"number\",\n        \"std\": 0.8286560094113746,\n        \"min\": 12.98897,\n        \"max\": 19.5999,\n        \"num_unique_values\": 9730,\n        \"samples\": [\n          16.99432,\n          18.27211,\n          19.51903\n        ],\n        \"semantic_type\": \"\",\n        \"description\": \"\"\n      }\n    },\n    {\n      \"column\": \"g\",\n      \"properties\": {\n        \"dtype\": \"number\",\n        \"std\": 0.9454571752688135,\n        \"min\": 12.79955,\n        \"max\": 19.91897,\n        \"num_unique_values\": 9817,\n        \"samples\": [\n          17.88955,\n          18.89235,\n          15.92992\n        ],\n        \"semantic_type\": \"\",\n        \"description\": \"\"\n      }\n    },\n    {\n      \"column\": \"r\",\n      \"properties\": {\n        \"dtype\": \"number\",\n        \"std\": 1.0677643494029374,\n        \"min\": 12.4316,\n        \"max\": 24.80204,\n        \"num_unique_values\": 9852,\n        \"samples\": [\n          17.62294,\n          15.54049,\n          18.64672\n        ],\n        \"semantic_type\": \"\",\n        \"description\": \"\"\n      }\n    },\n    {\n      \"column\": \"i\",\n      \"properties\": {\n        \"dtype\": \"number\",\n        \"std\": 1.1418048192775534,\n        \"min\": 11.94721,\n        \"max\": 28.17963,\n        \"num_unique_values\": 9890,\n        \"samples\": [\n          17.2252,\n          18.65555,\n          16.67307\n        ],\n        \"semantic_type\": \"\",\n        \"description\": \"\"\n      }\n    },\n    {\n      \"column\": \"z\",\n      \"properties\": {\n        \"dtype\": \"number\",\n        \"std\": 1.2031880475759795,\n        \"min\": 11.61041,\n        \"max\": 22.83306,\n        \"num_unique_values\": 9896,\n        \"samples\": [\n          17.83397,\n          16.71616,\n          17.0249\n        ],\n        \"semantic_type\": \"\",\n        \"description\": \"\"\n      }\n    },\n    {\n      \"column\": \"class\",\n      \"properties\": {\n        \"dtype\": \"category\",\n        \"num_unique_values\": 3,\n        \"samples\": [\n          \"STAR\",\n          \"GALAXY\",\n          \"QSO\"\n        ],\n        \"semantic_type\": \"\",\n        \"description\": \"\"\n      }\n    },\n    {\n      \"column\": \"redshift\",\n      \"properties\": {\n        \"dtype\": \"number\",\n        \"std\": 0.38877403581146536,\n        \"min\": -0.004136078,\n        \"max\": 5.353854,\n        \"num_unique_values\": 9637,\n        \"samples\": [\n          0.000189883,\n          -0.000102326,\n          -4.82e-05\n        ],\n        \"semantic_type\": \"\",\n        \"description\": \"\"\n      }\n    },\n    {\n      \"column\": \"plate\",\n      \"properties\": {\n        \"dtype\": \"number\",\n        \"std\": 1788,\n        \"min\": 266,\n        \"max\": 8410,\n        \"num_unique_values\": 487,\n        \"samples\": [\n          3848,\n          2053,\n          3841\n        ],\n        \"semantic_type\": \"\",\n        \"description\": \"\"\n      }\n    },\n    {\n      \"column\": \"mjd\",\n      \"properties\": {\n        \"dtype\": \"number\",\n        \"std\": 1511,\n        \"min\": 51578,\n        \"max\": 57481,\n        \"num_unique_values\": 355,\n        \"samples\": [\n          54862,\n          55361,\n          57073\n        ],\n        \"semantic_type\": \"\",\n        \"description\": \"\"\n      }\n    },\n    {\n      \"column\": \"fiberid\",\n      \"properties\": {\n        \"dtype\": \"number\",\n        \"std\": 206,\n        \"min\": 1,\n        \"max\": 1000,\n        \"num_unique_values\": 892,\n        \"samples\": [\n          658,\n          9,\n          44\n        ],\n        \"semantic_type\": \"\",\n        \"description\": \"\"\n      }\n    }\n  ]\n}"
            }
          },
          "metadata": {},
          "execution_count": 8
        }
      ]
    },
    {
      "metadata": {
        "_cell_guid": "6b86afe2-f926-416a-afd9-8b36edf9bbdd",
        "_uuid": "bc4bc3db7af9a1e46c21c5fda26e023137e0e239",
        "id": "AiHx96xEWj-a"
      },
      "cell_type": "markdown",
      "source": [
        "### Univariate Analysis"
      ]
    },
    {
      "metadata": {
        "_cell_guid": "09cc084c-d589-4393-aa72-3c60c60e2225",
        "_uuid": "737c3fc575497bd4c675c4cf5949edfd56f87fd7",
        "id": "6rM3CivhWj-a"
      },
      "cell_type": "markdown",
      "source": [
        "#### Redshift"
      ]
    },
    {
      "metadata": {
        "_cell_guid": "2fbe3492-24e7-4368-9382-9a0567ff9b09",
        "_uuid": "3e55f4fbff1621e5d562e9353c646b447a1e003b",
        "id": "S30t_JTGWj-a"
      },
      "cell_type": "markdown",
      "source": [
        "To start the univariate analysis we will plot histograms for the 'redshift' feature column for each class.\n",
        "\n",
        "This will tell us how the redshift values are distributed over their range."
      ]
    },
    {
      "metadata": {
        "scrolled": true,
        "_cell_guid": "f7e55b21-caa1-4b91-8f5a-c465d56cc146",
        "_uuid": "5a6a061a52d8e4bb3286be05e8b31c0c656f3dfd",
        "trusted": true,
        "colab": {
          "base_uri": "https://localhost:8080/",
          "height": 962
        },
        "id": "NAsia_cTWj-a",
        "outputId": "9748cc3a-6e96-4063-82a6-91550d11c96c"
      },
      "cell_type": "code",
      "source": [
        "fig, axes = plt.subplots(nrows=1, ncols=3,figsize=(16, 4))\n",
        "ax = sns.distplot(sdss_df[sdss_df['class']=='STAR'].redshift, bins = 30, ax = axes[0], kde = False)\n",
        "ax.set_title('Star')\n",
        "ax = sns.distplot(sdss_df[sdss_df['class']=='GALAXY'].redshift, bins = 30, ax = axes[1], kde = False)\n",
        "ax.set_title('Galaxy')\n",
        "ax = sns.distplot(sdss_df[sdss_df['class']=='QSO'].redshift, bins = 30, ax = axes[2], kde = False)\n",
        "ax = ax.set_title('QSO')"
      ],
      "execution_count": 9,
      "outputs": [
        {
          "output_type": "stream",
          "name": "stderr",
          "text": [
            "/tmp/ipython-input-9-3184295658.py:2: UserWarning: \n",
            "\n",
            "`distplot` is a deprecated function and will be removed in seaborn v0.14.0.\n",
            "\n",
            "Please adapt your code to use either `displot` (a figure-level function with\n",
            "similar flexibility) or `histplot` (an axes-level function for histograms).\n",
            "\n",
            "For a guide to updating your code to use the new functions, please see\n",
            "https://gist.github.com/mwaskom/de44147ed2974457ad6372750bbe5751\n",
            "\n",
            "  ax = sns.distplot(sdss_df[sdss_df['class']=='STAR'].redshift, bins = 30, ax = axes[0], kde = False)\n",
            "/tmp/ipython-input-9-3184295658.py:4: UserWarning: \n",
            "\n",
            "`distplot` is a deprecated function and will be removed in seaborn v0.14.0.\n",
            "\n",
            "Please adapt your code to use either `displot` (a figure-level function with\n",
            "similar flexibility) or `histplot` (an axes-level function for histograms).\n",
            "\n",
            "For a guide to updating your code to use the new functions, please see\n",
            "https://gist.github.com/mwaskom/de44147ed2974457ad6372750bbe5751\n",
            "\n",
            "  ax = sns.distplot(sdss_df[sdss_df['class']=='GALAXY'].redshift, bins = 30, ax = axes[1], kde = False)\n",
            "/tmp/ipython-input-9-3184295658.py:6: UserWarning: \n",
            "\n",
            "`distplot` is a deprecated function and will be removed in seaborn v0.14.0.\n",
            "\n",
            "Please adapt your code to use either `displot` (a figure-level function with\n",
            "similar flexibility) or `histplot` (an axes-level function for histograms).\n",
            "\n",
            "For a guide to updating your code to use the new functions, please see\n",
            "https://gist.github.com/mwaskom/de44147ed2974457ad6372750bbe5751\n",
            "\n",
            "  ax = sns.distplot(sdss_df[sdss_df['class']=='QSO'].redshift, bins = 30, ax = axes[2], kde = False)\n"
          ]
        },
        {
          "output_type": "display_data",
          "data": {
            "text/plain": [
              "<Figure size 2400x600 with 3 Axes>"
            ],
            "image/png": "[encoded data removed]"
          },
          "metadata": {}
        }
      ]
    },
    {
      "metadata": {
        "_cell_guid": "a44d0c69-fb05-4b09-99c3-d92dc1ec0b9a",
        "_uuid": "f389689f8d958bdd4e281089036af6d26c1c4d10",
        "id": "RL3cZDYLWj-b"
      },
      "cell_type": "markdown",
      "source": [
        "This is an interesting result.\n",
        "\n",
        "We can cleary tell that the redshift values for the classes quite differ.\n",
        "\n",
        "* **Star:** The histogram looks like a truncated zero-centered normal distribution.\n",
        "\n",
        "* **Galaxy:** The redshift values may come from a slightly right-shifted normal distribution which is centered around 0.075.\n",
        "\n",
        "* **QSO:** The redshift values for QSOs are a lot more uniformly distributed than for Stars or Galaxies. They are roughly evenly distributed from 0 to 3, than the occurences decrease drastically. For 4 oder ~5.5 there are some outliers.\n",
        "\n",
        "**The redshift can be an estimate(!) for the distance from the earth to a object in space.**\n",
        "\n",
        "Hence the distplot tells us that most of the stars observed are somewhat closer to the earth than galaxies or quasars. Galaxies tend to be a little further away and quasars are distant from very close to very far.  \n",
        "\n",
        "Possible rookie explanation: Since galaxies and quasars radiate stronger due to their size and physical structure, they can be observed from further away than \"small\" stars.\n",
        "\n",
        "As we can distinct the classes from each other just based on this column - 'redshift' is very likely to be helping a lot classifying new objects."
      ]
    },
    {
      "metadata": {
        "_cell_guid": "b6a6c486-ca64-47cb-ad60-298338949c32",
        "_uuid": "76749b9ea7daeba52d051df437f67c723b5231e7",
        "id": "-WY7vYPSWj-b"
      },
      "cell_type": "markdown",
      "source": [
        "#### dec"
      ]
    },
    {
      "metadata": {
        "_cell_guid": "4fe6d3c7-336f-4ab7-95fb-f0c283f2e6a6",
        "_uuid": "7bef264989ac504923ba4606da2c4d4aa157f59d",
        "id": "ak2hRROUWj-z"
      },
      "cell_type": "markdown",
      "source": [
        "Let's lvplot the values of dec (Recall: position on celestial equator)!"
      ]
    },
    {
      "metadata": {
        "_cell_guid": "267fdf63-0a7c-4e8b-895a-3358d17202b5",
        "_uuid": "e5eadada1e83442db6e878c79d12d798ed163d65",
        "trusted": true,
        "colab": {
          "base_uri": "https://localhost:8080/",
          "height": 495
        },
        "id": "vyOAGimsWj-z",
        "outputId": "b93591a9-8c78-4a9c-ea14-2045d2a41050"
      },
      "cell_type": "code",
      "source": [
        "# Assuming sdss_df is your DataFrame\n",
        "fig, axes = plt.subplots(nrows=1, ncols=1, figsize=(16, 4))\n",
        "ax = sns.boxplot(x=sdss_df['class'], y=sdss_df['dec'], palette='coolwarm')\n",
        "ax.set_title('dec')\n",
        "plt.show()"
      ],
      "execution_count": 10,
      "outputs": [
        {
          "output_type": "stream",
          "name": "stderr",
          "text": [
            "/tmp/ipython-input-10-33367422.py:3: FutureWarning: \n",
            "\n",
            "Passing `palette` without assigning `hue` is deprecated and will be removed in v0.14.0. Assign the `x` variable to `hue` and set `legend=False` for the same effect.\n",
            "\n",
            "  ax = sns.boxplot(x=sdss_df['class'], y=sdss_df['dec'], palette='coolwarm')\n"
          ]
        },
        {
          "output_type": "display_data",
          "data": {
            "text/plain": [
              "<Figure size 2400x600 with 1 Axes>"
            ],
            "image/png": "[encoded data removed]"
          },
          "metadata": {}
        }
      ]
    },
    {
      "metadata": {
        "_cell_guid": "9b580f6c-c6eb-45af-b741-56952e230e89",
        "_uuid": "582f48aae4db70793a6f58247ee060b4edc7d6b0",
        "id": "I5utH8B0Wj-0"
      },
      "cell_type": "markdown",
      "source": [
        "**First of all: what does this plot tell us?**\n",
        "\n",
        "The boxplot Plot show us an estimate of the distribution of the data. It shows boxes which relate to the amount of values within the range of values inside the box.\n",
        "\n",
        "In this case we can observe a clear distinction between Stars and the other two classes. The difference between Galaxies and Quasars is smaller.\n",
        "\n",
        "* **Star:** The largest part of the data points lay within a 0 to 10 range. Another large part consists of values between about 10 to 55. Only small amounts of the data are lower or higher than these ranges.\n",
        "\n",
        "* **Galaxy:** The largest part of values lays between 0 and 45. There is a smaller amount of values in the range of 45 to 60. The rest of the data has smaller or higher values.\n",
        "\n",
        "* **QSO:** This plot looks quite similiar to the GALAXY plot. Only the amount of data points in the range of 0 to 60 is even bigger.\n",
        "\n",
        "Side Note: The fact that the distribution of dec values of galaxies und quasar objects is almost the same might indicate that one can find both galaxies and quasars at smiliar positions in the night sky."
      ]
    },
    {
      "metadata": {
        "_cell_guid": "83b72276-7e91-40bd-b450-cb5f05b2a5e9",
        "_uuid": "fd26a7feb55ad882952611adced5aa71de01ad05",
        "id": "DUP-fM0dWj-0"
      },
      "cell_type": "markdown",
      "source": [
        "### Multivariate Analysis"
      ]
    },
    {
      "metadata": {
        "_cell_guid": "f3174f32-1e96-47d5-ab74-2a14f1e7b1f7",
        "_uuid": "32ac7f6965966d8f25013c5a2e1d2817d9e78cf3",
        "id": "spem02EFWj-0"
      },
      "cell_type": "markdown",
      "source": [
        "#### u,g,r,i,z filters"
      ]
    },
    {
      "metadata": {
        "_cell_guid": "27c33528-10f3-400f-a59a-b0c28416e00a",
        "_uuid": "4761d9058cb828d6e016fe43693019981ce22596",
        "id": "TM4NARw6Wj-0"
      },
      "cell_type": "markdown",
      "source": [
        "Recall: u, g, r, i, z represent the different wavelengths which are used to capture the observations.\n",
        "\n",
        "Let's find out how much they are correlated."
      ]
    },
    {
      "metadata": {
        "scrolled": true,
        "_cell_guid": "4a856729-40ba-4af5-800a-855e7d866ae6",
        "_uuid": "3b0a813154788f955256e31ea6984ca44074ac88",
        "trusted": true,
        "colab": {
          "base_uri": "https://localhost:8080/",
          "height": 376
        },
        "id": "TbLEop7MWj-0",
        "outputId": "d77c03eb-ac26-4ce1-8364-97a22d89b966"
      },
      "cell_type": "code",
      "source": [
        "fig, axes = plt.subplots(nrows=1, ncols=3,figsize=(16, 4))\n",
        "fig.set_dpi(100)\n",
        "ax = sns.heatmap(sdss_df[sdss_df['class']=='STAR'][['u', 'g', 'r', 'i', 'z']].corr(), ax = axes[0], cmap='coolwarm')\n",
        "ax.set_title('Star')\n",
        "ax = sns.heatmap(sdss_df[sdss_df['class']=='GALAXY'][['u', 'g', 'r', 'i', 'z']].corr(), ax = axes[1], cmap='coolwarm')\n",
        "ax.set_title('Galaxy')\n",
        "ax = sns.heatmap(sdss_df[sdss_df['class']=='QSO'][['u', 'g', 'r', 'i', 'z']].corr(), ax = axes[2], cmap='coolwarm')\n",
        "ax = ax.set_title('QSO')"
      ],
      "execution_count": 11,
      "outputs": [
        {
          "output_type": "display_data",
          "data": {
            "text/plain": [
              "<Figure size 1600x400 with 6 Axes>"
            ],
            "image/png": "[encoded data removed]"
          },
          "metadata": {}
        }
      ]
    },
    {
      "metadata": {
        "_cell_guid": "b9f174fd-eca7-4a1c-a412-e58a2da4bf3d",
        "_uuid": "0317928d84b4f79e74e611ceb07a7a4295c05fe5",
        "id": "-xpEyPrPWj-1"
      },
      "cell_type": "markdown",
      "source": [
        "Right of the top we observe that the correlation matrices look very similiar for every class.\n",
        "\n",
        "We can tell that there are high correlations between the different bands. This feels not really suprising - intuitively one would think that if one of the bands captures some object, the other bands should capture something aswell.\n",
        "\n",
        "Therefore it is interesting to see that band 'u' is less correlated to the other bands.\n",
        "\n",
        "Remember: u, g, r, i, z capture light at wavelengths of 354, 476, 628, 769 and 925 nm.\n",
        "\n",
        "This might indicates that galaxies, stars and quasar objects shine brighter at wavelengths from 476 - 925 nm. Don't quote me on that though.\n",
        "\n",
        "**But:** as we can see - the correlation is roughly the same for every class...the different bands behave the same for the different classes!"
      ]
    },
    {
      "metadata": {
        "_cell_guid": "0cbe1c99-0148-4406-a11d-17d1efa44025",
        "_uuid": "7b2155d1a1261d2065a92008cb2a33d425f7b3dd",
        "id": "dlnNfTzGWj-1"
      },
      "cell_type": "markdown",
      "source": [
        "#### Right ascension (ra) and declination (dec)"
      ]
    },
    {
      "metadata": {
        "_cell_guid": "e4dac296-e9a1-4a63-83fc-46c3ca2265a2",
        "_uuid": "4e248ae503d23d0dd3f2473108007ad7b899b47a",
        "id": "rLYGGfOFWj-1"
      },
      "cell_type": "markdown",
      "source": [
        "We will now plot the right ascension versus the declination depending on the class"
      ]
    },
    {
      "metadata": {
        "scrolled": false,
        "_cell_guid": "66068c6e-e97b-4e00-8baf-85d67ee6b155",
        "_uuid": "6e0aa853466d5c45afec6ac1efd4f9db2a013642",
        "trusted": true,
        "colab": {
          "base_uri": "https://localhost:8080/",
          "height": 609
        },
        "id": "YlQqOdRiWj-1",
        "outputId": "b954c079-2194-4977-857d-3a1f2d101de5"
      },
      "cell_type": "code",
      "source": [
        "sns.lmplot(x='ra', y='dec', data=sdss_df, hue='class', fit_reg=False, palette='coolwarm', aspect=2)\n",
        "plt.title('Equatorial coordinates')"
      ],
      "execution_count": 12,
      "outputs": [
        {
          "output_type": "execute_result",
          "data": {
            "text/plain": [
              "Text(0.5, 1.0, 'Equatorial coordinates')"
            ]
          },
          "metadata": {},
          "execution_count": 12
        },
        {
          "output_type": "display_data",
          "data": {
            "text/plain": [
              "<Figure size 1658.88x750 with 1 Axes>"
            ],
            "image/png": "[encoded data removed]"
          },
          "metadata": {}
        }
      ]
    },
    {
      "metadata": {
        "_cell_guid": "c61cc9f2-06eb-460e-a44e-84aafb16a3fa",
        "_uuid": "3abe9b02be5e96d72dd5f08a5708fdaa55fd4775",
        "id": "9qf5s1O4Wj-1"
      },
      "cell_type": "markdown",
      "source": [
        "As we can clearly observe the equatorial coordinates do not differ significantly between the 3 classes. There are some outliers for stars and galaxies but for the bigger part the coordinates are within the same range.\n",
        "\n",
        "Why is that?\n",
        "\n",
        "All SDSS images cover the same area of the sky. The plot above tells us that stars, galaxies and quasars are observed equally at all coordinates within this area. So whereever the SDSS \"looks\" - the chance of observing a star or galaxy or quasar is always the same.  \n",
        "\n",
        "**This contradicts our interpretation of the letter value plot of dec from the univariate analysis.**"
      ]
    },
    {
      "metadata": {
        "_cell_guid": "aa0a41b4-c96c-4193-8b86-fee485af4361",
        "_uuid": "4e3e3eccee7ba9f0f2bcb5b562bda8b4d3c5a424",
        "id": "tPokZHjyWj-1"
      },
      "cell_type": "markdown",
      "source": [
        "## Feature Engineering"
      ]
    },
    {
      "metadata": {
        "_cell_guid": "cf9c9fc8-d5cc-48c5-b79f-2c0212e6bb44",
        "_uuid": "355a3ba3922a9553c8e79fc9309f7dc03b3a51d8",
        "id": "uy2tUbJVWj-1"
      },
      "cell_type": "markdown",
      "source": [
        "### u, g, r, i, z"
      ]
    },
    {
      "metadata": {
        "_cell_guid": "10fc6f0d-fad0-44ca-8996-bdf513e48358",
        "_uuid": "2fe1eb4a169a3400d65c3f5d3134ae8fb250240e",
        "id": "khCzGJcBWj-1"
      },
      "cell_type": "markdown",
      "source": [
        "We will now reduce the amount of dimensions by replacing the different bands 'u', 'g', 'r', 'i' and 'z' by a linear combination with only 3 dimensions using **Principal Component Analysis**.\n",
        "\n",
        "**Principal Component Analysis:**\n",
        "\n",
        "n observations with p features can be interpreted as n points in a p-dimensional space. PCA aims to project this space into a q-dimensional subspace (with q<p) with as little information loss as possible.\n",
        "\n",
        "It does so by finding the q directions in which the n points vary the most (--> the principal components). It then projects the original data points into the q-dimensional subspace. PCA returns a n x q dimensional matrix.\n",
        "\n",
        "Using PCA on our data will decrease the amount of operations during training and testing."
      ]
    },
    {
      "metadata": {
        "_cell_guid": "fbb45762-272f-40b8-bde6-9d3dd9c1cd55",
        "_uuid": "8a97dca248a7b0473c784af669ea00b59017fa8a",
        "trusted": true,
        "colab": {
          "base_uri": "https://localhost:8080/",
          "height": 206
        },
        "id": "6z_T1dpLWj-1",
        "outputId": "299cae8c-4218-429d-80bb-2d29f654b377"
      },
      "cell_type": "code",
      "source": [
        "sdss_df_fe = sdss_df\n",
        "\n",
        "# encode class labels to integers\n",
        "le = LabelEncoder()\n",
        "y_encoded = le.fit_transform(sdss_df_fe['class'])\n",
        "sdss_df_fe['class'] = y_encoded\n",
        "\n",
        "# Principal Component Analysis\n",
        "pca = PCA(n_components=3)\n",
        "ugriz = pca.fit_transform(sdss_df_fe[['u', 'g', 'r', 'i', 'z']])\n",
        "\n",
        "# update dataframe\n",
        "sdss_df_fe = pd.concat((sdss_df_fe, pd.DataFrame(ugriz)), axis=1)\n",
        "sdss_df_fe.rename({0: 'PCA_1', 1: 'PCA_2', 2: 'PCA_3'}, axis=1, inplace = True)\n",
        "sdss_df_fe.drop(['u', 'g', 'r', 'i', 'z'], axis=1, inplace=True)\n",
        "sdss_df_fe.head()"
      ],
      "execution_count": 13,
      "outputs": [
        {
          "output_type": "execute_result",
          "data": {
            "text/plain": [
              "           ra       dec  class  redshift  plate    mjd  fiberid     PCA_1  \\\n",
              "0  183.531326  0.089693      2 -0.000009   3306  54922      491 -1.507202   \n",
              "1  183.598370  0.135285      2 -0.000055    323  51615      541 -0.195758   \n",
              "2  183.680207  0.126185      0  0.123111    287  52023      513  1.297604   \n",
              "3  183.870529  0.049911      2 -0.000111   3306  54922      510 -1.446117   \n",
              "4  183.883288  0.102557      2  0.000590   3306  54922      512 -0.849271   \n",
              "\n",
              "      PCA_2     PCA_3  \n",
              "0  1.377293 -0.265119  \n",
              "1  0.028410 -0.155695  \n",
              "2  0.590023  0.140338  \n",
              "3 -0.566685 -0.009272  \n",
              "4 -1.287505 -0.397689  "
            ],
            "text/html": [
              "\n",
              "  <div id=\"df-7e46045d-8b20-4ef8-8330-c929a9d918d2\" class=\"colab-df-container\">\n",
              "    <div>\n",
              "<style scoped>\n",
              "    .dataframe tbody tr th:only-of-type {\n",
              "        vertical-align: middle;\n",
              "    }\n",
              "\n",
              "    .dataframe tbody tr th {\n",
              "        vertical-align: top;\n",
              "    }\n",
              "\n",
              "    .dataframe thead th {\n",
              "        text-align: right;\n",
              "    }\n",
              "</style>\n",
              "<table border=\"1\" class=\"dataframe\">\n",
              "  <thead>\n",
              "    <tr style=\"text-align: right;\">\n",
              "      <th></th>\n",
              "      <th>ra</th>\n",
              "      <th>dec</th>\n",
              "      <th>class</th>\n",
              "      <th>redshift</th>\n",
              "      <th>plate</th>\n",
              "      <th>mjd</th>\n",
              "      <th>fiberid</th>\n",
              "      <th>PCA_1</th>\n",
              "      <th>PCA_2</th>\n",
              "      <th>PCA_3</th>\n",
              "    </tr>\n",
              "  </thead>\n",
              "  <tbody>\n",
              "    <tr>\n",
              "      <th>0</th>\n",
              "      <td>183.531326</td>\n",
              "      <td>0.089693</td>\n",
              "      <td>2</td>\n",
              "      <td>-0.000009</td>\n",
              "      <td>3306</td>\n",
              "      <td>54922</td>\n",
              "      <td>491</td>\n",
              "      <td>-1.507202</td>\n",
              "      <td>1.377293</td>\n",
              "      <td>-0.265119</td>\n",
              "    </tr>\n",
              "    <tr>\n",
              "      <th>1</th>\n",
              "      <td>183.598370</td>\n",
              "      <td>0.135285</td>\n",
              "      <td>2</td>\n",
              "      <td>-0.000055</td>\n",
              "      <td>323</td>\n",
              "      <td>51615</td>\n",
              "      <td>541</td>\n",
              "      <td>-0.195758</td>\n",
              "      <td>0.028410</td>\n",
              "      <td>-0.155695</td>\n",
              "    </tr>\n",
              "    <tr>\n",
              "      <th>2</th>\n",
              "      <td>183.680207</td>\n",
              "      <td>0.126185</td>\n",
              "      <td>0</td>\n",
              "      <td>0.123111</td>\n",
              "      <td>287</td>\n",
              "      <td>52023</td>\n",
              "      <td>513</td>\n",
              "      <td>1.297604</td>\n",
              "      <td>0.590023</td>\n",
              "      <td>0.140338</td>\n",
              "    </tr>\n",
              "    <tr>\n",
              "      <th>3</th>\n",
              "      <td>183.870529</td>\n",
              "      <td>0.049911</td>\n",
              "      <td>2</td>\n",
              "      <td>-0.000111</td>\n",
              "      <td>3306</td>\n",
              "      <td>54922</td>\n",
              "      <td>510</td>\n",
              "      <td>-1.446117</td>\n",
              "      <td>-0.566685</td>\n",
              "      <td>-0.009272</td>\n",
              "    </tr>\n",
              "    <tr>\n",
              "      <th>4</th>\n",
              "      <td>183.883288</td>\n",
              "      <td>0.102557</td>\n",
              "      <td>2</td>\n",
              "      <td>0.000590</td>\n",
              "      <td>3306</td>\n",
              "      <td>54922</td>\n",
              "      <td>512</td>\n",
              "      <td>-0.849271</td>\n",
              "      <td>-1.287505</td>\n",
              "      <td>-0.397689</td>\n",
              "    </tr>\n",
              "  </tbody>\n",
              "</table>\n",
              "</div>\n",
              "    <div class=\"colab-df-buttons\">\n",
              "\n",
              "  <div class=\"colab-df-container\">\n",
              "    <button class=\"colab-df-convert\" onclick=\"convertToInteractive('df-7e46045d-8b20-4ef8-8330-c929a9d918d2')\"\n",
              "            title=\"Convert this dataframe to an interactive table.\"\n",
              "            style=\"display:none;\">\n",
              "\n",
              "  <svg xmlns=\"http://www.w3.org/2000/svg\" height=\"24px\" viewBox=\"0 -960 960 960\">\n",
              "    <path d=\"M120-120v-720h720v720H120Zm60-500h600v-160H180v160Zm220 220h160v-160H400v160Zm0 220h160v-160H400v160ZM180-400h160v-160H180v160Zm440 0h160v-160H620v160ZM180-180h160v-160H180v160Zm440 0h160v-160H620v160Z\"/>\n",
              "  </svg>\n",
              "    </button>\n",
              "\n",
              "  <style>\n",
              "    .colab-df-container {\n",
              "      display:flex;\n",
              "      gap: 12px;\n",
              "    }\n",
              "\n",
              "    .colab-df-convert {\n",
              "      background-color: #E8F0FE;\n",
              "      border: none;\n",
              "      border-radius: 50%;\n",
              "      cursor: pointer;\n",
              "      display: none;\n",
              "      fill: #1967D2;\n",
              "      height: 32px;\n",
              "      padding: 0 0 0 0;\n",
              "      width: 32px;\n",
              "    }\n",
              "\n",
              "    .colab-df-convert:hover {\n",
              "      background-color: #E2EBFA;\n",
              "      box-shadow: 0px 1px 2px rgba(60, 64, 67, 0.3), 0px 1px 3px 1px rgba(60, 64, 67, 0.15);\n",
              "      fill: #174EA6;\n",
              "    }\n",
              "\n",
              "    .colab-df-buttons div {\n",
              "      margin-bottom: 4px;\n",
              "    }\n",
              "\n",
              "    [theme=dark] .colab-df-convert {\n",
              "      background-color: #3B4455;\n",
              "      fill: #D2E3FC;\n",
              "    }\n",
              "\n",
              "    [theme=dark] .colab-df-convert:hover {\n",
              "      background-color: #434B5C;\n",
              "      box-shadow: 0px 1px 3px 1px rgba(0, 0, 0, 0.15);\n",
              "      filter: drop-shadow(0px 1px 2px rgba(0, 0, 0, 0.3));\n",
              "      fill: #FFFFFF;\n",
              "    }\n",
              "  </style>\n",
              "\n",
              "    <script>\n",
              "      const buttonEl =\n",
              "        document.querySelector('#df-7e46045d-8b20-4ef8-8330-c929a9d918d2 button.colab-df-convert');\n",
              "      buttonEl.style.display =\n",
              "        google.colab.kernel.accessAllowed ? 'block' : 'none';\n",
              "\n",
              "      async function convertToInteractive(key) {\n",
              "        const element = document.querySelector('#df-7e46045d-8b20-4ef8-8330-c929a9d918d2');\n",
              "        const dataTable =\n",
              "          await google.colab.kernel.invokeFunction('convertToInteractive',\n",
              "                                                    [key], {});\n",
              "        if (!dataTable) return;\n",
              "\n",
              "        const docLinkHtml = 'Like what you see? Visit the ' +\n",
              "          '<a target=\"_blank\" href=https://colab.research.google.com/notebooks/data_table.ipynb>data table notebook</a>'\n",
              "          + ' to learn more about interactive tables.';\n",
              "        element.innerHTML = '';\n",
              "        dataTable['output_type'] = 'display_data';\n",
              "        await google.colab.output.renderOutput(dataTable, element);\n",
              "        const docLink = document.createElement('div');\n",
              "        docLink.innerHTML = docLinkHtml;\n",
              "        element.appendChild(docLink);\n",
              "      }\n",
              "    </script>\n",
              "  </div>\n",
              "\n",
              "\n",
              "    <div id=\"df-e52a7705-2127-41e4-a83a-498c622c19d3\">\n",
              "      <button class=\"colab-df-quickchart\" onclick=\"quickchart('df-e52a7705-2127-41e4-a83a-498c622c19d3')\"\n",
              "                title=\"Suggest charts\"\n",
              "                style=\"display:none;\">\n",
              "\n",
              "<svg xmlns=\"http://www.w3.org/2000/svg\" height=\"24px\"viewBox=\"0 0 24 24\"\n",
              "     width=\"24px\">\n",
              "    <g>\n",
              "        <path d=\"M19 3H5c-1.1 0-2 .9-2 2v14c0 1.1.9 2 2 2h14c1.1 0 2-.9 2-2V5c0-1.1-.9-2-2-2zM9 17H7v-7h2v7zm4 0h-2V7h2v10zm4 0h-2v-4h2v4z\"/>\n",
              "    </g>\n",
              "</svg>\n",
              "      </button>\n",
              "\n",
              "<style>\n",
              "  .colab-df-quickchart {\n",
              "      --bg-color: #E8F0FE;\n",
              "      --fill-color: #1967D2;\n",
              "      --hover-bg-color: #E2EBFA;\n",
              "      --hover-fill-color: #174EA6;\n",
              "      --disabled-fill-color: #AAA;\n",
              "      --disabled-bg-color: #DDD;\n",
              "  }\n",
              "\n",
              "  [theme=dark] .colab-df-quickchart {\n",
              "      --bg-color: #3B4455;\n",
              "      --fill-color: #D2E3FC;\n",
              "      --hover-bg-color: #434B5C;\n",
              "      --hover-fill-color: #FFFFFF;\n",
              "      --disabled-bg-color: #3B4455;\n",
              "      --disabled-fill-color: #666;\n",
              "  }\n",
              "\n",
              "  .colab-df-quickchart {\n",
              "    background-color: var(--bg-color);\n",
              "    border: none;\n",
              "    border-radius: 50%;\n",
              "    cursor: pointer;\n",
              "    display: none;\n",
              "    fill: var(--fill-color);\n",
              "    height: 32px;\n",
              "    padding: 0;\n",
              "    width: 32px;\n",
              "  }\n",
              "\n",
              "  .colab-df-quickchart:hover {\n",
              "    background-color: var(--hover-bg-color);\n",
              "    box-shadow: 0 1px 2px rgba(60, 64, 67, 0.3), 0 1px 3px 1px rgba(60, 64, 67, 0.15);\n",
              "    fill: var(--button-hover-fill-color);\n",
              "  }\n",
              "\n",
              "  .colab-df-quickchart-complete:disabled,\n",
              "  .colab-df-quickchart-complete:disabled:hover {\n",
              "    background-color: var(--disabled-bg-color);\n",
              "    fill: var(--disabled-fill-color);\n",
              "    box-shadow: none;\n",
              "  }\n",
              "\n",
              "  .colab-df-spinner {\n",
              "    border: 2px solid var(--fill-color);\n",
              "    border-color: transparent;\n",
              "    border-bottom-color: var(--fill-color);\n",
              "    animation:\n",
              "      spin 1s steps(1) infinite;\n",
              "  }\n",
              "\n",
              "  @keyframes spin {\n",
              "    0% {\n",
              "      border-color: transparent;\n",
              "      border-bottom-color: var(--fill-color);\n",
              "      border-left-color: var(--fill-color);\n",
              "    }\n",
              "    20% {\n",
              "      border-color: transparent;\n",
              "      border-left-color: var(--fill-color);\n",
              "      border-top-color: var(--fill-color);\n",
              "    }\n",
              "    30% {\n",
              "      border-color: transparent;\n",
              "      border-left-color: var(--fill-color);\n",
              "      border-top-color: var(--fill-color);\n",
              "      border-right-color: var(--fill-color);\n",
              "    }\n",
              "    40% {\n",
              "      border-color: transparent;\n",
              "      border-right-color: var(--fill-color);\n",
              "      border-top-color: var(--fill-color);\n",
              "    }\n",
              "    60% {\n",
              "      border-color: transparent;\n",
              "      border-right-color: var(--fill-color);\n",
              "    }\n",
              "    80% {\n",
              "      border-color: transparent;\n",
              "      border-right-color: var(--fill-color);\n",
              "      border-bottom-color: var(--fill-color);\n",
              "    }\n",
              "    90% {\n",
              "      border-color: transparent;\n",
              "      border-bottom-color: var(--fill-color);\n",
              "    }\n",
              "  }\n",
              "</style>\n",
              "\n",
              "      <script>\n",
              "        async function quickchart(key) {\n",
              "          const quickchartButtonEl =\n",
              "            document.querySelector('#' + key + ' button');\n",
              "          quickchartButtonEl.disabled = true;  // To prevent multiple clicks.\n",
              "          quickchartButtonEl.classList.add('colab-df-spinner');\n",
              "          try {\n",
              "            const charts = await google.colab.kernel.invokeFunction(\n",
              "                'suggestCharts', [key], {});\n",
              "          } catch (error) {\n",
              "            console.error('Error during call to suggestCharts:', error);\n",
              "          }\n",
              "          quickchartButtonEl.classList.remove('colab-df-spinner');\n",
              "          quickchartButtonEl.classList.add('colab-df-quickchart-complete');\n",
              "        }\n",
              "        (() => {\n",
              "          let quickchartButtonEl =\n",
              "            document.querySelector('#df-e52a7705-2127-41e4-a83a-498c622c19d3 button');\n",
              "          quickchartButtonEl.style.display =\n",
              "            google.colab.kernel.accessAllowed ? 'block' : 'none';\n",
              "        })();\n",
              "      </script>\n",
              "    </div>\n",
              "\n",
              "    </div>\n",
              "  </div>\n"
            ],
            "application/vnd.google.colaboratory.intrinsic+json": {
              "type": "dataframe",
              "variable_name": "sdss_df_fe",
              "summary": "{\n  \"name\": \"sdss_df_fe\",\n  \"rows\": 10000,\n  \"fields\": [\n    {\n      \"column\": \"ra\",\n      \"properties\": {\n        \"dtype\": \"number\",\n        \"std\": 47.78343941253625,\n        \"min\": 8.235100497,\n        \"max\": 260.8843818,\n        \"num_unique_values\": 10000,\n        \"samples\": [\n          134.6492674,\n          157.0952241,\n          159.6062762\n        ],\n        \"semantic_type\": \"\",\n        \"description\": \"\"\n      }\n    },\n    {\n      \"column\": \"dec\",\n      \"properties\": {\n        \"dtype\": \"number\",\n        \"std\": 25.21220657928434,\n        \"min\": -5.382632499,\n        \"max\": 68.54226541,\n        \"num_unique_values\": 10000,\n        \"samples\": [\n          54.38634445,\n          62.59739268,\n          -0.017859983\n        ],\n        \"semantic_type\": \"\",\n        \"description\": \"\"\n      }\n    },\n    {\n      \"column\": \"class\",\n      \"properties\": {\n        \"dtype\": \"number\",\n        \"std\": 0,\n        \"min\": 0,\n        \"max\": 2,\n        \"num_unique_values\": 3,\n        \"samples\": [\n          2,\n          0,\n          1\n        ],\n        \"semantic_type\": \"\",\n        \"description\": \"\"\n      }\n    },\n    {\n      \"column\": \"redshift\",\n      \"properties\": {\n        \"dtype\": \"number\",\n        \"std\": 0.38877403581146536,\n        \"min\": -0.004136078,\n        \"max\": 5.353854,\n        \"num_unique_values\": 9637,\n        \"samples\": [\n          0.000189883,\n          -0.000102326,\n          -4.82e-05\n        ],\n        \"semantic_type\": \"\",\n        \"description\": \"\"\n      }\n    },\n    {\n      \"column\": \"plate\",\n      \"properties\": {\n        \"dtype\": \"number\",\n        \"std\": 1788,\n        \"min\": 266,\n        \"max\": 8410,\n        \"num_unique_values\": 487,\n        \"samples\": [\n          3848,\n          2053,\n          3841\n        ],\n        \"semantic_type\": \"\",\n        \"description\": \"\"\n      }\n    },\n    {\n      \"column\": \"mjd\",\n      \"properties\": {\n        \"dtype\": \"number\",\n        \"std\": 1511,\n        \"min\": 51578,\n        \"max\": 57481,\n        \"num_unique_values\": 355,\n        \"samples\": [\n          54862,\n          55361,\n          57073\n        ],\n        \"semantic_type\": \"\",\n        \"description\": \"\"\n      }\n    },\n    {\n      \"column\": \"fiberid\",\n      \"properties\": {\n        \"dtype\": \"number\",\n        \"std\": 206,\n        \"min\": 1,\n        \"max\": 1000,\n        \"num_unique_values\": 892,\n        \"samples\": [\n          658,\n          9,\n          44\n        ],\n        \"semantic_type\": \"\",\n        \"description\": \"\"\n      }\n    },\n    {\n      \"column\": \"PCA_1\",\n      \"properties\": {\n        \"dtype\": \"number\",\n        \"std\": 2.222472276305785,\n        \"min\": -9.640301175072072,\n        \"max\": 11.436112696276751,\n        \"num_unique_values\": 10000,\n        \"samples\": [\n          -1.61956814932919,\n          4.782553590025557,\n          -0.7445950975435451\n        ],\n        \"semantic_type\": \"\",\n        \"description\": \"\"\n      }\n    },\n    {\n      \"column\": \"PCA_2\",\n      \"properties\": {\n        \"dtype\": \"number\",\n        \"std\": 0.6920866445041668,\n        \"min\": -7.2258866675829445,\n        \"max\": 2.0183627448907835,\n        \"num_unique_values\": 10000,\n        \"samples\": [\n          0.7504494154030965,\n          -0.5624368789819094,\n          -0.2805449236036459\n        ],\n        \"semantic_type\": \"\",\n        \"description\": \"\"\n      }\n    },\n    {\n      \"column\": \"PCA_3\",\n      \"properties\": {\n        \"dtype\": \"number\",\n        \"std\": 0.15831349997415067,\n        \"min\": -1.787185126161214,\n        \"max\": 2.138850682023231,\n        \"num_unique_values\": 10000,\n        \"samples\": [\n          -0.03540553673027147,\n          0.20287148387971277,\n          -0.02413289779066674\n        ],\n        \"semantic_type\": \"\",\n        \"description\": \"\"\n      }\n    }\n  ]\n}"
            }
          },
          "metadata": {},
          "execution_count": 13
        }
      ]
    },
    {
      "metadata": {
        "_cell_guid": "4e797850-cbb6-44f8-84d8-2649d9dcb461",
        "_uuid": "73423e72a3e388e8d6b8f16672a7b77215359cfe",
        "id": "F8C8_Z00Wj-2"
      },
      "cell_type": "markdown",
      "source": [
        "## Machine Learning Models - Training"
      ]
    },
    {
      "metadata": {
        "_cell_guid": "64793a20-a257-4717-a53b-ab02c6cdffb1",
        "_uuid": "e970946f57bff18edaed172d867bec65846f7413",
        "id": "DCfDO8XbWj-2"
      },
      "cell_type": "markdown",
      "source": [
        "#### Feature Scaling"
      ]
    },
    {
      "metadata": {
        "_cell_guid": "0a8fc626-e05b-483e-bed1-17c5be108903",
        "_uuid": "282a92a1d893a96b40b70b1c6d1fae063ba08ba3",
        "id": "d0-ORAfWWj-2"
      },
      "cell_type": "markdown",
      "source": [
        "We will now train different models on this dataset.\n",
        "\n",
        "Scaling all values to be within the (0, 1) interval will reduce the distortion due to exceptionally high values and make some algorithms converge faster."
      ]
    },
    {
      "metadata": {
        "_cell_guid": "23fc8398-331d-4164-8779-0516264ece29",
        "_uuid": "c147b9e899cc2dd508d736274c856f88fb49321d",
        "trusted": true,
        "id": "oUmBCBinWj-2"
      },
      "cell_type": "code",
      "source": [
        "scaler = MinMaxScaler()\n",
        "sdss = scaler.fit_transform(sdss_df_fe.drop('class', axis=1))"
      ],
      "execution_count": 14,
      "outputs": []
    },
    {
      "metadata": {
        "_cell_guid": "13e1fd6f-820c-4098-a486-0079b300e6c9",
        "_uuid": "e76e964a4b93c27e1ab01c24a06be09d8b304970",
        "id": "wJAuVUYkWj-2"
      },
      "cell_type": "markdown",
      "source": [
        "We will  split the data into a training and a test part. The models will be trained on the training data set and tested on the test data set"
      ]
    },
    {
      "metadata": {
        "_cell_guid": "a94f2305-4f2a-4d11-b368-528820d28b0b",
        "_uuid": "da9a96996b695f8ca2c268f43106e179ba6be1f5",
        "trusted": true,
        "id": "YASSAb5QWj-3"
      },
      "cell_type": "code",
      "source": [
        "X_train, X_test, y_train, y_test = train_test_split(sdss, sdss_df_fe['class'], test_size=0.33)"
      ],
      "execution_count": 15,
      "outputs": []
    },
    {
      "metadata": {
        "_cell_guid": "026ded4a-6c4d-45ed-819e-68fe0f3e7238",
        "_uuid": "e13c5a84383fc5e96ae786757f68a6d5d4fefb83",
        "id": "5yfArozHWj-3"
      },
      "cell_type": "markdown",
      "source": [
        "#### XGBoost"
      ]
    },
    {
      "metadata": {
        "_cell_guid": "ebc9caed-0883-4352-9fd8-dc40154416f3",
        "_uuid": "e6f31bfdb40799c40b90ee4b603e6ffae9197f4d",
        "trusted": true,
        "colab": {
          "base_uri": "https://localhost:8080/"
        },
        "id": "YOxRbdkzWj-3",
        "outputId": "03eb886a-359e-4fac-d375-dc7914447d77"
      },
      "cell_type": "code",
      "source": [
        "xgb = XGBClassifier(n_estimators=100)\n",
        "training_start = time.perf_counter()\n",
        "xgb.fit(X_train, y_train)\n",
        "training_end = time.perf_counter()\n",
        "prediction_start = time.perf_counter()\n",
        "preds = xgb.predict(X_test)\n",
        "prediction_end = time.perf_counter()\n",
        "acc_xgb = (preds == y_test).sum().astype(float) / len(preds)*100\n",
        "xgb_train_time = training_end-training_start\n",
        "xgb_prediction_time = prediction_end-prediction_start\n",
        "print(\"XGBoost's prediction accuracy is: %3.2f\" % (acc_xgb))\n",
        "print(\"Time consumed for training: %4.3f\" % (xgb_train_time))\n",
        "print(\"Time consumed for prediction: %6.5f seconds\" % (xgb_prediction_time))"
      ],
      "execution_count": 16,
      "outputs": [
        {
          "output_type": "stream",
          "name": "stdout",
          "text": [
            "XGBoost's prediction accuracy is: 99.15\n",
            "Time consumed for training: 0.447\n",
            "Time consumed for prediction: 0.01518 seconds\n"
          ]
        }
      ]
    },
    {
      "metadata": {
        "_cell_guid": "8d501e81-e7bf-4212-89b0-7e4dda3afd45",
        "_uuid": "8538142325bbaf4c09449126856a8cf0725aeabe",
        "id": "mQFTLNacWj-6"
      },
      "cell_type": "markdown",
      "source": [
        "### Feature Importance"
      ]
    },
    {
      "metadata": {
        "_cell_guid": "58abedc0-f5ba-497e-8037-4fd6e03e283a",
        "_uuid": "d201ab385d30b19c444b79d0d0b7697f9161f888",
        "id": "grgz8FlHWj-6"
      },
      "cell_type": "markdown",
      "source": [
        "Decision Trees have the unique property of being able to order features by their ability to split between the classes.\n",
        "\n",
        "We will now visualize the features and their splitting ability."
      ]
    },
    {
      "metadata": {
        "scrolled": true,
        "_cell_guid": "1684a815-20b7-47cd-ba41-d326249961e2",
        "_uuid": "12d49c95b6b762d0cf43eba7c28818237fa3ae97",
        "trusted": true,
        "colab": {
          "base_uri": "https://localhost:8080/",
          "height": 363
        },
        "id": "t_UtFlkoWj-6",
        "outputId": "49fb9707-88cc-4fc3-c0b5-588d9734687d"
      },
      "cell_type": "code",
      "source": [
        "importances = pd.DataFrame({\n",
        "    'Feature': sdss_df_fe.drop('class', axis=1).columns,\n",
        "    'Importance': xgb.feature_importances_\n",
        "})\n",
        "importances = importances.sort_values(by='Importance', ascending=False)\n",
        "importances = importances.set_index('Feature')\n",
        "importances"
      ],
      "execution_count": 17,
      "outputs": [
        {
          "output_type": "execute_result",
          "data": {
            "text/plain": [
              "          Importance\n",
              "Feature             \n",
              "redshift    0.934981\n",
              "PCA_3       0.020403\n",
              "PCA_2       0.010494\n",
              "PCA_1       0.007861\n",
              "plate       0.006670\n",
              "ra          0.005675\n",
              "fiberid     0.004734\n",
              "dec         0.004646\n",
              "mjd         0.004536"
            ],
            "text/html": [
              "\n",
              "  <div id=\"df-a0910852-74b4-4c05-b209-372be03d0e28\" class=\"colab-df-container\">\n",
              "    <div>\n",
              "<style scoped>\n",
              "    .dataframe tbody tr th:only-of-type {\n",
              "        vertical-align: middle;\n",
              "    }\n",
              "\n",
              "    .dataframe tbody tr th {\n",
              "        vertical-align: top;\n",
              "    }\n",
              "\n",
              "    .dataframe thead th {\n",
              "        text-align: right;\n",
              "    }\n",
              "</style>\n",
              "<table border=\"1\" class=\"dataframe\">\n",
              "  <thead>\n",
              "    <tr style=\"text-align: right;\">\n",
              "      <th></th>\n",
              "      <th>Importance</th>\n",
              "    </tr>\n",
              "    <tr>\n",
              "      <th>Feature</th>\n",
              "      <th></th>\n",
              "    </tr>\n",
              "  </thead>\n",
              "  <tbody>\n",
              "    <tr>\n",
              "      <th>redshift</th>\n",
              "      <td>0.934981</td>\n",
              "    </tr>\n",
              "    <tr>\n",
              "      <th>PCA_3</th>\n",
              "      <td>0.020403</td>\n",
              "    </tr>\n",
              "    <tr>\n",
              "      <th>PCA_2</th>\n",
              "      <td>0.010494</td>\n",
              "    </tr>\n",
              "    <tr>\n",
              "      <th>PCA_1</th>\n",
              "      <td>0.007861</td>\n",
              "    </tr>\n",
              "    <tr>\n",
              "      <th>plate</th>\n",
              "      <td>0.006670</td>\n",
              "    </tr>\n",
              "    <tr>\n",
              "      <th>ra</th>\n",
              "      <td>0.005675</td>\n",
              "    </tr>\n",
              "    <tr>\n",
              "      <th>fiberid</th>\n",
              "      <td>0.004734</td>\n",
              "    </tr>\n",
              "    <tr>\n",
              "      <th>dec</th>\n",
              "      <td>0.004646</td>\n",
              "    </tr>\n",
              "    <tr>\n",
              "      <th>mjd</th>\n",
              "      <td>0.004536</td>\n",
              "    </tr>\n",
              "  </tbody>\n",
              "</table>\n",
              "</div>\n",
              "    <div class=\"colab-df-buttons\">\n",
              "\n",
              "  <div class=\"colab-df-container\">\n",
              "    <button class=\"colab-df-convert\" onclick=\"convertToInteractive('df-a0910852-74b4-4c05-b209-372be03d0e28')\"\n",
              "            title=\"Convert this dataframe to an interactive table.\"\n",
              "            style=\"display:none;\">\n",
              "\n",
              "  <svg xmlns=\"http://www.w3.org/2000/svg\" height=\"24px\" viewBox=\"0 -960 960 960\">\n",
              "    <path d=\"M120-120v-720h720v720H120Zm60-500h600v-160H180v160Zm220 220h160v-160H400v160Zm0 220h160v-160H400v160ZM180-400h160v-160H180v160Zm440 0h160v-160H620v160ZM180-180h160v-160H180v160Zm440 0h160v-160H620v160Z\"/>\n",
              "  </svg>\n",
              "    </button>\n",
              "\n",
              "  <style>\n",
              "    .colab-df-container {\n",
              "      display:flex;\n",
              "      gap: 12px;\n",
              "    }\n",
              "\n",
              "    .colab-df-convert {\n",
              "      background-color: #E8F0FE;\n",
              "      border: none;\n",
              "      border-radius: 50%;\n",
              "      cursor: pointer;\n",
              "      display: none;\n",
              "      fill: #1967D2;\n",
              "      height: 32px;\n",
              "      padding: 0 0 0 0;\n",
              "      width: 32px;\n",
              "    }\n",
              "\n",
              "    .colab-df-convert:hover {\n",
              "      background-color: #E2EBFA;\n",
              "      box-shadow: 0px 1px 2px rgba(60, 64, 67, 0.3), 0px 1px 3px 1px rgba(60, 64, 67, 0.15);\n",
              "      fill: #174EA6;\n",
              "    }\n",
              "\n",
              "    .colab-df-buttons div {\n",
              "      margin-bottom: 4px;\n",
              "    }\n",
              "\n",
              "    [theme=dark] .colab-df-convert {\n",
              "      background-color: #3B4455;\n",
              "      fill: #D2E3FC;\n",
              "    }\n",
              "\n",
              "    [theme=dark] .colab-df-convert:hover {\n",
              "      background-color: #434B5C;\n",
              "      box-shadow: 0px 1px 3px 1px rgba(0, 0, 0, 0.15);\n",
              "      filter: drop-shadow(0px 1px 2px rgba(0, 0, 0, 0.3));\n",
              "      fill: #FFFFFF;\n",
              "    }\n",
              "  </style>\n",
              "\n",
              "    <script>\n",
              "      const buttonEl =\n",
              "        document.querySelector('#df-a0910852-74b4-4c05-b209-372be03d0e28 button.colab-df-convert');\n",
              "      buttonEl.style.display =\n",
              "        google.colab.kernel.accessAllowed ? 'block' : 'none';\n",
              "\n",
              "      async function convertToInteractive(key) {\n",
              "        const element = document.querySelector('#df-a0910852-74b4-4c05-b209-372be03d0e28');\n",
              "        const dataTable =\n",
              "          await google.colab.kernel.invokeFunction('convertToInteractive',\n",
              "                                                    [key], {});\n",
              "        if (!dataTable) return;\n",
              "\n",
              "        const docLinkHtml = 'Like what you see? Visit the ' +\n",
              "          '<a target=\"_blank\" href=https://colab.research.google.com/notebooks/data_table.ipynb>data table notebook</a>'\n",
              "          + ' to learn more about interactive tables.';\n",
              "        element.innerHTML = '';\n",
              "        dataTable['output_type'] = 'display_data';\n",
              "        await google.colab.output.renderOutput(dataTable, element);\n",
              "        const docLink = document.createElement('div');\n",
              "        docLink.innerHTML = docLinkHtml;\n",
              "        element.appendChild(docLink);\n",
              "      }\n",
              "    </script>\n",
              "  </div>\n",
              "\n",
              "\n",
              "    <div id=\"df-d05abe20-a987-4782-b568-9d889ba6e550\">\n",
              "      <button class=\"colab-df-quickchart\" onclick=\"quickchart('df-d05abe20-a987-4782-b568-9d889ba6e550')\"\n",
              "                title=\"Suggest charts\"\n",
              "                style=\"display:none;\">\n",
              "\n",
              "<svg xmlns=\"http://www.w3.org/2000/svg\" height=\"24px\"viewBox=\"0 0 24 24\"\n",
              "     width=\"24px\">\n",
              "    <g>\n",
              "        <path d=\"M19 3H5c-1.1 0-2 .9-2 2v14c0 1.1.9 2 2 2h14c1.1 0 2-.9 2-2V5c0-1.1-.9-2-2-2zM9 17H7v-7h2v7zm4 0h-2V7h2v10zm4 0h-2v-4h2v4z\"/>\n",
              "    </g>\n",
              "</svg>\n",
              "      </button>\n",
              "\n",
              "<style>\n",
              "  .colab-df-quickchart {\n",
              "      --bg-color: #E8F0FE;\n",
              "      --fill-color: #1967D2;\n",
              "      --hover-bg-color: #E2EBFA;\n",
              "      --hover-fill-color: #174EA6;\n",
              "      --disabled-fill-color: #AAA;\n",
              "      --disabled-bg-color: #DDD;\n",
              "  }\n",
              "\n",
              "  [theme=dark] .colab-df-quickchart {\n",
              "      --bg-color: #3B4455;\n",
              "      --fill-color: #D2E3FC;\n",
              "      --hover-bg-color: #434B5C;\n",
              "      --hover-fill-color: #FFFFFF;\n",
              "      --disabled-bg-color: #3B4455;\n",
              "      --disabled-fill-color: #666;\n",
              "  }\n",
              "\n",
              "  .colab-df-quickchart {\n",
              "    background-color: var(--bg-color);\n",
              "    border: none;\n",
              "    border-radius: 50%;\n",
              "    cursor: pointer;\n",
              "    display: none;\n",
              "    fill: var(--fill-color);\n",
              "    height: 32px;\n",
              "    padding: 0;\n",
              "    width: 32px;\n",
              "  }\n",
              "\n",
              "  .colab-df-quickchart:hover {\n",
              "    background-color: var(--hover-bg-color);\n",
              "    box-shadow: 0 1px 2px rgba(60, 64, 67, 0.3), 0 1px 3px 1px rgba(60, 64, 67, 0.15);\n",
              "    fill: var(--button-hover-fill-color);\n",
              "  }\n",
              "\n",
              "  .colab-df-quickchart-complete:disabled,\n",
              "  .colab-df-quickchart-complete:disabled:hover {\n",
              "    background-color: var(--disabled-bg-color);\n",
              "    fill: var(--disabled-fill-color);\n",
              "    box-shadow: none;\n",
              "  }\n",
              "\n",
              "  .colab-df-spinner {\n",
              "    border: 2px solid var(--fill-color);\n",
              "    border-color: transparent;\n",
              "    border-bottom-color: var(--fill-color);\n",
              "    animation:\n",
              "      spin 1s steps(1) infinite;\n",
              "  }\n",
              "\n",
              "  @keyframes spin {\n",
              "    0% {\n",
              "      border-color: transparent;\n",
              "      border-bottom-color: var(--fill-color);\n",
              "      border-left-color: var(--fill-color);\n",
              "    }\n",
              "    20% {\n",
              "      border-color: transparent;\n",
              "      border-left-color: var(--fill-color);\n",
              "      border-top-color: var(--fill-color);\n",
              "    }\n",
              "    30% {\n",
              "      border-color: transparent;\n",
              "      border-left-color: var(--fill-color);\n",
              "      border-top-color: var(--fill-color);\n",
              "      border-right-color: var(--fill-color);\n",
              "    }\n",
              "    40% {\n",
              "      border-color: transparent;\n",
              "      border-right-color: var(--fill-color);\n",
              "      border-top-color: var(--fill-color);\n",
              "    }\n",
              "    60% {\n",
              "      border-color: transparent;\n",
              "      border-right-color: var(--fill-color);\n",
              "    }\n",
              "    80% {\n",
              "      border-color: transparent;\n",
              "      border-right-color: var(--fill-color);\n",
              "      border-bottom-color: var(--fill-color);\n",
              "    }\n",
              "    90% {\n",
              "      border-color: transparent;\n",
              "      border-bottom-color: var(--fill-color);\n",
              "    }\n",
              "  }\n",
              "</style>\n",
              "\n",
              "      <script>\n",
              "        async function quickchart(key) {\n",
              "          const quickchartButtonEl =\n",
              "            document.querySelector('#' + key + ' button');\n",
              "          quickchartButtonEl.disabled = true;  // To prevent multiple clicks.\n",
              "          quickchartButtonEl.classList.add('colab-df-spinner');\n",
              "          try {\n",
              "            const charts = await google.colab.kernel.invokeFunction(\n",
              "                'suggestCharts', [key], {});\n",
              "          } catch (error) {\n",
              "            console.error('Error during call to suggestCharts:', error);\n",
              "          }\n",
              "          quickchartButtonEl.classList.remove('colab-df-spinner');\n",
              "          quickchartButtonEl.classList.add('colab-df-quickchart-complete');\n",
              "        }\n",
              "        (() => {\n",
              "          let quickchartButtonEl =\n",
              "            document.querySelector('#df-d05abe20-a987-4782-b568-9d889ba6e550 button');\n",
              "          quickchartButtonEl.style.display =\n",
              "            google.colab.kernel.accessAllowed ? 'block' : 'none';\n",
              "        })();\n",
              "      </script>\n",
              "    </div>\n",
              "\n",
              "  <div id=\"id_812f596f-4b3d-48f0-ab21-8471187daee8\">\n",
              "    <style>\n",
              "      .colab-df-generate {\n",
              "        background-color: #E8F0FE;\n",
              "        border: none;\n",
              "        border-radius: 50%;\n",
              "        cursor: pointer;\n",
              "        display: none;\n",
              "        fill: #1967D2;\n",
              "        height: 32px;\n",
              "        padding: 0 0 0 0;\n",
              "        width: 32px;\n",
              "      }\n",
              "\n",
              "      .colab-df-generate:hover {\n",
              "        background-color: #E2EBFA;\n",
              "        box-shadow: 0px 1px 2px rgba(60, 64, 67, 0.3), 0px 1px 3px 1px rgba(60, 64, 67, 0.15);\n",
              "        fill: #174EA6;\n",
              "      }\n",
              "\n",
              "      [theme=dark] .colab-df-generate {\n",
              "        background-color: #3B4455;\n",
              "        fill: #D2E3FC;\n",
              "      }\n",
              "\n",
              "      [theme=dark] .colab-df-generate:hover {\n",
              "        background-color: #434B5C;\n",
              "        box-shadow: 0px 1px 3px 1px rgba(0, 0, 0, 0.15);\n",
              "        filter: drop-shadow(0px 1px 2px rgba(0, 0, 0, 0.3));\n",
              "        fill: #FFFFFF;\n",
              "      }\n",
              "    </style>\n",
              "    <button class=\"colab-df-generate\" onclick=\"generateWithVariable('importances')\"\n",
              "            title=\"Generate code using this dataframe.\"\n",
              "            style=\"display:none;\">\n",
              "\n",
              "  <svg xmlns=\"http://www.w3.org/2000/svg\" height=\"24px\"viewBox=\"0 0 24 24\"\n",
              "       width=\"24px\">\n",
              "    <path d=\"M7,19H8.4L18.45,9,17,7.55,7,17.6ZM5,21V16.75L18.45,3.32a2,2,0,0,1,2.83,0l1.4,1.43a1.91,1.91,0,0,1,.58,1.4,1.91,1.91,0,0,1-.58,1.4L9.25,21ZM18.45,9,17,7.55Zm-12,3A5.31,5.31,0,0,0,4.9,8.1,5.31,5.31,0,0,0,1,6.5,5.31,5.31,0,0,0,4.9,4.9,5.31,5.31,0,0,0,6.5,1,5.31,5.31,0,0,0,8.1,4.9,5.31,5.31,0,0,0,12,6.5,5.46,5.46,0,0,0,6.5,12Z\"/>\n",
              "  </svg>\n",
              "    </button>\n",
              "    <script>\n",
              "      (() => {\n",
              "      const buttonEl =\n",
              "        document.querySelector('#id_812f596f-4b3d-48f0-ab21-8471187daee8 button.colab-df-generate');\n",
              "      buttonEl.style.display =\n",
              "        google.colab.kernel.accessAllowed ? 'block' : 'none';\n",
              "\n",
              "      buttonEl.onclick = () => {\n",
              "        google.colab.notebook.generateWithVariable('importances');\n",
              "      }\n",
              "      })();\n",
              "    </script>\n",
              "  </div>\n",
              "\n",
              "    </div>\n",
              "  </div>\n"
            ],
            "application/vnd.google.colaboratory.intrinsic+json": {
              "type": "dataframe",
              "variable_name": "importances",
              "summary": "{\n  \"name\": \"importances\",\n  \"rows\": 9,\n  \"fields\": [\n    {\n      \"column\": \"Feature\",\n      \"properties\": {\n        \"dtype\": \"string\",\n        \"num_unique_values\": 9,\n        \"samples\": [\n          \"dec\",\n          \"PCA_3\",\n          \"ra\"\n        ],\n        \"semantic_type\": \"\",\n        \"description\": \"\"\n      }\n    },\n    {\n      \"column\": \"Importance\",\n      \"properties\": {\n        \"dtype\": \"float32\",\n        \"num_unique_values\": 9,\n        \"samples\": [\n          0.004645615350455046,\n          0.02040303498506546,\n          0.005674574989825487\n        ],\n        \"semantic_type\": \"\",\n        \"description\": \"\"\n      }\n    }\n  ]\n}"
            }
          },
          "metadata": {},
          "execution_count": 17
        }
      ]
    },
    {
      "metadata": {
        "scrolled": false,
        "_cell_guid": "0852af00-7336-4b24-bc0a-2f2bb5f6454f",
        "_uuid": "53754170a45188c7b5fcafc44c28707c850f8128",
        "trusted": true,
        "colab": {
          "base_uri": "https://localhost:8080/",
          "height": 744
        },
        "id": "ITPCRJ9VWj-6",
        "outputId": "2495fa42-f849-46ae-d17a-4b7ac2de6180"
      },
      "cell_type": "code",
      "source": [
        "importances.plot.bar()"
      ],
      "execution_count": 18,
      "outputs": [
        {
          "output_type": "execute_result",
          "data": {
            "text/plain": [
              "<Axes: xlabel='Feature'>"
            ]
          },
          "metadata": {},
          "execution_count": 18
        },
        {
          "output_type": "display_data",
          "data": {
            "text/plain": [
              "<Figure size 960x720 with 1 Axes>"
            ],
            "image/png": "[encoded data removed]"
          },
          "metadata": {}
        }
      ]
    },
    {
      "metadata": {
        "_cell_guid": "c20a7dc7-7226-4970-b480-44150db5ae8e",
        "_uuid": "27931b2ee5325ff26b194ce646604116f315996b",
        "id": "478Un2FnWj-6"
      },
      "cell_type": "markdown",
      "source": [
        "Here we can clearly see how PCA helped to improve the performance of our predictors as 2 of the principal components are in the top 3 features.\n",
        "\n",
        "The best (in terms of being able to split classes) is redshift.\n",
        "\n",
        "Mjd is the feature with the lowest importance during the classification process, we will therefore drop it from the dataframe."
      ]
    },
    {
      "metadata": {
        "_uuid": "d644722e125a67b144b88f5ed8af00eb42fa0458",
        "id": "AGbipJbuWj-6"
      },
      "cell_type": "markdown",
      "source": [
        "Let's drop the column from the dataframe and rescale it. Since XGBoost requires the class to be discrete, we will re-add it manually afterwards."
      ]
    },
    {
      "metadata": {
        "_cell_guid": "ab40ef62-a88c-40f2-8de1-557c1d3f3538",
        "_uuid": "4145a1588a58c647a89277fe422f7336fed8e663",
        "id": "cDIisP3wWj-8"
      },
      "cell_type": "markdown",
      "source": [
        "## XGBoost - Evaluation"
      ]
    },
    {
      "metadata": {
        "_cell_guid": "335223e5-543a-4220-b800-d6701fac8a0b",
        "_uuid": "be081626a369bb71e249d2e8c1e908cb93be5278",
        "id": "ePXiPuBpWj-8"
      },
      "cell_type": "markdown",
      "source": [
        "### Confusion Matrix"
      ]
    },
    {
      "metadata": {
        "_cell_guid": "979ba73d-780d-45e9-8be2-ccd51fdf4cec",
        "_uuid": "edfebe01145e108c72ed26ac933050be270e8dff",
        "trusted": true,
        "colab": {
          "base_uri": "https://localhost:8080/"
        },
        "id": "Io5_b3ebWj-8",
        "outputId": "7d0a3e9f-9ab5-4d62-a808-2b344a8dbc08"
      },
      "cell_type": "code",
      "source": [
        "confusion_matrix(y_test, preds)"
      ],
      "execution_count": 19,
      "outputs": [
        {
          "output_type": "execute_result",
          "data": {
            "text/plain": [
              "array([[1633,    8,   11],\n",
              "       [   8,  278,    1],\n",
              "       [   0,    0, 1361]])"
            ]
          },
          "metadata": {},
          "execution_count": 19
        }
      ]
    },
    {
      "metadata": {
        "_cell_guid": "6caa5c87-1592-4a81-944d-2c95064f8c7b",
        "_uuid": "fe9df9fdd4b5d0bd707cfb57022207ea4a280c06",
        "id": "RiDN_J0lWj-9"
      },
      "cell_type": "markdown",
      "source": [
        "The first row shows, **1634 were classified correctly as stars**. 9 stars were classified incorrectly as galaxies and 10 stars were classified incorrectly as quasars.\n",
        "\n",
        "The second row shows **259 were classified correctly as quasars**. 6 qsos were classified incorrectly as stars and 0 quasar was classified as galaxy.\n",
        "\n",
        "The last row tells us **1381 were classified correctly as galaxies.**. 1 galaxies were classified incorrectly as star, and 0 as quasars\n"
      ]
    },
    {
      "metadata": {
        "_cell_guid": "fed94503-ff9b-4ed8-b0d5-068ab9997c2e",
        "_uuid": "620588ac4dd13964fed52434128fe04c4ca41648",
        "id": "Y9CNoC-4Wj-9"
      },
      "cell_type": "markdown",
      "source": [
        "### Precision & Recall"
      ]
    },
    {
      "metadata": {
        "_cell_guid": "70fd1280-a89b-4d82-b6bd-659be36ee9a2",
        "_uuid": "658950ca13aa7d48c09e16a18e51d3748343f1d2",
        "trusted": true,
        "colab": {
          "base_uri": "https://localhost:8080/"
        },
        "id": "DGOatqh0Wj-9",
        "outputId": "a1a9a476-3c4b-427d-cd56-b2e6e03242ab"
      },
      "cell_type": "code",
      "source": [
        "print(\"Precision:\", precision_score(y_test, preds, average='micro'))\n",
        "print(\"Recall:\",recall_score(y_test, preds, average='micro'))"
      ],
      "execution_count": 20,
      "outputs": [
        {
          "output_type": "stream",
          "name": "stdout",
          "text": [
            "Precision: 0.9915151515151515\n",
            "Recall: 0.9915151515151515\n"
          ]
        }
      ]
    },
    {
      "metadata": {
        "_cell_guid": "5e20bc1d-d511-4e4b-977f-c1dc03bdaff2",
        "_uuid": "1cd5284547adaf76c3b54e722216b4eb38daf83e",
        "id": "6x1pyrejWj-9"
      },
      "cell_type": "markdown",
      "source": [
        "Precision is the fraction of events where the algorithm classified an object of type **t** correctly out of all occurences of the algorithm classifying objects of type **t**.\n",
        "\n",
        "Recall is the fraction of events where the algorithm classified an object of type **t** correctly when the true type of that object was actually **t**.\n",
        "\n",
        "Precision in our case:\n",
        "\n",
        "For every class its calculated how many objects were classified as stars (or galaxies or quasars) in relation to the amount of correct star (or galaxies or quasars) predictions. The results are averaged --> 99.36%.\n",
        "\n",
        "Recall in our case:\n",
        "\n",
        "For every class its calculated how many objects were classified as stars (or galaxies or quasars) in relation to the total amount of predictions where the object actually was a star (or galaxy or quasar). The results are averaged --> 99.36%.\n",
        "\n",
        "In both cases our algorithm did a very good job. The highest precision or recall value a predictor can have is 1.0."
      ]
    },
    {
      "metadata": {
        "_cell_guid": "ea2c2e72-8733-4fe2-82f9-d545e67aee3b",
        "_uuid": "2bb3f471d03c443abc684301f9cc86cf01b6fb00",
        "id": "YYO1XQlUWj-9"
      },
      "cell_type": "markdown",
      "source": [
        "### F1-Score"
      ]
    },
    {
      "metadata": {
        "_cell_guid": "891698cd-b105-4879-8ee3-f06c86415ae0",
        "_uuid": "b3f24007d8dfd05ec3f24c231ecb933ec72f2cca",
        "id": "H7c1asIDWj-9"
      },
      "cell_type": "markdown",
      "source": [
        "One can combine precision and recall into one score, which is called the F-score. The F-score is computed with the harmonic mean of precision and recall. Note that it assigns much more weight to low values. As a result of that, the classifier will only get a high F-score, if both recall and precision are high."
      ]
    },
    {
      "metadata": {
        "_cell_guid": "470445a5-a8fa-4fe1-a888-ec0ca77bb61a",
        "_uuid": "ad9c64fb50ed540f5731a8230c0f2eb5791fc7f8",
        "trusted": true,
        "colab": {
          "base_uri": "https://localhost:8080/"
        },
        "id": "Zaff_xwzWj-9",
        "outputId": "31af416c-6754-4526-fd65-b3ad84da0159"
      },
      "cell_type": "code",
      "source": [
        "print(\"F1-Score:\", f1_score(y_test, preds, average='micro'))"
      ],
      "execution_count": 21,
      "outputs": [
        {
          "output_type": "stream",
          "name": "stdout",
          "text": [
            "F1-Score: 0.9915151515151515\n"
          ]
        }
      ]
    },
    {
      "metadata": {
        "_cell_guid": "64449fab-79a7-4f3f-a909-b39670e5fd5a",
        "_uuid": "a63a0334223d4b644215d3f807ef99c8097394a2",
        "id": "D9EZKhZaWj-9"
      },
      "cell_type": "markdown",
      "source": [
        "As precision and recall have the same value the F1-Score has automatically the same value too. Again, we are very close to 1.0 which indicates strong performance."
      ]
    },
    {
      "metadata": {
        "_cell_guid": "9d6084f2-7121-4ef6-8f62-ce434f94f4ea",
        "_uuid": "91e2f9ced455f5a8f02a80cb5ff035ba3228f7f4",
        "id": "rRR8mjQoWj-9"
      },
      "cell_type": "markdown",
      "source": [
        "## Summary"
      ]
    },
    {
      "metadata": {
        "_cell_guid": "93e6bbb6-c774-4ab9-b2a8-f71ee48196ed",
        "_uuid": "d1f96b80f16c196f063143c7afc88254474dd4ea",
        "id": "AU12018bWj-9"
      },
      "cell_type": "markdown",
      "source": [
        "In this notebook learned how to get data from the SDSS RD14, analyze the data (we learned some very interesting facts about our space along the way), how to build a machine learning model to predict for unseen data from this data set and how to improve its performance (even though there was only a slight improvent).\n",
        "We used XGBoost for predicting and evaluated its result.\n",
        "\n",
        "This project was very interesting to work on as I'm also interested in space and astronomy."
      ]
    }
  ],
  "metadata": {
    "language_info": {
      "name": "python",
      "version": "3.6.6",
      "mimetype": "text/x-python",
      "codemirror_mode": {
        "name": "ipython",
        "version": 3
      },
      "pygments_lexer": "ipython3",
      "nbconvert_exporter": "python",
      "file_extension": ".py"
    },
    "kernelspec": {
      "display_name": "Python 3",
      "language": "python",
      "name": "python3"
    },
    "colab": {
      "provenance": [],
      "include_colab_link": true
    }
  },
  "nbformat": 4,
  "nbformat_minor": 0
}